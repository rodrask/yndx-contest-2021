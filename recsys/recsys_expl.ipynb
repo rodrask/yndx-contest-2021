{
 "cells": [
  {
   "cell_type": "code",
   "execution_count": null,
   "metadata": {},
   "outputs": [],
   "source": [
    "%matplotlib inline\n",
    "%reload_ext autoreload\n",
    "%autoreload 2"
   ]
  },
  {
   "cell_type": "code",
   "execution_count": null,
   "metadata": {},
   "outputs": [],
   "source": [
    "import numpy as np\n",
    "import pandas as pd\n",
    "import seaborn as sns\n",
    "import matplotlib.pyplot as plt"
   ]
  },
  {
   "cell_type": "code",
   "execution_count": null,
   "metadata": {},
   "outputs": [],
   "source": [
    "from load_functions import *"
   ]
  },
  {
   "cell_type": "code",
   "execution_count": null,
   "metadata": {},
   "outputs": [],
   "source": [
    "test_users = pd.read_csv('test_users.csv', dtype=str, names=['user_id'])\n",
    "users_df = load_users('users.csv', test_users)\n",
    "orgs_df = load_orgs('organisations.csv')"
   ]
  },
  {
   "cell_type": "code",
   "execution_count": null,
   "metadata": {},
   "outputs": [],
   "source": [
    "aspects = load_aspects()\n",
    "rubrics = load_rubrics(orgs_df=orgs_df)\n",
    "features = load_features(orgs_df=orgs_df)"
   ]
  },
  {
   "cell_type": "code",
   "execution_count": null,
   "metadata": {},
   "outputs": [],
   "source": [
    "reviews, user_agg, org_agg = load_reviews(users_df=users_df, orgs_df=orgs_df)\n",
    "orgs_df = orgs_df.merge(org_agg, on='org_id')\n",
    "users_df = users_df.merge(user_agg, on='user_id')"
   ]
  },
  {
   "cell_type": "code",
   "execution_count": null,
   "metadata": {},
   "outputs": [],
   "source": [
    "display(orgs_df.describe())\n",
    "fig, axs = plt.subplots(nrows=6 ,figsize = (25,16))\n",
    "sns.ecdfplot(data=orgs_df, x='average_bill',ax=axs[0])\n",
    "sns.histplot(data=orgs_df, x='rating', ax=axs[1])\n",
    "sns.histplot(data=orgs_df, x='rubrics_l', ax=axs[2], hue='city', stat='percent', bins=40)\n",
    "sns.histplot(data=orgs_df, x='features_l', ax=axs[3], hue='city', stat='percent',bins=40)\n",
    "sns.histplot(data=orgs_df, x='n_reviews', ax=axs[4], hue='city', stat='percent',bins=40)\n",
    "sns.histplot(data=orgs_df, x='n_travels', ax=axs[5], hue='city', stat='percent',bins=40)"
   ]
  },
  {
   "cell_type": "code",
   "execution_count": null,
   "metadata": {},
   "outputs": [],
   "source": [
    "g = sns.FacetGrid(orgs_df, col=\"city\",height=10, aspect=.7)\n",
    "g.map(sns.scatterplot, \"average_bill\",\"rating\")"
   ]
  },
  {
   "cell_type": "code",
   "execution_count": null,
   "metadata": {},
   "outputs": [],
   "source": [
    "fig, axs = plt.subplots(nrows=3 ,figsize = (15,16))\n",
    "sns.ecdfplot(data=review_stats[review_stats.n_ratings<10], x='n_ratings', stat='proportion', ax=axs[0])\n",
    "sns.histplot(data=review_stats, x='mean_rating', stat='proportion', ax=axs[1], bins=6)\n",
    "sns.ecdfplot(data=review_stats[review_stats.mean_aspects<4], x='mean_aspects', stat='proportion', ax=axs[2])"
   ]
  },
  {
   "cell_type": "code",
   "execution_count": null,
   "metadata": {},
   "outputs": [],
   "source": [
    "fig, axs = plt.subplots(nrows=2 ,figsize = (15,16))\n",
    "sns.histplot(data=reviews, x='in_test', stat='percent', ax=axs[0])\n",
    "sns.histplot(data=reviews, x='travel', stat='percent', ax=axs[1])"
   ]
  },
  {
   "cell_type": "code",
   "execution_count": null,
   "metadata": {},
   "outputs": [],
   "source": [
    "sns.histplot(count_stat, x='rating', bins=[1,2,3,5,10,50], stat='percent')"
   ]
  }
 ],
 "metadata": {
  "kernelspec": {
   "display_name": "Python 3",
   "language": "python",
   "name": "python3"
  },
  "language_info": {
   "codemirror_mode": {
    "name": "ipython",
    "version": 3
   },
   "file_extension": ".py",
   "mimetype": "text/x-python",
   "name": "python",
   "nbconvert_exporter": "python",
   "pygments_lexer": "ipython3",
   "version": "3.8.10"
  }
 },
 "nbformat": 4,
 "nbformat_minor": 4
}
