{
 "cells": [
  {
   "cell_type": "code",
   "execution_count": 1,
   "metadata": {},
   "outputs": [],
   "source": [
    "%matplotlib inline\n",
    "%reload_ext autoreload\n",
    "%autoreload 2"
   ]
  },
  {
   "cell_type": "code",
   "execution_count": 2,
   "metadata": {},
   "outputs": [],
   "source": [
    "import numpy as np\n",
    "import pandas as pd\n",
    "import seaborn as sns\n",
    "import matplotlib.pyplot as plt\n",
    "from scipy import sparse\n",
    "import gc"
   ]
  },
  {
   "cell_type": "code",
   "execution_count": 3,
   "metadata": {},
   "outputs": [
    {
     "name": "stdout",
     "output_type": "stream",
     "text": [
      "INFO: Pandarallel will run on 4 workers.\n",
      "INFO: Pandarallel will use standard multiprocessing data transfer (pipe) to transfer data between the main process and workers.\n"
     ]
    }
   ],
   "source": [
    "from load_functions import *\n",
    "from transform_functions import *\n",
    "from score_functions import *\n",
    "from i2i_functions import *\n",
    "from attributes_recs import *\n",
    "from pandarallel import pandarallel\n",
    "pandarallel.initialize(progress_bar=True)"
   ]
  },
  {
   "cell_type": "code",
   "execution_count": 4,
   "metadata": {},
   "outputs": [
    {
     "name": "stdout",
     "output_type": "stream",
     "text": [
      "16967 1252801\n"
     ]
    }
   ],
   "source": [
    "test_users = pd.read_csv('test_users.csv', dtype=str, names=['user_id'],header=0)\n",
    "users_df = load_users('users.csv', test_users)\n",
    "orgs_df = load_orgs('organisations.csv')\n",
    "test_users_with_city = users_df[users_df.in_test==1][['user_id','city']]\n",
    "print(len(test_users),len(users_df))"
   ]
  },
  {
   "cell_type": "code",
   "execution_count": 5,
   "metadata": {},
   "outputs": [
    {
     "name": "stdout",
     "output_type": "stream",
     "text": [
      "3640835, 66405, 1252801\n"
     ]
    }
   ],
   "source": [
    "reviews, user_agg, org_agg = load_reviews(users_df=users_df, orgs_df=orgs_df)\n",
    "orgs_df = orgs_df.merge(org_agg, on='org_id')\n",
    "users_df = users_df.merge(user_agg, on='user_id', how='left')\n",
    "print(f\"{len(reviews)}, {len(orgs_df)}, {len(users_df)}\")"
   ]
  },
  {
   "cell_type": "code",
   "execution_count": 6,
   "metadata": {},
   "outputs": [],
   "source": [
    "test_users_df = test_users_with_city\\\n",
    "    .merge(reviews[reviews.rating>=4.0][['user_id','org_id']], on='user_id', how='left')\\\n",
    "    .groupby(['user_id','city'])\\\n",
    "    .aggregate(list)\\\n",
    "    .reset_index()"
   ]
  },
  {
   "cell_type": "code",
   "execution_count": 7,
   "metadata": {},
   "outputs": [
    {
     "name": "stdout",
     "output_type": "stream",
     "text": [
      "3617038 14583\n"
     ]
    }
   ],
   "source": [
    "train_reviews, test_reviews = train_test_split(reviews, users_df, \n",
    "                                               min_user_reviews=2,\n",
    "                                               min_ts=700,\n",
    "                                               frac=0.5)\n",
    "print(len(train_reviews), len(test_reviews))"
   ]
  },
  {
   "cell_type": "code",
   "execution_count": 8,
   "metadata": {},
   "outputs": [],
   "source": [
    "features = load_features(orgs_df=orgs_df)\n",
    "rubrics = load_rubrics(orgs_df=orgs_df)"
   ]
  },
  {
   "cell_type": "code",
   "execution_count": 10,
   "metadata": {},
   "outputs": [
    {
     "name": "stdout",
     "output_type": "stream",
     "text": [
      "INFO: Pandarallel will run on 4 workers.\n",
      "INFO: Pandarallel will use standard multiprocessing data transfer (pipe) to transfer data between the main process and workers.\n"
     ]
    }
   ],
   "source": [
    "pandarallel.initialize(progress_bar=False)\n",
    "mr=50\n",
    "l2=1e5\n",
    "result, encs = prepare_reviews_i2i(train_reviews, users_df, orgs_df,\n",
    "                                   min_reviews_per_user=2,\n",
    "                                   min_org_reviews=mr,\n",
    "                                   min_travels_reviews=4,\n",
    "                                   min_org_score=4.0)\n",
    "m = reviews_matrix(result, encs)\n",
    "cc_mat = m.T * m\n",
    "ease_sim = ease_solution(cc_mat, l2=l2).T\n",
    "ease_preds = i2i_predict(ease_sim, test_reviews, encs, N=60)"
   ]
  },
  {
   "cell_type": "code",
   "execution_count": 13,
   "metadata": {},
   "outputs": [
    {
     "name": "stdout",
     "output_type": "stream",
     "text": [
      "INFO: Pandarallel will run on 4 workers.\n",
      "INFO: Pandarallel will use standard multiprocessing data transfer (pipe) to transfer data between the main process and workers.\n"
     ]
    },
    {
     "data": {
      "application/vnd.jupyter.widget-view+json": {
       "model_id": "0ac771bb78a54e688dfaad5260c99b08",
       "version_major": 2,
       "version_minor": 0
      },
      "text/plain": [
       "VBox(children=(HBox(children=(IntProgress(value=0, description='0.00%', max=3646), Label(value='0 / 3646'))), …"
      ]
     },
     "metadata": {},
     "output_type": "display_data"
    },
    {
     "name": "stdout",
     "output_type": "stream",
     "text": [
      "INFO: Pandarallel will run on 4 workers.\n",
      "INFO: Pandarallel will use standard multiprocessing data transfer (pipe) to transfer data between the main process and workers.\n",
      "20 0.1309772600739849\n",
      "60 0.20746913555994764\n",
      ">=1 0.1309772600739849\n",
      "<=1 0.12382545981062901\n",
      ">=3 0.13071293226369457\n",
      "<=3 0.13307796843744685\n",
      ">=5 0.1283614103024054\n",
      "<=5 0.1323972005891526\n",
      ">=10 0.11931865723469234\n",
      "<=10 0.1345211036820662\n",
      ">=20 0.10889422399056625\n",
      "<=20 0.1331644535391358\n"
     ]
    }
   ],
   "source": [
    "rubrics_enc = AttrEncoders(orgs_df, rubrics, \n",
    "                        colname='rubric_id',\n",
    "                        org_colname='rubrics_id')\n",
    "rubrics_enc.build_attr_org_mat(ease_sim, encs)\n",
    "pandarallel.initialize(progress_bar=True)\n",
    "rubrics_recs = rubrics_enc.attr_predict(test_reviews, encs, N=60)\n",
    "pandarallel.initialize(progress_bar=False)\n",
    "for N in [20,60]:\n",
    "    print(f\"{N} {recall(test_reviews, rubrics_recs, N=N)}\")\n",
    "for t_size in [1,3,5,10,20]:\n",
    "    test_preds = test_reviews[test_reviews.org_id.str.len()>=t_size]\n",
    "    print(f\">={t_size} {recall(test_preds, rubrics_recs)}\")\n",
    "    test_preds = test_reviews[test_reviews.org_id.str.len()<=t_size]\n",
    "    print(f\"<={t_size} {recall(test_preds, rubrics_recs)}\")"
   ]
  },
  {
   "cell_type": "code",
   "execution_count": 16,
   "metadata": {
    "scrolled": false
   },
   "outputs": [
    {
     "name": "stdout",
     "output_type": "stream",
     "text": [
      "20 0.13065904776002113\n",
      "60 0.20394763114360046\n",
      ">=1 0.13065904776002113\n",
      "<=1 0.12069887998975178\n",
      ">=3 0.13150241013473077\n",
      "<=3 0.13162712593976408\n",
      ">=5 0.12893773279238033\n",
      "<=5 0.13155598770521038\n",
      ">=10 0.11921733641077853\n",
      "<=10 0.1342451719206995\n",
      ">=20 0.1089949639100563\n",
      "<=20 0.13283549105969455\n"
     ]
    }
   ],
   "source": [
    "feature_enc = AttrEncoders(orgs_df, features, \n",
    "                        colname='feature_id',\n",
    "                        org_colname='features_id')\n",
    "feature_enc.build_attr_org_mat(ease_sim, encs)\n",
    "feature_preds = feature_enc.attr_predict(test_reviews, encs, N=60)\n",
    "\n",
    "for N in [20,60]:\n",
    "    print(f\"{N} {recall(test_reviews, feature_preds, N=N)}\")\n",
    "for t_size in [1,3,5,10,20]:\n",
    "    test_preds = test_reviews[test_reviews.org_id.str.len()>=t_size]\n",
    "    print(f\">={t_size} {recall(test_preds, feature_preds)}\")\n",
    "    test_preds = test_reviews[test_reviews.org_id.str.len()<=t_size]\n",
    "    print(f\"<={t_size} {recall(test_preds, feature_preds)}\")"
   ]
  },
  {
   "cell_type": "code",
   "execution_count": null,
   "metadata": {
    "scrolled": true
   },
   "outputs": [],
   "source": [
    "mr=50\n",
    "l2=1e5\n",
    "result, encs = prepare_reviews_i2i(train_reviews, users_df, orgs_df,\n",
    "                                   min_reviews_per_user=2,\n",
    "                                   min_org_reviews=mr,\n",
    "                                   min_travels_reviews=4,\n",
    "                                   min_org_score=4.0)\n",
    "m = reviews_matrix(result, encs)\n",
    "cc_mat = m.T * m\n",
    "print(f\"mr: {mr} {len(result)}\") \n",
    "print(f\"l2: {l2}\")\n",
    "ease_sim = ease_solution(cc_mat, l2=l2).T\n",
    "del m\n",
    "del cc_mat\n",
    "gc.collect()\n",
    "ease_preds = i2i_predict(ease_sim, test_reviews, encs, N=60)\n",
    "# for N in [20,60]:\n",
    "#     print(f\"{N} {recall(test_reviews, ease_preds, N=N)}\")\n",
    "# for t_size in [1,3,5,10,20]:\n",
    "#     test_preds = test_reviews[test_reviews.org_id.str.len()>=t_size]\n",
    "#     print(f\">={t_size} {recall(test_preds, ease_preds)}\")\n",
    "#     test_preds = test_reviews[test_reviews.org_id.str.len()<=t_size]\n",
    "#     print(f\"<={t_size} {recall(test_preds, ease_preds)}\")\n",
    "\n",
    "# mnap_score = mnap(test_preds, ease_preds)\n",
    "# print_score(mnap_score)"
   ]
  },
  {
   "cell_type": "code",
   "execution_count": null,
   "metadata": {},
   "outputs": [],
   "source": [
    "ease_preds = i2i_predict(ease_sim, test_users_df, encs)\n",
    "validate_preds(fallback_with_top_recs(ease_preds, orgs_df), orgs_df, users_df)"
   ]
  },
  {
   "cell_type": "code",
   "execution_count": null,
   "metadata": {},
   "outputs": [],
   "source": [
    "save_predictions(fallback_with_top_recs(ease_preds, orgs_df), path='ease_ans.csv')"
   ]
  },
  {
   "cell_type": "code",
   "execution_count": 21,
   "metadata": {},
   "outputs": [
    {
     "data": {
      "text/html": [
       "<div>\n",
       "<style scoped>\n",
       "    .dataframe tbody tr th:only-of-type {\n",
       "        vertical-align: middle;\n",
       "    }\n",
       "\n",
       "    .dataframe tbody tr th {\n",
       "        vertical-align: top;\n",
       "    }\n",
       "\n",
       "    .dataframe thead th {\n",
       "        text-align: right;\n",
       "    }\n",
       "</style>\n",
       "<table border=\"1\" class=\"dataframe\">\n",
       "  <thead>\n",
       "    <tr style=\"text-align: right;\">\n",
       "      <th></th>\n",
       "      <th>user_id</th>\n",
       "      <th>org_id</th>\n",
       "      <th>target</th>\n",
       "      <th>city</th>\n",
       "    </tr>\n",
       "  </thead>\n",
       "  <tbody>\n",
       "    <tr>\n",
       "      <th>0</th>\n",
       "      <td>10001706002943608531</td>\n",
       "      <td>[15250345250621165867, 13567855329363715883, 6...</td>\n",
       "      <td>[8333731978912449416]</td>\n",
       "      <td>msk</td>\n",
       "    </tr>\n",
       "    <tr>\n",
       "      <th>1</th>\n",
       "      <td>10002747919095316231</td>\n",
       "      <td>[12710385033822863571]</td>\n",
       "      <td>[16781089025309172995]</td>\n",
       "      <td>msk</td>\n",
       "    </tr>\n",
       "    <tr>\n",
       "      <th>2</th>\n",
       "      <td>10004407154823998155</td>\n",
       "      <td>[6086962021284491292]</td>\n",
       "      <td>[17100111766319823484]</td>\n",
       "      <td>msk</td>\n",
       "    </tr>\n",
       "    <tr>\n",
       "      <th>3</th>\n",
       "      <td>10005883421366692807</td>\n",
       "      <td>[9104453017196776235, 16785419493666881395, 16...</td>\n",
       "      <td>[17214645308532312848, 18082340557576449859]</td>\n",
       "      <td>msk</td>\n",
       "    </tr>\n",
       "    <tr>\n",
       "      <th>4</th>\n",
       "      <td>10006413168486885833</td>\n",
       "      <td>[338111669548333930, 10953068897945996446, 170...</td>\n",
       "      <td>[8022186758461891078]</td>\n",
       "      <td>msk</td>\n",
       "    </tr>\n",
       "  </tbody>\n",
       "</table>\n",
       "</div>"
      ],
      "text/plain": [
       "                user_id                                             org_id  \\\n",
       "0  10001706002943608531  [15250345250621165867, 13567855329363715883, 6...   \n",
       "1  10002747919095316231                             [12710385033822863571]   \n",
       "2  10004407154823998155                              [6086962021284491292]   \n",
       "3  10005883421366692807  [9104453017196776235, 16785419493666881395, 16...   \n",
       "4  10006413168486885833  [338111669548333930, 10953068897945996446, 170...   \n",
       "\n",
       "                                         target city  \n",
       "0                         [8333731978912449416]  msk  \n",
       "1                        [16781089025309172995]  msk  \n",
       "2                        [17100111766319823484]  msk  \n",
       "3  [17214645308532312848, 18082340557576449859]  msk  \n",
       "4                         [8022186758461891078]  msk  "
      ]
     },
     "execution_count": 21,
     "metadata": {},
     "output_type": "execute_result"
    }
   ],
   "source": [
    "test_reviews.head()"
   ]
  },
  {
   "cell_type": "code",
   "execution_count": 22,
   "metadata": {},
   "outputs": [
    {
     "data": {
      "text/html": [
       "<div>\n",
       "<style scoped>\n",
       "    .dataframe tbody tr th:only-of-type {\n",
       "        vertical-align: middle;\n",
       "    }\n",
       "\n",
       "    .dataframe tbody tr th {\n",
       "        vertical-align: top;\n",
       "    }\n",
       "\n",
       "    .dataframe thead th {\n",
       "        text-align: right;\n",
       "    }\n",
       "</style>\n",
       "<table border=\"1\" class=\"dataframe\">\n",
       "  <thead>\n",
       "    <tr style=\"text-align: right;\">\n",
       "      <th></th>\n",
       "      <th>ease</th>\n",
       "      <th>features</th>\n",
       "      <th>ease_features</th>\n",
       "      <th>imp_ease</th>\n",
       "      <th>imp_features</th>\n",
       "    </tr>\n",
       "  </thead>\n",
       "  <tbody>\n",
       "    <tr>\n",
       "      <th>count</th>\n",
       "      <td>5268.000000</td>\n",
       "      <td>5268.000000</td>\n",
       "      <td>5268.000000</td>\n",
       "      <td>5268.000000</td>\n",
       "      <td>5268.000000</td>\n",
       "    </tr>\n",
       "    <tr>\n",
       "      <th>mean</th>\n",
       "      <td>0.190585</td>\n",
       "      <td>0.254556</td>\n",
       "      <td>0.317008</td>\n",
       "      <td>0.062453</td>\n",
       "      <td>0.126424</td>\n",
       "    </tr>\n",
       "    <tr>\n",
       "      <th>std</th>\n",
       "      <td>0.441499</td>\n",
       "      <td>0.495210</td>\n",
       "      <td>0.543284</td>\n",
       "      <td>0.259417</td>\n",
       "      <td>0.355542</td>\n",
       "    </tr>\n",
       "    <tr>\n",
       "      <th>min</th>\n",
       "      <td>0.000000</td>\n",
       "      <td>0.000000</td>\n",
       "      <td>0.000000</td>\n",
       "      <td>0.000000</td>\n",
       "      <td>0.000000</td>\n",
       "    </tr>\n",
       "    <tr>\n",
       "      <th>25%</th>\n",
       "      <td>0.000000</td>\n",
       "      <td>0.000000</td>\n",
       "      <td>0.000000</td>\n",
       "      <td>0.000000</td>\n",
       "      <td>0.000000</td>\n",
       "    </tr>\n",
       "    <tr>\n",
       "      <th>50%</th>\n",
       "      <td>0.000000</td>\n",
       "      <td>0.000000</td>\n",
       "      <td>0.000000</td>\n",
       "      <td>0.000000</td>\n",
       "      <td>0.000000</td>\n",
       "    </tr>\n",
       "    <tr>\n",
       "      <th>75%</th>\n",
       "      <td>0.000000</td>\n",
       "      <td>0.000000</td>\n",
       "      <td>1.000000</td>\n",
       "      <td>0.000000</td>\n",
       "      <td>0.000000</td>\n",
       "    </tr>\n",
       "    <tr>\n",
       "      <th>max</th>\n",
       "      <td>4.000000</td>\n",
       "      <td>4.000000</td>\n",
       "      <td>4.000000</td>\n",
       "      <td>3.000000</td>\n",
       "      <td>4.000000</td>\n",
       "    </tr>\n",
       "  </tbody>\n",
       "</table>\n",
       "</div>"
      ],
      "text/plain": [
       "              ease     features  ease_features     imp_ease  imp_features\n",
       "count  5268.000000  5268.000000    5268.000000  5268.000000   5268.000000\n",
       "mean      0.190585     0.254556       0.317008     0.062453      0.126424\n",
       "std       0.441499     0.495210       0.543284     0.259417      0.355542\n",
       "min       0.000000     0.000000       0.000000     0.000000      0.000000\n",
       "25%       0.000000     0.000000       0.000000     0.000000      0.000000\n",
       "50%       0.000000     0.000000       0.000000     0.000000      0.000000\n",
       "75%       0.000000     0.000000       1.000000     0.000000      0.000000\n",
       "max       4.000000     4.000000       4.000000     3.000000      4.000000"
      ]
     },
     "execution_count": 22,
     "metadata": {},
     "output_type": "execute_result"
    }
   ],
   "source": [
    "compare_ranks(test_reviews[test_reviews.org_id.str.len()<3], ease_preds, feature_preds, ['ease','features']).describe()"
   ]
  },
  {
   "cell_type": "code",
   "execution_count": 24,
   "metadata": {},
   "outputs": [
    {
     "data": {
      "text/html": [
       "<div>\n",
       "<style scoped>\n",
       "    .dataframe tbody tr th:only-of-type {\n",
       "        vertical-align: middle;\n",
       "    }\n",
       "\n",
       "    .dataframe tbody tr th {\n",
       "        vertical-align: top;\n",
       "    }\n",
       "\n",
       "    .dataframe thead th {\n",
       "        text-align: right;\n",
       "    }\n",
       "</style>\n",
       "<table border=\"1\" class=\"dataframe\">\n",
       "  <thead>\n",
       "    <tr style=\"text-align: right;\">\n",
       "      <th></th>\n",
       "      <th>ease</th>\n",
       "      <th>rubrics</th>\n",
       "      <th>ease_rubrics</th>\n",
       "      <th>imp_ease</th>\n",
       "      <th>imp_rubrics</th>\n",
       "    </tr>\n",
       "  </thead>\n",
       "  <tbody>\n",
       "    <tr>\n",
       "      <th>count</th>\n",
       "      <td>5268.000000</td>\n",
       "      <td>5268.000000</td>\n",
       "      <td>5268.000000</td>\n",
       "      <td>5268.000000</td>\n",
       "      <td>5268.000000</td>\n",
       "    </tr>\n",
       "    <tr>\n",
       "      <th>mean</th>\n",
       "      <td>0.190585</td>\n",
       "      <td>0.264047</td>\n",
       "      <td>0.324412</td>\n",
       "      <td>0.060364</td>\n",
       "      <td>0.133827</td>\n",
       "    </tr>\n",
       "    <tr>\n",
       "      <th>std</th>\n",
       "      <td>0.441499</td>\n",
       "      <td>0.505469</td>\n",
       "      <td>0.550572</td>\n",
       "      <td>0.252124</td>\n",
       "      <td>0.368354</td>\n",
       "    </tr>\n",
       "    <tr>\n",
       "      <th>min</th>\n",
       "      <td>0.000000</td>\n",
       "      <td>0.000000</td>\n",
       "      <td>0.000000</td>\n",
       "      <td>0.000000</td>\n",
       "      <td>0.000000</td>\n",
       "    </tr>\n",
       "    <tr>\n",
       "      <th>25%</th>\n",
       "      <td>0.000000</td>\n",
       "      <td>0.000000</td>\n",
       "      <td>0.000000</td>\n",
       "      <td>0.000000</td>\n",
       "      <td>0.000000</td>\n",
       "    </tr>\n",
       "    <tr>\n",
       "      <th>50%</th>\n",
       "      <td>0.000000</td>\n",
       "      <td>0.000000</td>\n",
       "      <td>0.000000</td>\n",
       "      <td>0.000000</td>\n",
       "      <td>0.000000</td>\n",
       "    </tr>\n",
       "    <tr>\n",
       "      <th>75%</th>\n",
       "      <td>0.000000</td>\n",
       "      <td>0.000000</td>\n",
       "      <td>1.000000</td>\n",
       "      <td>0.000000</td>\n",
       "      <td>0.000000</td>\n",
       "    </tr>\n",
       "    <tr>\n",
       "      <th>max</th>\n",
       "      <td>4.000000</td>\n",
       "      <td>4.000000</td>\n",
       "      <td>4.000000</td>\n",
       "      <td>3.000000</td>\n",
       "      <td>4.000000</td>\n",
       "    </tr>\n",
       "  </tbody>\n",
       "</table>\n",
       "</div>"
      ],
      "text/plain": [
       "              ease      rubrics  ease_rubrics     imp_ease  imp_rubrics\n",
       "count  5268.000000  5268.000000   5268.000000  5268.000000  5268.000000\n",
       "mean      0.190585     0.264047      0.324412     0.060364     0.133827\n",
       "std       0.441499     0.505469      0.550572     0.252124     0.368354\n",
       "min       0.000000     0.000000      0.000000     0.000000     0.000000\n",
       "25%       0.000000     0.000000      0.000000     0.000000     0.000000\n",
       "50%       0.000000     0.000000      0.000000     0.000000     0.000000\n",
       "75%       0.000000     0.000000      1.000000     0.000000     0.000000\n",
       "max       4.000000     4.000000      4.000000     3.000000     4.000000"
      ]
     },
     "execution_count": 24,
     "metadata": {},
     "output_type": "execute_result"
    }
   ],
   "source": [
    "compare_ranks(test_reviews[test_reviews.org_id.str.len()<3], ease_preds, rubrics_recs, ['ease','rubrics']).describe()"
   ]
  },
  {
   "cell_type": "code",
   "execution_count": null,
   "metadata": {},
   "outputs": [],
   "source": []
  }
 ],
 "metadata": {
  "kernelspec": {
   "display_name": "Python 3 (ipykernel)",
   "language": "python",
   "name": "python3"
  },
  "language_info": {
   "codemirror_mode": {
    "name": "ipython",
    "version": 3
   },
   "file_extension": ".py",
   "mimetype": "text/x-python",
   "name": "python",
   "nbconvert_exporter": "python",
   "pygments_lexer": "ipython3",
   "version": "3.9.5"
  }
 },
 "nbformat": 4,
 "nbformat_minor": 4
}
