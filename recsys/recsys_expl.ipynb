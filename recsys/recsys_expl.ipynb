{
 "cells": [
  {
   "cell_type": "code",
   "execution_count": 144,
   "metadata": {},
   "outputs": [],
   "source": [
    "%matplotlib inline\n",
    "%reload_ext autoreload\n",
    "%autoreload 2"
   ]
  },
  {
   "cell_type": "code",
   "execution_count": 145,
   "metadata": {},
   "outputs": [],
   "source": [
    "import numpy as np\n",
    "import pandas as pd\n",
    "import seaborn as sns\n",
    "import matplotlib.pyplot as plt\n",
    "from scipy import sparse"
   ]
  },
  {
   "cell_type": "code",
   "execution_count": 382,
   "metadata": {},
   "outputs": [],
   "source": [
    "from load_functions import *\n",
    "from transform_functions import *\n",
    "from score_functions import *\n",
    "from i2i_functions import *"
   ]
  },
  {
   "cell_type": "code",
   "execution_count": 180,
   "metadata": {},
   "outputs": [
    {
     "name": "stdout",
     "output_type": "stream",
     "text": [
      "16967 1252801 16967\n"
     ]
    }
   ],
   "source": [
    "test_users = pd.read_csv('test_users.csv', dtype=str, names=['user_id'],header=0)\n",
    "users_df = load_users('users.csv', test_users)\n",
    "orgs_df = load_orgs('organisations.csv')\n",
    "test_users_with_city = users_df[users_df.in_test==1][['user_id','city']]\n",
    "print(len(test_users),len(users_df),len(test_users_with_city))"
   ]
  },
  {
   "cell_type": "code",
   "execution_count": 184,
   "metadata": {},
   "outputs": [],
   "source": [
    "reviews, user_agg, org_agg = load_reviews(users_df=users_df, orgs_df=orgs_df)\n",
    "orgs_df = orgs_df.merge(org_agg, on='org_id')\n",
    "users_df = users_df.merge(user_agg, on='user_id', how='left')"
   ]
  },
  {
   "cell_type": "code",
   "execution_count": 181,
   "metadata": {},
   "outputs": [],
   "source": [
    "test_users_df = test_users_with_city\\\n",
    "    .merge(reviews[reviews.rating>=4.0][['user_id','org_id']], on='user_id', how='left')\\\n",
    "    .groupby(['user_id','city'])\\\n",
    "    .aggregate(list)\\\n",
    "    .reset_index()"
   ]
  },
  {
   "cell_type": "code",
   "execution_count": 399,
   "metadata": {},
   "outputs": [
    {
     "name": "stdout",
     "output_type": "stream",
     "text": [
      "3617059 14642\n"
     ]
    }
   ],
   "source": [
    "train_reviews, test_reviews = train_test_split(reviews, users_df, \n",
    "                                               min_user_reviews=2,\n",
    "                                               min_ts=700,\n",
    "                                               frac=0.5)\n",
    "print(len(train_reviews), len(test_reviews))"
   ]
  },
  {
   "cell_type": "code",
   "execution_count": 385,
   "metadata": {},
   "outputs": [],
   "source": [
    "result, encs = prepare_reviews_i2i(train_reviews, users_df, orgs_df,\n",
    "                                   min_reviews_per_user=2,\n",
    "                                   min_org_reviews=30,\n",
    "                                   min_travels_reviews=2,\n",
    "                                   min_org_score=4.0)"
   ]
  },
  {
   "cell_type": "code",
   "execution_count": 386,
   "metadata": {},
   "outputs": [],
   "source": [
    "m = reviews_matrix(result, encs)\n",
    "cc_mat = m.T * m"
   ]
  },
  {
   "cell_type": "code",
   "execution_count": 387,
   "metadata": {},
   "outputs": [],
   "source": [
    "ease_sim = ease_solution(cc_mat, l2=50000).T\n",
    "ease_preds = i2i_predict(ease_sim, test_reviews, encs, N=60)"
   ]
  },
  {
   "cell_type": "code",
   "execution_count": 388,
   "metadata": {},
   "outputs": [
    {
     "name": "stdout",
     "output_type": "stream",
     "text": [
      "10 0.14026238212285747\n",
      "20 0.18170837149578437\n",
      "30 0.20899337723387515\n",
      "40 0.2313278911384628\n",
      "50 0.2507910766231922\n",
      "60 0.26462639027770135\n"
     ]
    }
   ],
   "source": [
    "for N in [10,20,30,40,50,60]:\n",
    "    print(f\"{N} {recall(test_reviews, ease_preds, N=N)}\")"
   ]
  },
  {
   "cell_type": "code",
   "execution_count": 398,
   "metadata": {},
   "outputs": [
    {
     "name": "stdout",
     "output_type": "stream",
     "text": [
      "1 0.18170837149578437\n",
      "2 0.18312086133735567\n",
      "4 0.18747929892131837\n",
      "5 0.1898706167268364\n",
      "10 0.18563706839604602\n",
      "20 0.18552395135785546\n",
      "30 0.18220732841637788\n"
     ]
    }
   ],
   "source": [
    "for t_size in [1,2,4,5,10,20,30]:\n",
    "    test_preds = test_reviews[test_reviews.org_id.str.len()>=t_size]\n",
    "    print(f\"{t_size} {recall(test_preds, ease_preds)}\")"
   ]
  },
  {
   "cell_type": "code",
   "execution_count": 337,
   "metadata": {},
   "outputs": [
    {
     "data": {
      "text/plain": [
       "(0.4429693997227922, 0.4440867657696127)"
      ]
     },
     "execution_count": 337,
     "metadata": {},
     "output_type": "execute_result"
    }
   ],
   "source": [
    "recall(ease_preds, J_preds),recall(J_preds,ease_preds)"
   ]
  },
  {
   "cell_type": "code",
   "execution_count": 237,
   "metadata": {},
   "outputs": [
    {
     "name": "stdout",
     "output_type": "stream",
     "text": [
      "All good\n"
     ]
    }
   ],
   "source": [
    "validate_preds(fallback_with_top_recs(ease_preds, orgs_df), orgs_df, users_df)"
   ]
  },
  {
   "cell_type": "code",
   "execution_count": 241,
   "metadata": {},
   "outputs": [],
   "source": [
    "save_predictions(fallback_with_top_recs(merged, orgs_df), path='merged_ans.csv')"
   ]
  },
  {
   "cell_type": "code",
   "execution_count": 219,
   "metadata": {},
   "outputs": [],
   "source": [
    "save_predictions(fallback_with_top_recs(pmi_preds, orgs_df), path='pmi_ans.csv')"
   ]
  },
  {
   "cell_type": "code",
   "execution_count": 248,
   "metadata": {},
   "outputs": [],
   "source": [
    "save_predictions(fallback_with_top_recs(ease_preds, orgs_df), path='ease_ans.csv')"
   ]
  },
  {
   "cell_type": "code",
   "execution_count": 196,
   "metadata": {},
   "outputs": [],
   "source": [
    "save_predictions(fallback_with_top_recs(J_preds,orgs_df), path='J_ans.csv')"
   ]
  },
  {
   "cell_type": "code",
   "execution_count": 23,
   "metadata": {},
   "outputs": [],
   "source": [
    "aspects = load_aspects()\n",
    "rubrics = load_rubrics(orgs_df=orgs_df)\n",
    "features = load_features(orgs_df=orgs_df)"
   ]
  }
 ],
 "metadata": {
  "kernelspec": {
   "display_name": "Python 3 (ipykernel)",
   "language": "python",
   "name": "python3"
  },
  "language_info": {
   "codemirror_mode": {
    "name": "ipython",
    "version": 3
   },
   "file_extension": ".py",
   "mimetype": "text/x-python",
   "name": "python",
   "nbconvert_exporter": "python",
   "pygments_lexer": "ipython3",
   "version": "3.9.5"
  }
 },
 "nbformat": 4,
 "nbformat_minor": 4
}
