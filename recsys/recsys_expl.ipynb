{
 "cells": [
  {
   "cell_type": "code",
   "execution_count": 1,
   "metadata": {},
   "outputs": [],
   "source": [
    "%matplotlib inline\n",
    "%reload_ext autoreload\n",
    "%autoreload 2"
   ]
  },
  {
   "cell_type": "code",
   "execution_count": 14,
   "metadata": {},
   "outputs": [],
   "source": [
    "import numpy as np\n",
    "import pandas as pd\n",
    "import seaborn as sns\n",
    "import matplotlib.pyplot as plt\n",
    "from scipy import sparse\n",
    "import gc"
   ]
  },
  {
   "cell_type": "code",
   "execution_count": 3,
   "metadata": {},
   "outputs": [
    {
     "name": "stdout",
     "output_type": "stream",
     "text": [
      "INFO: Pandarallel will run on 2 workers.\n",
      "INFO: Pandarallel will use Memory file system to transfer data between the main process and workers.\n"
     ]
    }
   ],
   "source": [
    "from load_functions import *\n",
    "from transform_functions import *\n",
    "from score_functions import *\n",
    "from i2i_functions import *\n",
    "from pandarallel import pandarallel\n",
    "pandarallel.initialize(nb_workers=2)"
   ]
  },
  {
   "cell_type": "code",
   "execution_count": 4,
   "metadata": {},
   "outputs": [
    {
     "name": "stdout",
     "output_type": "stream",
     "text": [
      "16967 1252801\n"
     ]
    }
   ],
   "source": [
    "test_users = pd.read_csv('test_users.csv', dtype=str, names=['user_id'],header=0)\n",
    "users_df = load_users('users.csv', test_users)\n",
    "orgs_df = load_orgs('organisations.csv')\n",
    "test_users_with_city = users_df[users_df.in_test==1][['user_id','city']]\n",
    "print(len(test_users),len(users_df))"
   ]
  },
  {
   "cell_type": "code",
   "execution_count": 5,
   "metadata": {},
   "outputs": [
    {
     "name": "stdout",
     "output_type": "stream",
     "text": [
      "3640835, 66405, 1252801\n"
     ]
    }
   ],
   "source": [
    "reviews, user_agg, org_agg = load_reviews(users_df=users_df, orgs_df=orgs_df)\n",
    "orgs_df = orgs_df.merge(org_agg, on='org_id')\n",
    "users_df = users_df.merge(user_agg, on='user_id', how='left')\n",
    "print(f\"{len(reviews)}, {len(orgs_df)}, {len(users_df)}\")"
   ]
  },
  {
   "cell_type": "code",
   "execution_count": 6,
   "metadata": {},
   "outputs": [],
   "source": [
    "test_users_df = test_users_with_city\\\n",
    "    .merge(reviews[reviews.rating>=4.0][['user_id','org_id']], on='user_id', how='left')\\\n",
    "    .groupby(['user_id','city'])\\\n",
    "    .aggregate(list)\\\n",
    "    .reset_index()"
   ]
  },
  {
   "cell_type": "code",
   "execution_count": 7,
   "metadata": {},
   "outputs": [
    {
     "name": "stdout",
     "output_type": "stream",
     "text": [
      "3616942 14686\n"
     ]
    }
   ],
   "source": [
    "train_reviews, test_reviews = train_test_split(reviews, users_df, \n",
    "                                               min_user_reviews=2,\n",
    "                                               min_ts=700,\n",
    "                                               frac=0.5)\n",
    "print(len(train_reviews), len(test_reviews))"
   ]
  },
  {
   "cell_type": "code",
   "execution_count": 13,
   "metadata": {},
   "outputs": [],
   "source": [
    "features = load_features(orgs_df=orgs_df)"
   ]
  },
  {
   "cell_type": "code",
   "execution_count": 23,
   "metadata": {},
   "outputs": [],
   "source": [
    "f_enc = LabelEncoder()\n",
    "f_enc.fit(features.feature_id)\n",
    "idxs = f_enc.transform(features.feature_id)\n",
    "weights = np.zeros_like(f_enc.classes_)\n",
    "weights[idxs] = features.count_normed"
   ]
  },
  {
   "cell_type": "code",
   "execution_count": 18,
   "metadata": {
    "scrolled": true
   },
   "outputs": [
    {
     "name": "stdout",
     "output_type": "stream",
     "text": [
      "INFO: Pandarallel will run on 8 workers.\n",
      "INFO: Pandarallel will use Memory file system to transfer data between the main process and workers.\n",
      "mr: 50 1824586\n",
      "l2: 100000.0\n",
      "20 0.16636250826786952\n",
      "60 0.23823992756664156\n",
      ">=1 0.16636250826786952\n",
      "<=1 0.09671909175519473\n",
      ">=3 0.19387225288058352\n",
      "<=3 0.13048324088902508\n",
      ">=5 0.19741752009044003\n",
      "<=5 0.1454468133398027\n",
      ">=10 0.1981108486831644\n",
      "<=10 0.1586594248407221\n",
      ">=20 0.1928343385712538\n",
      "<=20 0.16449288273666612\n",
      "MNAP-score: 100.18\n"
     ]
    }
   ],
   "source": [
    "pandarallel.initialize(nb_workers=8)\n",
    "mr=50\n",
    "l2=1e5\n",
    "result, encs = prepare_reviews_i2i(train_reviews, users_df, orgs_df,\n",
    "                                   min_reviews_per_user=2,\n",
    "                                   min_org_reviews=mr,\n",
    "                                   min_travels_reviews=2,\n",
    "                                   min_org_score=3.0)\n",
    "m = reviews_matrix(result, encs)\n",
    "cc_mat = m.T * m\n",
    "print(f\"mr: {mr} {len(result)}\") \n",
    "print(f\"l2: {l2}\")\n",
    "ease_sim = ease_solution(cc_mat, l2=l2).T\n",
    "del m\n",
    "del cc_mat\n",
    "gc.collect()\n",
    "ease_preds = i2i_predict(ease_sim, test_reviews, encs, N=60)\n",
    "for N in [20,60]:\n",
    "    print(f\"{N} {recall(test_reviews, ease_preds, N=N)}\")\n",
    "for t_size in [1,3,5,10,20]:\n",
    "    test_preds = test_reviews[test_reviews.org_id.str.len()>=t_size]\n",
    "    print(f\">={t_size} {recall(test_preds, ease_preds)}\")\n",
    "    test_preds = test_reviews[test_reviews.org_id.str.len()<=t_size]\n",
    "    print(f\"<={t_size} {recall(test_preds, ease_preds)}\")\n",
    "\n",
    "mnap_score = mnap(test_preds, ease_preds)\n",
    "print_score(mnap_score)"
   ]
  },
  {
   "cell_type": "code",
   "execution_count": 16,
   "metadata": {},
   "outputs": [
    {
     "name": "stdout",
     "output_type": "stream",
     "text": [
      "All good\n"
     ]
    }
   ],
   "source": [
    "ease_preds = i2i_predict(ease_sim, test_users_df, encs)\n",
    "validate_preds(fallback_with_top_recs(ease_preds, orgs_df), orgs_df, users_df)"
   ]
  },
  {
   "cell_type": "code",
   "execution_count": 17,
   "metadata": {},
   "outputs": [],
   "source": [
    "save_predictions(fallback_with_top_recs(ease_preds, orgs_df), path='ease_ans.csv')"
   ]
  },
  {
   "cell_type": "code",
   "execution_count": 23,
   "metadata": {},
   "outputs": [],
   "source": [
    "aspects = load_aspects()\n",
    "rubrics = load_rubrics(orgs_df=orgs_df)\n",
    "features = load_features(orgs_df=orgs_df)"
   ]
  }
 ],
 "metadata": {
  "kernelspec": {
   "display_name": "Python 3 (ipykernel)",
   "language": "python",
   "name": "python3"
  },
  "language_info": {
   "codemirror_mode": {
    "name": "ipython",
    "version": 3
   },
   "file_extension": ".py",
   "mimetype": "text/x-python",
   "name": "python",
   "nbconvert_exporter": "python",
   "pygments_lexer": "ipython3",
   "version": "3.9.7"
  }
 },
 "nbformat": 4,
 "nbformat_minor": 4
}
