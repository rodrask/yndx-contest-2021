{
 "cells": [
  {
   "cell_type": "code",
   "execution_count": 1,
   "metadata": {},
   "outputs": [],
   "source": [
    "%matplotlib inline\n",
    "%reload_ext autoreload\n",
    "%autoreload 2"
   ]
  },
  {
   "cell_type": "code",
   "execution_count": 2,
   "metadata": {},
   "outputs": [],
   "source": [
    "import numpy as np\n",
    "import pandas as pd\n",
    "import seaborn as sns\n",
    "import matplotlib.pyplot as plt\n",
    "from scipy import sparse\n",
    "import gc"
   ]
  },
  {
   "cell_type": "code",
   "execution_count": 74,
   "metadata": {},
   "outputs": [
    {
     "name": "stdout",
     "output_type": "stream",
     "text": [
      "INFO: Pandarallel will run on 8 workers.\n",
      "INFO: Pandarallel will use Memory file system to transfer data between the main process and workers.\n"
     ]
    }
   ],
   "source": [
    "from load_functions import *\n",
    "from transform_functions import *\n",
    "from score_functions import *\n",
    "from i2i_functions import *\n",
    "from attributes_recs import *\n",
    "from pandarallel import pandarallel\n",
    "pandarallel.initialize(progress_bar=True)"
   ]
  },
  {
   "cell_type": "code",
   "execution_count": 6,
   "metadata": {},
   "outputs": [
    {
     "name": "stdout",
     "output_type": "stream",
     "text": [
      "16967 1252801\n"
     ]
    },
    {
     "data": {
      "text/html": [
       "<div>\n",
       "<style scoped>\n",
       "    .dataframe tbody tr th:only-of-type {\n",
       "        vertical-align: middle;\n",
       "    }\n",
       "\n",
       "    .dataframe tbody tr th {\n",
       "        vertical-align: top;\n",
       "    }\n",
       "\n",
       "    .dataframe thead th {\n",
       "        text-align: right;\n",
       "    }\n",
       "</style>\n",
       "<table border=\"1\" class=\"dataframe\">\n",
       "  <thead>\n",
       "    <tr style=\"text-align: right;\">\n",
       "      <th></th>\n",
       "      <th>org_id</th>\n",
       "      <th>city</th>\n",
       "      <th>average_bill</th>\n",
       "      <th>rating</th>\n",
       "      <th>rubrics_id</th>\n",
       "      <th>features_id</th>\n",
       "      <th>combined_id</th>\n",
       "    </tr>\n",
       "  </thead>\n",
       "  <tbody>\n",
       "    <tr>\n",
       "      <th>0</th>\n",
       "      <td>16848414477362211020</td>\n",
       "      <td>spb</td>\n",
       "      <td>1000.0</td>\n",
       "      <td>4.479702</td>\n",
       "      <td>[30776, 31375]</td>\n",
       "      <td>[1018, 1509, 11177, 11617, 11629, 11704, 11867...</td>\n",
       "      <td>[30776, 31375, 1018, 1509, 11177, 11617, 11629...</td>\n",
       "    </tr>\n",
       "    <tr>\n",
       "      <th>1</th>\n",
       "      <td>1430604733320164116</td>\n",
       "      <td>spb</td>\n",
       "      <td>1000.0</td>\n",
       "      <td>4.514509</td>\n",
       "      <td>[30776, 30770]</td>\n",
       "      <td>[246, 1018, 11617, 11629, 11704, 11867, 20422,...</td>\n",
       "      <td>[30776, 30770, 246, 1018, 11617, 11629, 11704,...</td>\n",
       "    </tr>\n",
       "    <tr>\n",
       "      <th>2</th>\n",
       "      <td>9880309324224147401</td>\n",
       "      <td>spb</td>\n",
       "      <td>1000.0</td>\n",
       "      <td>3.884615</td>\n",
       "      <td>[30770, 30774]</td>\n",
       "      <td>[1018, 11177, 11617, 11629, 11704, 11867, 2042...</td>\n",
       "      <td>[30770, 30774, 1018, 11177, 11617, 11629, 1170...</td>\n",
       "    </tr>\n",
       "    <tr>\n",
       "      <th>3</th>\n",
       "      <td>5617879987171966456</td>\n",
       "      <td>spb</td>\n",
       "      <td>1000.0</td>\n",
       "      <td>NaN</td>\n",
       "      <td>[30774, 30775]</td>\n",
       "      <td>[1018, 1509, 10596, 11177, 11629, 11634, 11704...</td>\n",
       "      <td>[30774, 30775, 1018, 1509, 10596, 11177, 11629...</td>\n",
       "    </tr>\n",
       "    <tr>\n",
       "      <th>4</th>\n",
       "      <td>5241461680470612149</td>\n",
       "      <td>spb</td>\n",
       "      <td>1000.0</td>\n",
       "      <td>4.532468</td>\n",
       "      <td>[30776]</td>\n",
       "      <td>[1018, 11177, 11617, 11629, 11704, 11867, 2042...</td>\n",
       "      <td>[30776, 1018, 11177, 11617, 11629, 11704, 1186...</td>\n",
       "    </tr>\n",
       "  </tbody>\n",
       "</table>\n",
       "</div>"
      ],
      "text/plain": [
       "                 org_id city  average_bill    rating      rubrics_id  \\\n",
       "0  16848414477362211020  spb        1000.0  4.479702  [30776, 31375]   \n",
       "1   1430604733320164116  spb        1000.0  4.514509  [30776, 30770]   \n",
       "2   9880309324224147401  spb        1000.0  3.884615  [30770, 30774]   \n",
       "3   5617879987171966456  spb        1000.0       NaN  [30774, 30775]   \n",
       "4   5241461680470612149  spb        1000.0  4.532468         [30776]   \n",
       "\n",
       "                                         features_id  \\\n",
       "0  [1018, 1509, 11177, 11617, 11629, 11704, 11867...   \n",
       "1  [246, 1018, 11617, 11629, 11704, 11867, 20422,...   \n",
       "2  [1018, 11177, 11617, 11629, 11704, 11867, 2042...   \n",
       "3  [1018, 1509, 10596, 11177, 11629, 11634, 11704...   \n",
       "4  [1018, 11177, 11617, 11629, 11704, 11867, 2042...   \n",
       "\n",
       "                                         combined_id  \n",
       "0  [30776, 31375, 1018, 1509, 11177, 11617, 11629...  \n",
       "1  [30776, 30770, 246, 1018, 11617, 11629, 11704,...  \n",
       "2  [30770, 30774, 1018, 11177, 11617, 11629, 1170...  \n",
       "3  [30774, 30775, 1018, 1509, 10596, 11177, 11629...  \n",
       "4  [30776, 1018, 11177, 11617, 11629, 11704, 1186...  "
      ]
     },
     "execution_count": 6,
     "metadata": {},
     "output_type": "execute_result"
    }
   ],
   "source": [
    "test_users = pd.read_csv('test_users.csv', dtype=str, names=['user_id'],header=0)\n",
    "users_df = load_users('users.csv', test_users)\n",
    "orgs_df = load_orgs('organisations.csv')\n",
    "orgs_df=enrich_orgs(orgs_df, reviews)\n",
    "combined_features = load_combined([\"rubrics.csv\",\"features.csv\"], orgs_df=orgs_df)\n",
    "test_users_with_city = users_df[users_df.in_test==1][['user_id','city']]\n",
    "print(len(test_users),len(users_df))\n",
    "orgs_df.head()"
   ]
  },
  {
   "cell_type": "code",
   "execution_count": 7,
   "metadata": {},
   "outputs": [
    {
     "name": "stdout",
     "output_type": "stream",
     "text": [
      "3640835\n"
     ]
    },
    {
     "data": {
      "text/html": [
       "<div>\n",
       "<style scoped>\n",
       "    .dataframe tbody tr th:only-of-type {\n",
       "        vertical-align: middle;\n",
       "    }\n",
       "\n",
       "    .dataframe tbody tr th {\n",
       "        vertical-align: top;\n",
       "    }\n",
       "\n",
       "    .dataframe thead th {\n",
       "        text-align: right;\n",
       "    }\n",
       "</style>\n",
       "<table border=\"1\" class=\"dataframe\">\n",
       "  <thead>\n",
       "    <tr style=\"text-align: right;\">\n",
       "      <th></th>\n",
       "      <th>user_id</th>\n",
       "      <th>org_id</th>\n",
       "      <th>rating</th>\n",
       "      <th>ts</th>\n",
       "      <th>aspects</th>\n",
       "      <th>good</th>\n",
       "      <th>user_city</th>\n",
       "      <th>in_test</th>\n",
       "      <th>org_city</th>\n",
       "      <th>travel</th>\n",
       "    </tr>\n",
       "  </thead>\n",
       "  <tbody>\n",
       "    <tr>\n",
       "      <th>0</th>\n",
       "      <td>16998268288908323644</td>\n",
       "      <td>7184895086928047809</td>\n",
       "      <td>2.0</td>\n",
       "      <td>105</td>\n",
       "      <td>[]</td>\n",
       "      <td>0</td>\n",
       "      <td>msk</td>\n",
       "      <td>0</td>\n",
       "      <td>msk</td>\n",
       "      <td>0</td>\n",
       "    </tr>\n",
       "    <tr>\n",
       "      <th>1</th>\n",
       "      <td>3121447338909258868</td>\n",
       "      <td>7184895086928047809</td>\n",
       "      <td>5.0</td>\n",
       "      <td>464</td>\n",
       "      <td>[]</td>\n",
       "      <td>1</td>\n",
       "      <td>msk</td>\n",
       "      <td>0</td>\n",
       "      <td>msk</td>\n",
       "      <td>0</td>\n",
       "    </tr>\n",
       "    <tr>\n",
       "      <th>2</th>\n",
       "      <td>1970649778250883025</td>\n",
       "      <td>7184895086928047809</td>\n",
       "      <td>3.0</td>\n",
       "      <td>789</td>\n",
       "      <td>[]</td>\n",
       "      <td>0</td>\n",
       "      <td>msk</td>\n",
       "      <td>0</td>\n",
       "      <td>msk</td>\n",
       "      <td>0</td>\n",
       "    </tr>\n",
       "    <tr>\n",
       "      <th>3</th>\n",
       "      <td>7554889464530643866</td>\n",
       "      <td>7184895086928047809</td>\n",
       "      <td>4.0</td>\n",
       "      <td>936</td>\n",
       "      <td>[]</td>\n",
       "      <td>1</td>\n",
       "      <td>msk</td>\n",
       "      <td>0</td>\n",
       "      <td>msk</td>\n",
       "      <td>0</td>\n",
       "    </tr>\n",
       "    <tr>\n",
       "      <th>4</th>\n",
       "      <td>15907910894057053620</td>\n",
       "      <td>7184895086928047809</td>\n",
       "      <td>1.0</td>\n",
       "      <td>1143</td>\n",
       "      <td>[]</td>\n",
       "      <td>0</td>\n",
       "      <td>msk</td>\n",
       "      <td>0</td>\n",
       "      <td>msk</td>\n",
       "      <td>0</td>\n",
       "    </tr>\n",
       "  </tbody>\n",
       "</table>\n",
       "</div>"
      ],
      "text/plain": [
       "                user_id               org_id  rating    ts aspects  good  \\\n",
       "0  16998268288908323644  7184895086928047809     2.0   105      []     0   \n",
       "1   3121447338909258868  7184895086928047809     5.0   464      []     1   \n",
       "2   1970649778250883025  7184895086928047809     3.0   789      []     0   \n",
       "3   7554889464530643866  7184895086928047809     4.0   936      []     1   \n",
       "4  15907910894057053620  7184895086928047809     1.0  1143      []     0   \n",
       "\n",
       "  user_city  in_test org_city  travel  \n",
       "0       msk        0      msk       0  \n",
       "1       msk        0      msk       0  \n",
       "2       msk        0      msk       0  \n",
       "3       msk        0      msk       0  \n",
       "4       msk        0      msk       0  "
      ]
     },
     "execution_count": 7,
     "metadata": {},
     "output_type": "execute_result"
    }
   ],
   "source": [
    "reviews = load_reviews(\"reviews.csv\",users_df=users_df, orgs_df=orgs_df)\n",
    "print(f\"{len(reviews)}\")\n",
    "reviews.head()"
   ]
  },
  {
   "cell_type": "code",
   "execution_count": 45,
   "metadata": {},
   "outputs": [
    {
     "name": "stdout",
     "output_type": "stream",
     "text": [
      "16967 16967\n"
     ]
    }
   ],
   "source": [
    "test_users_df = test_users_with_city\\\n",
    "    .merge(reviews[reviews.good>0][['user_id','org_id']], on='user_id', how='left', indicator=True)\n",
    "good_test_users = test_users_df[test_users_df[\"_merge\"]=='both']\\\n",
    "    .groupby(['user_id','city'])\\\n",
    "    .agg(org_id=pd.NamedAgg(\"org_id\", aggfunc=list)).reset_index()\n",
    "\n",
    "empty_test_users = test_users_df[test_users_df[\"_merge\"]=='left_only'][['user_id','city']]\n",
    "empty_test_users['org_id'] = [[] for _ in empty_test_users.itertuples()]\n",
    "test_users_df = pd.concat([good_test_users, empty_test_users], ignore_index=True)\n",
    "print(len(test_users_df), len(test_users_with_city))"
   ]
  },
  {
   "cell_type": "code",
   "execution_count": 92,
   "metadata": {},
   "outputs": [
    {
     "name": "stdout",
     "output_type": "stream",
     "text": [
      "3610239 19009\n"
     ]
    }
   ],
   "source": [
    "train_reviews, test_reviews = train_test_split(reviews, users_df, \n",
    "                                               min_ts=900,\n",
    "                                               frac=1)\n",
    "print(len(train_reviews), len(test_reviews))"
   ]
  },
  {
   "cell_type": "code",
   "execution_count": 94,
   "metadata": {},
   "outputs": [
    {
     "name": "stdout",
     "output_type": "stream",
     "text": [
      "INFO: Pandarallel will run on 8 workers.\n",
      "INFO: Pandarallel will use Memory file system to transfer data between the main process and workers.\n",
      "1398599\n",
      "20 0.12794991083641055\n",
      "60 0.19425207547114723\n",
      ">=1 0.12794991083641055\n",
      "<=1 0.05740080434857973\n",
      ">=3 0.15880711171241363\n",
      "<=3 0.08587515651018693\n",
      ">=5 0.17125753513839348\n",
      "<=5 0.10062228488826563\n",
      ">=10 0.17297835812116868\n",
      "<=10 0.11669372815013836\n",
      ">=20 0.1811580406332944\n",
      "<=20 0.12361280182875026\n"
     ]
    }
   ],
   "source": [
    "pandarallel.initialize(progress_bar=False)\n",
    "mr=50\n",
    "l2=1e5\n",
    "result, encs = prepare_reviews_i2i(train_reviews, orgs_df,\n",
    "                                   min_reviews_per_user=2,\n",
    "                                   min_org_reviews=mr,\n",
    "                                   min_travels_reviews=2,\n",
    "                                   min_org_score=3.0)\n",
    "print(len(result))\n",
    "m = reviews_matrix(result, encs)\n",
    "cc_mat = m.T * m\n",
    "ease_sim = ease_solution(cc_mat, l2=l2).T\n",
    "ease_preds = i2i_predict(ease_sim, test_reviews, encs, N=60)\n",
    "for N in [20,60]:\n",
    "    print(f\"{N} {recall(test_reviews, ease_preds, N=N)}\")\n",
    "for t_size in [1,3,5,10,20]:\n",
    "    test_preds = test_reviews[test_reviews.org_id.str.len()>=t_size]\n",
    "    print(f\">={t_size} {recall(test_preds, ease_preds)}\")\n",
    "    test_preds = test_reviews[test_reviews.org_id.str.len()<=t_size]\n",
    "    print(f\"<={t_size} {recall(test_preds, ease_preds)}\")"
   ]
  },
  {
   "cell_type": "code",
   "execution_count": 12,
   "metadata": {},
   "outputs": [],
   "source": [
    "combined_enc = AttrEncoders(orgs_df, combined_features, \n",
    "                        colname='combined_id',\n",
    "                        org_colname='combined_id')\n",
    "combined_enc.build_attr_org_mat(ease_sim, encs)\n",
    "# pandarallel.initialize(progress_bar=True)\n",
    "# combined_recs = combined_enc.attr_predict(test_reviews, encs, N=60)\n",
    "# pandarallel.initialize(progress_bar=False)\n",
    "# for N in [20,60]:\n",
    "#     print(f\"{N} {recall(test_reviews, combined_recs, N=N)}\")\n",
    "# for t_size in [1,3,5,10,20]:\n",
    "#     test_preds = test_reviews[test_reviews.org_id.str.len()>=t_size]\n",
    "#     print(f\">={t_size} {recall(test_preds, combined_recs)}\")\n",
    "#     test_preds = test_reviews[test_reviews.org_id.str.len()<=t_size]\n",
    "#     print(f\"<={t_size} {recall(test_preds, combined_recs)}\")"
   ]
  },
  {
   "cell_type": "code",
   "execution_count": 23,
   "metadata": {},
   "outputs": [
    {
     "ename": "NameError",
     "evalue": "name 'nan' is not defined",
     "output_type": "error",
     "traceback": [
      "\u001b[0;31m---------------------------------------------------------------------------\u001b[0m",
      "\u001b[0;31mNameError\u001b[0m                                 Traceback (most recent call last)",
      "\u001b[0;32m/tmp/ipykernel_3070/3908014561.py\u001b[0m in \u001b[0;36m<module>\u001b[0;34m\u001b[0m\n\u001b[0;32m----> 1\u001b[0;31m \u001b[0mtest_users_df\u001b[0m\u001b[0;34m[\u001b[0m\u001b[0mtest_users_df\u001b[0m\u001b[0;34m.\u001b[0m\u001b[0morg_id\u001b[0m\u001b[0;34m==\u001b[0m\u001b[0;34m[\u001b[0m\u001b[0mnan\u001b[0m\u001b[0;34m]\u001b[0m\u001b[0;34m]\u001b[0m\u001b[0;34m\u001b[0m\u001b[0;34m\u001b[0m\u001b[0m\n\u001b[0m",
      "\u001b[0;31mNameError\u001b[0m: name 'nan' is not defined"
     ]
    }
   ],
   "source": [
    "test_users_df[test_users_df.org_id==[fl]]"
   ]
  },
  {
   "cell_type": "code",
   "execution_count": 46,
   "metadata": {},
   "outputs": [],
   "source": [
    "for row in test_users_df.itertuples():\n",
    "    try:\n",
    "        if len(row.org_id)> 0:\n",
    "            features = combined_enc._get_features(row.org_id) \n",
    "            if features is None:\n",
    "                print(row)\n",
    "                break\n",
    "    except:\n",
    "        print(row)\n",
    "        break"
   ]
  },
  {
   "cell_type": "code",
   "execution_count": 61,
   "metadata": {},
   "outputs": [],
   "source": [
    "# pandarallel.initialize(progress_bar=False)\n",
    "ease_preds = i2i_predict(ease_sim, test_users_df, encs)\n",
    "# attr_preds = combined_enc.attr_predict(test_users_df, encs)\n",
    "# validate_preds(fallback_with_top_recs(ease_preds, orgs_df), orgs_df, users_df)"
   ]
  },
  {
   "cell_type": "code",
   "execution_count": 65,
   "metadata": {},
   "outputs": [
    {
     "data": {
      "text/html": [
       "<div>\n",
       "<style scoped>\n",
       "    .dataframe tbody tr th:only-of-type {\n",
       "        vertical-align: middle;\n",
       "    }\n",
       "\n",
       "    .dataframe tbody tr th {\n",
       "        vertical-align: top;\n",
       "    }\n",
       "\n",
       "    .dataframe thead th {\n",
       "        text-align: right;\n",
       "    }\n",
       "</style>\n",
       "<table border=\"1\" class=\"dataframe\">\n",
       "  <thead>\n",
       "    <tr style=\"text-align: right;\">\n",
       "      <th></th>\n",
       "      <th>user_id</th>\n",
       "      <th>city</th>\n",
       "      <th>org_id</th>\n",
       "    </tr>\n",
       "  </thead>\n",
       "  <tbody>\n",
       "    <tr>\n",
       "      <th>0</th>\n",
       "      <td>10003390898943363405</td>\n",
       "      <td>msk</td>\n",
       "      <td>[1703593138705417941, 7168943163090334846, 933...</td>\n",
       "    </tr>\n",
       "    <tr>\n",
       "      <th>1</th>\n",
       "      <td>10003578788635255367</td>\n",
       "      <td>spb</td>\n",
       "      <td>[12784724396885152442, 5756313314324569869, 97...</td>\n",
       "    </tr>\n",
       "    <tr>\n",
       "      <th>2</th>\n",
       "      <td>10004443955392665333</td>\n",
       "      <td>msk</td>\n",
       "      <td>[11165088907395841018, 7923904392511338698, 18...</td>\n",
       "    </tr>\n",
       "    <tr>\n",
       "      <th>3</th>\n",
       "      <td>10004634860212544956</td>\n",
       "      <td>msk</td>\n",
       "      <td>[13573322486152844808, 13573322486152844808, 5...</td>\n",
       "    </tr>\n",
       "    <tr>\n",
       "      <th>4</th>\n",
       "      <td>10004870073377911470</td>\n",
       "      <td>msk</td>\n",
       "      <td>[14942944192619480320]</td>\n",
       "    </tr>\n",
       "  </tbody>\n",
       "</table>\n",
       "</div>"
      ],
      "text/plain": [
       "                user_id city  \\\n",
       "0  10003390898943363405  msk   \n",
       "1  10003578788635255367  spb   \n",
       "2  10004443955392665333  msk   \n",
       "3  10004634860212544956  msk   \n",
       "4  10004870073377911470  msk   \n",
       "\n",
       "                                              org_id  \n",
       "0  [1703593138705417941, 7168943163090334846, 933...  \n",
       "1  [12784724396885152442, 5756313314324569869, 97...  \n",
       "2  [11165088907395841018, 7923904392511338698, 18...  \n",
       "3  [13573322486152844808, 13573322486152844808, 5...  \n",
       "4                             [14942944192619480320]  "
      ]
     },
     "execution_count": 65,
     "metadata": {},
     "output_type": "execute_result"
    }
   ],
   "source": [
    "test_users_df.head()"
   ]
  },
  {
   "cell_type": "code",
   "execution_count": 88,
   "metadata": {},
   "outputs": [
    {
     "data": {
      "text/html": [
       "<div>\n",
       "<style scoped>\n",
       "    .dataframe tbody tr th:only-of-type {\n",
       "        vertical-align: middle;\n",
       "    }\n",
       "\n",
       "    .dataframe tbody tr th {\n",
       "        vertical-align: top;\n",
       "    }\n",
       "\n",
       "    .dataframe thead th {\n",
       "        text-align: right;\n",
       "    }\n",
       "</style>\n",
       "<table border=\"1\" class=\"dataframe\">\n",
       "  <thead>\n",
       "    <tr style=\"text-align: right;\">\n",
       "      <th></th>\n",
       "      <th>user_id</th>\n",
       "      <th>city</th>\n",
       "      <th>target</th>\n",
       "    </tr>\n",
       "  </thead>\n",
       "  <tbody>\n",
       "    <tr>\n",
       "      <th>0</th>\n",
       "      <td>10003390898943363405</td>\n",
       "      <td>msk</td>\n",
       "      <td>[12046097390037935713, 14814427257061788801, 5...</td>\n",
       "    </tr>\n",
       "    <tr>\n",
       "      <th>1</th>\n",
       "      <td>10003578788635255367</td>\n",
       "      <td>spb</td>\n",
       "      <td>[15250345250621165867, 1625971115460696067, 57...</td>\n",
       "    </tr>\n",
       "    <tr>\n",
       "      <th>2</th>\n",
       "      <td>10004443955392665333</td>\n",
       "      <td>msk</td>\n",
       "      <td>[12046097390037935713, 14814427257061788801, 8...</td>\n",
       "    </tr>\n",
       "    <tr>\n",
       "      <th>3</th>\n",
       "      <td>10004634860212544956</td>\n",
       "      <td>msk</td>\n",
       "      <td>[12046097390037935713, 14814427257061788801, 5...</td>\n",
       "    </tr>\n",
       "    <tr>\n",
       "      <th>4</th>\n",
       "      <td>10004870073377911470</td>\n",
       "      <td>msk</td>\n",
       "      <td>[12046097390037935713, 14814427257061788801, 5...</td>\n",
       "    </tr>\n",
       "  </tbody>\n",
       "</table>\n",
       "</div>"
      ],
      "text/plain": [
       "                user_id city  \\\n",
       "0  10003390898943363405  msk   \n",
       "1  10003578788635255367  spb   \n",
       "2  10004443955392665333  msk   \n",
       "3  10004634860212544956  msk   \n",
       "4  10004870073377911470  msk   \n",
       "\n",
       "                                              target  \n",
       "0  [12046097390037935713, 14814427257061788801, 5...  \n",
       "1  [15250345250621165867, 1625971115460696067, 57...  \n",
       "2  [12046097390037935713, 14814427257061788801, 8...  \n",
       "3  [12046097390037935713, 14814427257061788801, 5...  \n",
       "4  [12046097390037935713, 14814427257061788801, 5...  "
      ]
     },
     "execution_count": 88,
     "metadata": {},
     "output_type": "execute_result"
    }
   ],
   "source": [
    "combined = combine_preds(test_users_df, ease_preds, attr_preds, min_len=3)\n",
    "combined.head()"
   ]
  },
  {
   "cell_type": "code",
   "execution_count": 89,
   "metadata": {},
   "outputs": [
    {
     "name": "stdout",
     "output_type": "stream",
     "text": [
      "All good\n"
     ]
    }
   ],
   "source": [
    "validate_preds(fallback_with_top_recs(combined, orgs_df), orgs_df, users_df)"
   ]
  },
  {
   "cell_type": "code",
   "execution_count": 90,
   "metadata": {},
   "outputs": [],
   "source": [
    "save_predictions(fallback_with_top_recs(combined, orgs_df), path='combined_ans.csv')"
   ]
  },
  {
   "cell_type": "code",
   "execution_count": 87,
   "metadata": {},
   "outputs": [],
   "source": [
    "save_predictions(fallback_with_top_recs(ease_preds, orgs_df), path='ease_ans.csv')"
   ]
  },
  {
   "cell_type": "code",
   "execution_count": null,
   "metadata": {},
   "outputs": [],
   "source": [
    "test_reviews.head()"
   ]
  },
  {
   "cell_type": "code",
   "execution_count": null,
   "metadata": {},
   "outputs": [],
   "source": [
    "compare_ranks(test_reviews[test_reviews.org_id.str.len()<3], ease_preds, combined_recs, ['ease','features']).describe()"
   ]
  },
  {
   "cell_type": "code",
   "execution_count": null,
   "metadata": {},
   "outputs": [],
   "source": [
    "compare_ranks(test_reviews[test_reviews.org_id.str.len()<3], ease_preds, rubrics_recs, ['ease','rubrics']).describe()"
   ]
  },
  {
   "cell_type": "code",
   "execution_count": null,
   "metadata": {},
   "outputs": [],
   "source": []
  }
 ],
 "metadata": {
  "kernelspec": {
   "display_name": "Python 3 (ipykernel)",
   "language": "python",
   "name": "python3"
  },
  "language_info": {
   "codemirror_mode": {
    "name": "ipython",
    "version": 3
   },
   "file_extension": ".py",
   "mimetype": "text/x-python",
   "name": "python",
   "nbconvert_exporter": "python",
   "pygments_lexer": "ipython3",
   "version": "3.9.7"
  }
 },
 "nbformat": 4,
 "nbformat_minor": 4
}
