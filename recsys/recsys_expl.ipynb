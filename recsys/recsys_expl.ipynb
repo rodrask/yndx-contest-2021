{
 "cells": [
  {
   "cell_type": "code",
   "execution_count": 1,
   "metadata": {},
   "outputs": [],
   "source": [
    "%matplotlib inline\n",
    "%reload_ext autoreload\n",
    "%autoreload 2"
   ]
  },
  {
   "cell_type": "code",
   "execution_count": 2,
   "metadata": {},
   "outputs": [],
   "source": [
    "import numpy as np\n",
    "import pandas as pd\n",
    "import seaborn as sns\n",
    "import matplotlib.pyplot as plt\n",
    "from scipy import sparse\n",
    "import gc\n",
    "import lightfm"
   ]
  },
  {
   "cell_type": "code",
   "execution_count": 3,
   "metadata": {},
   "outputs": [],
   "source": [
    "pd.set_option(\"display.max_columns\", 1000)"
   ]
  },
  {
   "cell_type": "code",
   "execution_count": 4,
   "metadata": {},
   "outputs": [
    {
     "name": "stdout",
     "output_type": "stream",
     "text": [
      "INFO: Pandarallel will run on 8 workers.\n",
      "INFO: Pandarallel will use Memory file system to transfer data between the main process and workers.\n"
     ]
    }
   ],
   "source": [
    "from load_functions import *\n",
    "from transform_functions import *\n",
    "from score_functions import *\n",
    "from i2i_functions import *\n",
    "from attributes_recs import *\n",
    "from learn_to_rank import *\n",
    "from pandarallel import pandarallel\n",
    "pandarallel.initialize(progress_bar=True)"
   ]
  },
  {
   "cell_type": "code",
   "execution_count": 5,
   "metadata": {},
   "outputs": [
    {
     "name": "stdout",
     "output_type": "stream",
     "text": [
      "16967 1252801\n"
     ]
    }
   ],
   "source": [
    "test_users = pd.read_csv('test_users.csv', dtype=str, names=['user_id'],header=0)\n",
    "users_df = load_users('users.csv', test_users)\n",
    "orgs_df = load_orgs('organisations.csv')\n",
    "combined_features = load_combined([\"rubrics.csv\",\"features.csv\"], orgs_df=orgs_df)\n",
    "test_users_with_city = users_df[users_df.in_test==1][['user_id','city']]\n",
    "print(len(test_users),len(users_df))"
   ]
  },
  {
   "cell_type": "code",
   "execution_count": 6,
   "metadata": {},
   "outputs": [
    {
     "name": "stdout",
     "output_type": "stream",
     "text": [
      "3640835\n"
     ]
    },
    {
     "data": {
      "text/html": [
       "<div>\n",
       "<style scoped>\n",
       "    .dataframe tbody tr th:only-of-type {\n",
       "        vertical-align: middle;\n",
       "    }\n",
       "\n",
       "    .dataframe tbody tr th {\n",
       "        vertical-align: top;\n",
       "    }\n",
       "\n",
       "    .dataframe thead th {\n",
       "        text-align: right;\n",
       "    }\n",
       "</style>\n",
       "<table border=\"1\" class=\"dataframe\">\n",
       "  <thead>\n",
       "    <tr style=\"text-align: right;\">\n",
       "      <th></th>\n",
       "      <th>user_id</th>\n",
       "      <th>org_id</th>\n",
       "      <th>rating</th>\n",
       "      <th>ts</th>\n",
       "      <th>aspects</th>\n",
       "      <th>good</th>\n",
       "      <th>user_city</th>\n",
       "      <th>in_test</th>\n",
       "      <th>org_city</th>\n",
       "      <th>travel</th>\n",
       "    </tr>\n",
       "  </thead>\n",
       "  <tbody>\n",
       "    <tr>\n",
       "      <th>0</th>\n",
       "      <td>16998268288908323644</td>\n",
       "      <td>7184895086928047809</td>\n",
       "      <td>2.0</td>\n",
       "      <td>105</td>\n",
       "      <td>[]</td>\n",
       "      <td>0</td>\n",
       "      <td>msk</td>\n",
       "      <td>0</td>\n",
       "      <td>msk</td>\n",
       "      <td>0</td>\n",
       "    </tr>\n",
       "    <tr>\n",
       "      <th>1</th>\n",
       "      <td>3121447338909258868</td>\n",
       "      <td>7184895086928047809</td>\n",
       "      <td>5.0</td>\n",
       "      <td>464</td>\n",
       "      <td>[]</td>\n",
       "      <td>1</td>\n",
       "      <td>msk</td>\n",
       "      <td>0</td>\n",
       "      <td>msk</td>\n",
       "      <td>0</td>\n",
       "    </tr>\n",
       "    <tr>\n",
       "      <th>2</th>\n",
       "      <td>1970649778250883025</td>\n",
       "      <td>7184895086928047809</td>\n",
       "      <td>3.0</td>\n",
       "      <td>789</td>\n",
       "      <td>[]</td>\n",
       "      <td>0</td>\n",
       "      <td>msk</td>\n",
       "      <td>0</td>\n",
       "      <td>msk</td>\n",
       "      <td>0</td>\n",
       "    </tr>\n",
       "    <tr>\n",
       "      <th>3</th>\n",
       "      <td>7554889464530643866</td>\n",
       "      <td>7184895086928047809</td>\n",
       "      <td>4.0</td>\n",
       "      <td>936</td>\n",
       "      <td>[]</td>\n",
       "      <td>1</td>\n",
       "      <td>msk</td>\n",
       "      <td>0</td>\n",
       "      <td>msk</td>\n",
       "      <td>0</td>\n",
       "    </tr>\n",
       "    <tr>\n",
       "      <th>4</th>\n",
       "      <td>15907910894057053620</td>\n",
       "      <td>7184895086928047809</td>\n",
       "      <td>1.0</td>\n",
       "      <td>1143</td>\n",
       "      <td>[]</td>\n",
       "      <td>0</td>\n",
       "      <td>msk</td>\n",
       "      <td>0</td>\n",
       "      <td>msk</td>\n",
       "      <td>0</td>\n",
       "    </tr>\n",
       "  </tbody>\n",
       "</table>\n",
       "</div>"
      ],
      "text/plain": [
       "                user_id               org_id  rating    ts aspects  good  \\\n",
       "0  16998268288908323644  7184895086928047809     2.0   105      []     0   \n",
       "1   3121447338909258868  7184895086928047809     5.0   464      []     1   \n",
       "2   1970649778250883025  7184895086928047809     3.0   789      []     0   \n",
       "3   7554889464530643866  7184895086928047809     4.0   936      []     1   \n",
       "4  15907910894057053620  7184895086928047809     1.0  1143      []     0   \n",
       "\n",
       "  user_city  in_test org_city  travel  \n",
       "0       msk        0      msk       0  \n",
       "1       msk        0      msk       0  \n",
       "2       msk        0      msk       0  \n",
       "3       msk        0      msk       0  \n",
       "4       msk        0      msk       0  "
      ]
     },
     "execution_count": 6,
     "metadata": {},
     "output_type": "execute_result"
    }
   ],
   "source": [
    "reviews = load_reviews(\"reviews.csv\", users_df=users_df, orgs_df=orgs_df)\n",
    "orgs_df=enrich_orgs(orgs_df, reviews)\n",
    "print(f\"{len(reviews)}\")\n",
    "reviews.head()"
   ]
  },
  {
   "cell_type": "code",
   "execution_count": 7,
   "metadata": {},
   "outputs": [
    {
     "name": "stdout",
     "output_type": "stream",
     "text": [
      "16967 16967\n"
     ]
    }
   ],
   "source": [
    "test_users_df = test_users_with_city\\\n",
    "    .merge(reviews[reviews.good>0][['user_id','org_id']], on='user_id', how='left', indicator=True)\n",
    "good_test_users = test_users_df[test_users_df[\"_merge\"]=='both']\\\n",
    "    .groupby(['user_id','city'])\\\n",
    "    .agg(org_id=pd.NamedAgg(\"org_id\", aggfunc=list)).reset_index()\n",
    "\n",
    "empty_test_users = test_users_df[test_users_df[\"_merge\"]=='left_only'][['user_id','city']]\n",
    "empty_test_users['org_id'] = [[] for _ in empty_test_users.itertuples()]\n",
    "final_test_users_df = pd.concat([good_test_users, empty_test_users], ignore_index=True)\n",
    "del test_users_df\n",
    "del good_test_users\n",
    "del empty_test_users\n",
    "print(len(final_test_users_df), len(test_users_with_city))"
   ]
  },
  {
   "cell_type": "code",
   "execution_count": 8,
   "metadata": {},
   "outputs": [
    {
     "name": "stdout",
     "output_type": "stream",
     "text": [
      "9556 9556\n"
     ]
    }
   ],
   "source": [
    "draft_train_reviews, draft_test_reviews = train_test_split(reviews, min_ts=1000)\n",
    "print(len(draft_train_reviews), len(draft_test_reviews))"
   ]
  },
  {
   "cell_type": "code",
   "execution_count": null,
   "metadata": {},
   "outputs": [],
   "source": [
    "train_pairs = draft_train_reviews.explode(\"org_id\").drop(columns='city')\n",
    "test_pairs = draft_test_reviews.explode(\"target\").rename(columns={'target':'org_id'})\n",
    "\n",
    "result, encs = prepare_reviews_i2i(reviews, orgs_df,\n",
    "                                   train_pairs, test_pairs,\n",
    "                                   min_reviews_per_user=2,\n",
    "                                   min_org_reviews=5,\n",
    "                                   min_travels_reviews=0,\n",
    "                                   min_org_score=4.0)\n",
    "may_be_in_draft = set(encs.orgs_enc.classes_)\n",
    "should_be_in_draft = set(draft_test_reviews.target.explode())\n",
    "print(len(result))\n",
    "print(f\"{len(may_be_in_draft)},{len(should_be_in_draft)},{len(may_be_in_draft&should_be_in_draft)/len(should_be_in_draft)}\")"
   ]
  },
  {
   "cell_type": "code",
   "execution_count": null,
   "metadata": {
    "scrolled": true
   },
   "outputs": [],
   "source": [
    "pandarallel.initialize(progress_bar=False, nb_workers=1)\n",
    "l2=1.0e5\n",
    "m = reviews_matrix(result, encs)\n",
    "cc_mat = m.T * m\n",
    "del m\n",
    "del cc_mat\n",
    "ease_sim = ease_solution(cc_mat, l2=l2)\n",
    "draft_ease_preds = i2i_predict(ease_sim.T, draft_train_reviews, encs, N=60)\n",
    "print(f\"MNAP: {mnap(draft_test_reviews, draft_ease_preds, N=20)}\")\n",
    "for N in [20,60]:\n",
    "    print(f\"{N} {recall(draft_test_reviews, draft_ease_preds, N=N).mean()}\")\n",
    "for t_size in [1,3,5,10,20,50]:\n",
    "    draft_test_preds = draft_test_reviews[draft_test_reviews.target.str.len()<=t_size]\n",
    "    print(f\"<={t_size} {recall(draft_test_preds, draft_ease_preds).mean()}\")"
   ]
  },
  {
   "cell_type": "code",
   "execution_count": null,
   "metadata": {},
   "outputs": [],
   "source": [
    "del cc_mat\n",
    "gc.collect()"
   ]
  },
  {
   "cell_type": "code",
   "execution_count": null,
   "metadata": {},
   "outputs": [],
   "source": [
    "combined_enc = AttrEncoders(orgs_df, combined_features, \n",
    "                        colname='combined_id',\n",
    "                        org_colname='combined_id')\n",
    "combined_enc.build_attr_org_mat(ease_sim, encs)\n",
    "pandarallel.initialize(progress_bar=False)\n",
    "draft_combined_recs = combined_enc.attr_predict(draft_train_reviews, encs, N=60)\n",
    "print(f\"{mnap(draft_test_reviews, draft_combined_recs, N=N)}\")\n",
    "for N in [20,60]:\n",
    "    print(f\"{N} {recall(draft_test_reviews, draft_combined_recs, N=N).mean()}\")\n",
    "for t_size in [1,3,5,10,20]:\n",
    "    draft_test_preds = draft_test_reviews[draft_test_reviews.target.str.len()<=t_size]\n",
    "    print(f\"<={t_size} {recall(draft_test_preds, draft_combined_recs).mean()}\")"
   ]
  },
  {
   "cell_type": "code",
   "execution_count": null,
   "metadata": {},
   "outputs": [],
   "source": [
    "draft_train_reviews.head()"
   ]
  },
  {
   "cell_type": "code",
   "execution_count": null,
   "metadata": {},
   "outputs": [],
   "source": [
    "merged_preds = combine_preds(draft_train_reviews, draft_ease_preds, draft_combined_recs, min_len=2)\n",
    "print(f\"{N} {recall(draft_test_reviews, merged_preds, N=20).mean()}\")\n",
    "# pool_builder = PoolBuilder(orgs_df, reviews)\n",
    "# final_train_data = pool_builder.build_big_pool(merged_preds, draft_test_reviews)"
   ]
  },
  {
   "cell_type": "code",
   "execution_count": null,
   "metadata": {},
   "outputs": [],
   "source": [
    "gc.collect()"
   ]
  },
  {
   "cell_type": "code",
   "execution_count": null,
   "metadata": {},
   "outputs": [],
   "source": [
    "train_ranking, valid_ranking = split_4_ranking(final_train_data)"
   ]
  },
  {
   "cell_type": "code",
   "execution_count": null,
   "metadata": {},
   "outputs": [],
   "source": [
    "train_pool = train_data_to_pool(train_ranking)\n",
    "valid_pool = train_data_to_pool(valid_ranking)"
   ]
  },
  {
   "cell_type": "code",
   "execution_count": null,
   "metadata": {},
   "outputs": [],
   "source": [
    "def cb_params():\n",
    "    return {\n",
    "    'custom_metric': ['PFound:top=2'],\n",
    "    'loss_function':\"YetiRank\",\n",
    "    'metric_period': 50,\n",
    "    'learning_rate': 0.2,\n",
    "    'l2_leaf_reg': 10,\n",
    "    'iterations': 10000\n",
    "}"
   ]
  },
  {
   "cell_type": "code",
   "execution_count": null,
   "metadata": {},
   "outputs": [],
   "source": [
    "model = CatBoost(cb_params())\n",
    "model.fit(train_pool, plot=True, eval_set=valid_pool, verbose=False)"
   ]
  },
  {
   "cell_type": "code",
   "execution_count": null,
   "metadata": {},
   "outputs": [],
   "source": [
    "pandarallel.initialize(progress_bar=False)\n",
    "valid_preds = cb_predict(model, valid_pool, valid_ranking.groups, valid_ranking.org_ids)\n",
    "print(f\"mnap {mnap(draft_test_reviews, valid_preds, N=20)}\")\n",
    "print(f\"recall {recall(draft_test_reviews, valid_preds, N=20).mean()}\")\n",
    "\n",
    "print(f\"mnap {mnap(draft_test_reviews, draft_ease_preds, N=20)}\")\n",
    "print(f\"recall {recall(draft_test_reviews, draft_ease_preds, N=20).mean()}\")"
   ]
  },
  {
   "cell_type": "markdown",
   "metadata": {},
   "source": [
    "## Final predicts"
   ]
  },
  {
   "cell_type": "code",
   "execution_count": 12,
   "metadata": {},
   "outputs": [
    {
     "name": "stdout",
     "output_type": "stream",
     "text": [
      "INFO: Pandarallel will run on 1 workers.\n",
      "INFO: Pandarallel will use Memory file system to transfer data between the main process and workers.\n",
      "INFO: Pandarallel will run on 8 workers.\n",
      "INFO: Pandarallel will use Memory file system to transfer data between the main process and workers.\n",
      "All good\n"
     ]
    }
   ],
   "source": [
    "result, encs = prepare_reviews_i2i(reviews, orgs_df,\n",
    "                                   None, None,\n",
    "                                   min_reviews_per_user=2,\n",
    "                                   min_org_reviews=5,\n",
    "                                   min_travels_reviews=0,\n",
    "                                   min_org_score=3.5)\n",
    "pandarallel.initialize(progress_bar=False, nb_workers=1)\n",
    "l2=1.0e5\n",
    "m = reviews_matrix(result, encs)\n",
    "cc_mat = m.T * m\n",
    "final_ease_sim = ease_solution(cc_mat, l2=l2).T\n",
    "del m\n",
    "del cc_mat\n",
    "final_draft_ease_preds = i2i_predict(final_ease_sim, final_test_users_df, encs, N=60)\n",
    "\n",
    "combined_enc = AttrEncoders(orgs_df, combined_features, \n",
    "                        colname='combined_id',\n",
    "                        org_colname='combined_id')\n",
    "combined_enc.build_attr_org_mat(final_ease_sim, encs)\n",
    "pandarallel.initialize(progress_bar=False)\n",
    "final_draft_combined_recs = combined_enc.attr_predict(final_test_users_df, encs, N=60)\n",
    "merged = combine_preds(final_test_users_df, final_draft_ease_preds, final_draft_combined_recs, min_len=1)\n",
    "merged['target'] = merged.target.apply(lambda t: t[:20])\n",
    "merged = fallback_with_top_recs(merged, orgs_df)\n",
    "validate_preds(merged, orgs_df, users_df, N=20)\n",
    "save_predictions(merged, \"final_ans.csv\")"
   ]
  },
  {
   "cell_type": "code",
   "execution_count": null,
   "metadata": {},
   "outputs": [],
   "source": [
    "merged_pairs = merged[['user_id','target']].explode('target')"
   ]
  },
  {
   "cell_type": "code",
   "execution_count": null,
   "metadata": {},
   "outputs": [],
   "source": [
    "# final_pool = pool_builder.build_test_pool(merged)\n",
    "# final_cb_pool = test_data_to_pool(final_pool)\n",
    "# final_preds = cb_predict(model, final_cb_pool, final_pool.groups, final_pool.org_ids)\n",
    "# validate_preds(final_preds, orgs_df, users_df, N=20)\n",
    "save_predictions(final_preds, \"reranked.csv\")"
   ]
  },
  {
   "cell_type": "code",
   "execution_count": null,
   "metadata": {},
   "outputs": [],
   "source": [
    "compare_preds(final_preds, draft_final_ease_preds)"
   ]
  }
 ],
 "metadata": {
  "kernelspec": {
   "display_name": "Python 3 (ipykernel)",
   "language": "python",
   "name": "python3"
  },
  "language_info": {
   "codemirror_mode": {
    "name": "ipython",
    "version": 3
   },
   "file_extension": ".py",
   "mimetype": "text/x-python",
   "name": "python",
   "nbconvert_exporter": "python",
   "pygments_lexer": "ipython3",
   "version": "3.9.7"
  }
 },
 "nbformat": 4,
 "nbformat_minor": 4
}
