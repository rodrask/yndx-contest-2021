{
 "cells": [
  {
   "cell_type": "code",
   "execution_count": 1,
   "metadata": {},
   "outputs": [],
   "source": [
    "%matplotlib inline\n",
    "%reload_ext autoreload\n",
    "%autoreload 2"
   ]
  },
  {
   "cell_type": "code",
   "execution_count": 2,
   "metadata": {},
   "outputs": [],
   "source": [
    "import numpy as np\n",
    "import pandas as pd\n",
    "import seaborn as sns\n",
    "import matplotlib.pyplot as plt\n",
    "from scipy import sparse\n",
    "import gc"
   ]
  },
  {
   "cell_type": "code",
   "execution_count": 136,
   "metadata": {},
   "outputs": [],
   "source": [
    "pd.set_option(\"display.max_columns\", 1000)"
   ]
  },
  {
   "cell_type": "code",
   "execution_count": 115,
   "metadata": {},
   "outputs": [
    {
     "name": "stdout",
     "output_type": "stream",
     "text": [
      "INFO: Pandarallel will run on 8 workers.\n",
      "INFO: Pandarallel will use Memory file system to transfer data between the main process and workers.\n"
     ]
    }
   ],
   "source": [
    "from load_functions import *\n",
    "from transform_functions import *\n",
    "from score_functions import *\n",
    "from i2i_functions import *\n",
    "from attributes_recs import *\n",
    "from learn_to_rank import *\n",
    "from pandarallel import pandarallel\n",
    "pandarallel.initialize(progress_bar=True)"
   ]
  },
  {
   "cell_type": "code",
   "execution_count": 6,
   "metadata": {},
   "outputs": [
    {
     "name": "stdout",
     "output_type": "stream",
     "text": [
      "16967 1252801\n"
     ]
    },
    {
     "data": {
      "text/html": [
       "<div>\n",
       "<style scoped>\n",
       "    .dataframe tbody tr th:only-of-type {\n",
       "        vertical-align: middle;\n",
       "    }\n",
       "\n",
       "    .dataframe tbody tr th {\n",
       "        vertical-align: top;\n",
       "    }\n",
       "\n",
       "    .dataframe thead th {\n",
       "        text-align: right;\n",
       "    }\n",
       "</style>\n",
       "<table border=\"1\" class=\"dataframe\">\n",
       "  <thead>\n",
       "    <tr style=\"text-align: right;\">\n",
       "      <th></th>\n",
       "      <th>org_id</th>\n",
       "      <th>city</th>\n",
       "      <th>average_bill</th>\n",
       "      <th>rating</th>\n",
       "      <th>rubrics_id</th>\n",
       "      <th>features_id</th>\n",
       "      <th>combined_id</th>\n",
       "    </tr>\n",
       "  </thead>\n",
       "  <tbody>\n",
       "    <tr>\n",
       "      <th>0</th>\n",
       "      <td>16848414477362211020</td>\n",
       "      <td>spb</td>\n",
       "      <td>1000.0</td>\n",
       "      <td>4.479702</td>\n",
       "      <td>[30776, 31375]</td>\n",
       "      <td>[1018, 1509, 11177, 11617, 11629, 11704, 11867...</td>\n",
       "      <td>[30776, 31375, 1018, 1509, 11177, 11617, 11629...</td>\n",
       "    </tr>\n",
       "    <tr>\n",
       "      <th>1</th>\n",
       "      <td>1430604733320164116</td>\n",
       "      <td>spb</td>\n",
       "      <td>1000.0</td>\n",
       "      <td>4.514509</td>\n",
       "      <td>[30776, 30770]</td>\n",
       "      <td>[246, 1018, 11617, 11629, 11704, 11867, 20422,...</td>\n",
       "      <td>[30776, 30770, 246, 1018, 11617, 11629, 11704,...</td>\n",
       "    </tr>\n",
       "    <tr>\n",
       "      <th>2</th>\n",
       "      <td>9880309324224147401</td>\n",
       "      <td>spb</td>\n",
       "      <td>1000.0</td>\n",
       "      <td>3.884615</td>\n",
       "      <td>[30770, 30774]</td>\n",
       "      <td>[1018, 11177, 11617, 11629, 11704, 11867, 2042...</td>\n",
       "      <td>[30770, 30774, 1018, 11177, 11617, 11629, 1170...</td>\n",
       "    </tr>\n",
       "    <tr>\n",
       "      <th>3</th>\n",
       "      <td>5617879987171966456</td>\n",
       "      <td>spb</td>\n",
       "      <td>1000.0</td>\n",
       "      <td>NaN</td>\n",
       "      <td>[30774, 30775]</td>\n",
       "      <td>[1018, 1509, 10596, 11177, 11629, 11634, 11704...</td>\n",
       "      <td>[30774, 30775, 1018, 1509, 10596, 11177, 11629...</td>\n",
       "    </tr>\n",
       "    <tr>\n",
       "      <th>4</th>\n",
       "      <td>5241461680470612149</td>\n",
       "      <td>spb</td>\n",
       "      <td>1000.0</td>\n",
       "      <td>4.532468</td>\n",
       "      <td>[30776]</td>\n",
       "      <td>[1018, 11177, 11617, 11629, 11704, 11867, 2042...</td>\n",
       "      <td>[30776, 1018, 11177, 11617, 11629, 11704, 1186...</td>\n",
       "    </tr>\n",
       "  </tbody>\n",
       "</table>\n",
       "</div>"
      ],
      "text/plain": [
       "                 org_id city  average_bill    rating      rubrics_id  \\\n",
       "0  16848414477362211020  spb        1000.0  4.479702  [30776, 31375]   \n",
       "1   1430604733320164116  spb        1000.0  4.514509  [30776, 30770]   \n",
       "2   9880309324224147401  spb        1000.0  3.884615  [30770, 30774]   \n",
       "3   5617879987171966456  spb        1000.0       NaN  [30774, 30775]   \n",
       "4   5241461680470612149  spb        1000.0  4.532468         [30776]   \n",
       "\n",
       "                                         features_id  \\\n",
       "0  [1018, 1509, 11177, 11617, 11629, 11704, 11867...   \n",
       "1  [246, 1018, 11617, 11629, 11704, 11867, 20422,...   \n",
       "2  [1018, 11177, 11617, 11629, 11704, 11867, 2042...   \n",
       "3  [1018, 1509, 10596, 11177, 11629, 11634, 11704...   \n",
       "4  [1018, 11177, 11617, 11629, 11704, 11867, 2042...   \n",
       "\n",
       "                                         combined_id  \n",
       "0  [30776, 31375, 1018, 1509, 11177, 11617, 11629...  \n",
       "1  [30776, 30770, 246, 1018, 11617, 11629, 11704,...  \n",
       "2  [30770, 30774, 1018, 11177, 11617, 11629, 1170...  \n",
       "3  [30774, 30775, 1018, 1509, 10596, 11177, 11629...  \n",
       "4  [30776, 1018, 11177, 11617, 11629, 11704, 1186...  "
      ]
     },
     "execution_count": 6,
     "metadata": {},
     "output_type": "execute_result"
    }
   ],
   "source": [
    "test_users = pd.read_csv('test_users.csv', dtype=str, names=['user_id'],header=0)\n",
    "users_df = load_users('users.csv', test_users)\n",
    "orgs_df = load_orgs('organisations.csv')\n",
    "orgs_df=enrich_orgs(orgs_df, reviews)\n",
    "combined_features = load_combined([\"rubrics.csv\",\"features.csv\"], orgs_df=orgs_df)\n",
    "test_users_with_city = users_df[users_df.in_test==1][['user_id','city']]\n",
    "print(len(test_users),len(users_df))"
   ]
  },
  {
   "cell_type": "code",
   "execution_count": 7,
   "metadata": {},
   "outputs": [
    {
     "name": "stdout",
     "output_type": "stream",
     "text": [
      "3640835\n"
     ]
    },
    {
     "data": {
      "text/html": [
       "<div>\n",
       "<style scoped>\n",
       "    .dataframe tbody tr th:only-of-type {\n",
       "        vertical-align: middle;\n",
       "    }\n",
       "\n",
       "    .dataframe tbody tr th {\n",
       "        vertical-align: top;\n",
       "    }\n",
       "\n",
       "    .dataframe thead th {\n",
       "        text-align: right;\n",
       "    }\n",
       "</style>\n",
       "<table border=\"1\" class=\"dataframe\">\n",
       "  <thead>\n",
       "    <tr style=\"text-align: right;\">\n",
       "      <th></th>\n",
       "      <th>user_id</th>\n",
       "      <th>org_id</th>\n",
       "      <th>rating</th>\n",
       "      <th>ts</th>\n",
       "      <th>aspects</th>\n",
       "      <th>good</th>\n",
       "      <th>user_city</th>\n",
       "      <th>in_test</th>\n",
       "      <th>org_city</th>\n",
       "      <th>travel</th>\n",
       "    </tr>\n",
       "  </thead>\n",
       "  <tbody>\n",
       "    <tr>\n",
       "      <th>0</th>\n",
       "      <td>16998268288908323644</td>\n",
       "      <td>7184895086928047809</td>\n",
       "      <td>2.0</td>\n",
       "      <td>105</td>\n",
       "      <td>[]</td>\n",
       "      <td>0</td>\n",
       "      <td>msk</td>\n",
       "      <td>0</td>\n",
       "      <td>msk</td>\n",
       "      <td>0</td>\n",
       "    </tr>\n",
       "    <tr>\n",
       "      <th>1</th>\n",
       "      <td>3121447338909258868</td>\n",
       "      <td>7184895086928047809</td>\n",
       "      <td>5.0</td>\n",
       "      <td>464</td>\n",
       "      <td>[]</td>\n",
       "      <td>1</td>\n",
       "      <td>msk</td>\n",
       "      <td>0</td>\n",
       "      <td>msk</td>\n",
       "      <td>0</td>\n",
       "    </tr>\n",
       "    <tr>\n",
       "      <th>2</th>\n",
       "      <td>1970649778250883025</td>\n",
       "      <td>7184895086928047809</td>\n",
       "      <td>3.0</td>\n",
       "      <td>789</td>\n",
       "      <td>[]</td>\n",
       "      <td>0</td>\n",
       "      <td>msk</td>\n",
       "      <td>0</td>\n",
       "      <td>msk</td>\n",
       "      <td>0</td>\n",
       "    </tr>\n",
       "    <tr>\n",
       "      <th>3</th>\n",
       "      <td>7554889464530643866</td>\n",
       "      <td>7184895086928047809</td>\n",
       "      <td>4.0</td>\n",
       "      <td>936</td>\n",
       "      <td>[]</td>\n",
       "      <td>1</td>\n",
       "      <td>msk</td>\n",
       "      <td>0</td>\n",
       "      <td>msk</td>\n",
       "      <td>0</td>\n",
       "    </tr>\n",
       "    <tr>\n",
       "      <th>4</th>\n",
       "      <td>15907910894057053620</td>\n",
       "      <td>7184895086928047809</td>\n",
       "      <td>1.0</td>\n",
       "      <td>1143</td>\n",
       "      <td>[]</td>\n",
       "      <td>0</td>\n",
       "      <td>msk</td>\n",
       "      <td>0</td>\n",
       "      <td>msk</td>\n",
       "      <td>0</td>\n",
       "    </tr>\n",
       "  </tbody>\n",
       "</table>\n",
       "</div>"
      ],
      "text/plain": [
       "                user_id               org_id  rating    ts aspects  good  \\\n",
       "0  16998268288908323644  7184895086928047809     2.0   105      []     0   \n",
       "1   3121447338909258868  7184895086928047809     5.0   464      []     1   \n",
       "2   1970649778250883025  7184895086928047809     3.0   789      []     0   \n",
       "3   7554889464530643866  7184895086928047809     4.0   936      []     1   \n",
       "4  15907910894057053620  7184895086928047809     1.0  1143      []     0   \n",
       "\n",
       "  user_city  in_test org_city  travel  \n",
       "0       msk        0      msk       0  \n",
       "1       msk        0      msk       0  \n",
       "2       msk        0      msk       0  \n",
       "3       msk        0      msk       0  \n",
       "4       msk        0      msk       0  "
      ]
     },
     "execution_count": 7,
     "metadata": {},
     "output_type": "execute_result"
    }
   ],
   "source": [
    "reviews = load_reviews(\"reviews.csv\",users_df=users_df, orgs_df=orgs_df)\n",
    "print(f\"{len(reviews)}\")\n",
    "reviews.head()"
   ]
  },
  {
   "cell_type": "code",
   "execution_count": 45,
   "metadata": {},
   "outputs": [
    {
     "name": "stdout",
     "output_type": "stream",
     "text": [
      "16967 16967\n"
     ]
    }
   ],
   "source": [
    "test_users_df = test_users_with_city\\\n",
    "    .merge(reviews[reviews.good>0][['user_id','org_id']], on='user_id', how='left', indicator=True)\n",
    "good_test_users = test_users_df[test_users_df[\"_merge\"]=='both']\\\n",
    "    .groupby(['user_id','city'])\\\n",
    "    .agg(org_id=pd.NamedAgg(\"org_id\", aggfunc=list)).reset_index()\n",
    "\n",
    "empty_test_users = test_users_df[test_users_df[\"_merge\"]=='left_only'][['user_id','city']]\n",
    "empty_test_users['org_id'] = [[] for _ in empty_test_users.itertuples()]\n",
    "final_test_users_df = pd.concat([good_test_users, empty_test_users], ignore_index=True)\n",
    "del test_users_df\n",
    "del good_test_users\n",
    "del empty_test_users\n",
    "print(len(final_test_users_df), len(test_users_with_city))"
   ]
  },
  {
   "cell_type": "code",
   "execution_count": 117,
   "metadata": {},
   "outputs": [
    {
     "name": "stdout",
     "output_type": "stream",
     "text": [
      "3610239 19009\n"
     ]
    }
   ],
   "source": [
    "train_reviews, draft_test_reviews = train_test_split(reviews, users_df, \n",
    "                                               min_ts=900,\n",
    "                                               frac=1)\n",
    "print(len(train_reviews), len(test_reviews))"
   ]
  },
  {
   "cell_type": "code",
   "execution_count": 126,
   "metadata": {},
   "outputs": [
    {
     "name": "stdout",
     "output_type": "stream",
     "text": [
      "INFO: Pandarallel will run on 8 workers.\n",
      "INFO: Pandarallel will use Memory file system to transfer data between the main process and workers.\n",
      "1674332\n",
      "20 0.13152327747075046\n",
      "60 0.2000749030094278\n",
      "<=1 0.06196100149040561\n",
      "<=3 0.091753877736454\n",
      "<=5 0.10568400108659293\n",
      "<=10 0.12116398332259087\n",
      "<=20 0.1273448294049524\n",
      "<=50 0.13060700325430177\n"
     ]
    }
   ],
   "source": [
    "pandarallel.initialize(progress_bar=False)\n",
    "mr=25\n",
    "l2=1e5\n",
    "result, encs = prepare_reviews_i2i(train_reviews, orgs_df,\n",
    "                                   min_reviews_per_user=2,\n",
    "                                   min_org_reviews=mr,\n",
    "                                   min_travels_reviews=1,\n",
    "                                   min_org_score=3.0)\n",
    "print(len(result))\n",
    "m = reviews_matrix(result, encs)\n",
    "cc_mat = m.T * m\n",
    "ease_sim = ease_solution(cc_mat, l2=l2).T\n",
    "draft_ease_preds = i2i_predict(ease_sim, draft_test_reviews, encs, N=60)\n",
    "for N in [20,60]:\n",
    "    print(f\"{N} {recall(draft_test_reviews, draft_ease_preds, N=N)}\")\n",
    "for t_size in [1,3,5,10,20,50]:\n",
    "    draft_test_preds = draft_test_reviews[draft_test_reviews.org_id.str.len()<=t_size]\n",
    "    print(f\"<={t_size} {recall(draft_test_preds, draft_ease_preds)}\")"
   ]
  },
  {
   "cell_type": "code",
   "execution_count": 128,
   "metadata": {},
   "outputs": [
    {
     "name": "stdout",
     "output_type": "stream",
     "text": [
      "INFO: Pandarallel will run on 8 workers.\n",
      "INFO: Pandarallel will use Memory file system to transfer data between the main process and workers.\n",
      "INFO: Pandarallel will run on 8 workers.\n",
      "INFO: Pandarallel will use Memory file system to transfer data between the main process and workers.\n",
      "20 0.09772319639011641\n",
      "60 0.17052159675644019\n",
      ">=1 0.083498712084361\n",
      ">=3 0.09304996097159847\n",
      ">=5 0.0946435209899824\n",
      ">=10 0.09673217614114872\n",
      ">=20 0.09704418651696965\n"
     ]
    }
   ],
   "source": [
    "combined_enc = AttrEncoders(orgs_df, combined_features, \n",
    "                        colname='combined_id',\n",
    "                        org_colname='combined_id')\n",
    "combined_enc.build_attr_org_mat(ease_sim, encs)\n",
    "pandarallel.initialize(progress_bar=False)\n",
    "draft_combined_recs = combined_enc.attr_predict(draft_test_reviews, encs, N=60)\n",
    "pandarallel.initialize(progress_bar=False)\n",
    "for N in [20,60]:\n",
    "    print(f\"{N} {recall(draft_test_reviews, draft_combined_recs, N=N)}\")\n",
    "for t_size in [1,3,5,10,20]:\n",
    "    draft_test_preds = draft_test_reviews[draft_test_reviews.org_id.str.len()<=t_size]\n",
    "    print(f\"<={t_size} {recall(draft_test_preds, draft_combined_recs)}\")"
   ]
  },
  {
   "cell_type": "code",
   "execution_count": 132,
   "metadata": {},
   "outputs": [
    {
     "name": "stdout",
     "output_type": "stream",
     "text": [
      "All good\n"
     ]
    }
   ],
   "source": [
    "draft_train_preds = concat_preds(draft_ease_preds, draft_combined_recs)\n",
    "draft_train_preds = fallback_with_top_recs(draft_train_preds, orgs_df)\n",
    "validate_preds(draft_train_preds, orgs_df, users_df, N=-1)"
   ]
  },
  {
   "cell_type": "code",
   "execution_count": 138,
   "metadata": {},
   "outputs": [],
   "source": [
    "pool_builder = PoolBuilder(orgs_df, reviews)\n",
    "final_train_data = pool_builder.build_pool(draft_train_preds, draft_test_reviews)"
   ]
  },
  {
   "cell_type": "code",
   "execution_count": 140,
   "metadata": {},
   "outputs": [],
   "source": [
    "train_ranking, valid_ranking = split_4_ranking(final_train_data)"
   ]
  },
  {
   "cell_type": "code",
   "execution_count": 142,
   "metadata": {},
   "outputs": [],
   "source": [
    "train_pool = train_data_to_pool(train_ranking)\n",
    "valid_pool = train_data_to_pool(valid_ranking)"
   ]
  },
  {
   "cell_type": "code",
   "execution_count": 143,
   "metadata": {},
   "outputs": [],
   "source": [
    "def cb_params():\n",
    "    return {\n",
    "    'iterations': 2000,\n",
    "    'custom_metric': ['PFound:top=20'],\n",
    "    'loss_function':\"YetiRank\",\n",
    "    'metric_period': 200\n",
    "}"
   ]
  },
  {
   "cell_type": "code",
   "execution_count": 144,
   "metadata": {},
   "outputs": [
    {
     "data": {
      "application/vnd.jupyter.widget-view+json": {
       "model_id": "d79d216e79884c8b82272f9f8b2b139b",
       "version_major": 2,
       "version_minor": 0
      },
      "text/plain": [
       "MetricVisualizer(layout=Layout(align_self='stretch', height='500px'))"
      ]
     },
     "metadata": {},
     "output_type": "display_data"
    },
    {
     "data": {
      "text/plain": [
       "<catboost.core.CatBoost at 0x7efb73360b80>"
      ]
     },
     "execution_count": 144,
     "metadata": {},
     "output_type": "execute_result"
    }
   ],
   "source": [
    "model = CatBoost(cb_params())\n",
    "model.fit(train_pool, plot=True,eval_set=valid_pool, verbose=False)"
   ]
  },
  {
   "cell_type": "code",
   "execution_count": 145,
   "metadata": {},
   "outputs": [],
   "source": [
    "valid_scores = model.predict(valid_pool)\n",
    "\n",
    "valid_ranking.pairs['score'] = valid_scores\n"
   ]
  },
  {
   "cell_type": "code",
   "execution_count": 147,
   "metadata": {},
   "outputs": [
    {
     "data": {
      "text/plain": [
       "array(['10007984015698932734', '10007984015698932734',\n",
       "       '10007984015698932734', ..., '9994502366416070018',\n",
       "       '9994502366416070018', '9994502366416070018'], dtype=object)"
      ]
     },
     "execution_count": 147,
     "metadata": {},
     "output_type": "execute_result"
    }
   ],
   "source": [
    "valid_ranking.groups"
   ]
  },
  {
   "cell_type": "code",
   "execution_count": null,
   "metadata": {},
   "outputs": [],
   "source": [
    "draft_final_ease_preds = i2i_predict(ease_sim, test_users_df, encs, N=40)"
   ]
  },
  {
   "cell_type": "code",
   "execution_count": 148,
   "metadata": {},
   "outputs": [
    {
     "name": "stderr",
     "output_type": "stream",
     "text": [
      "Process ForkPoolWorker-1222:\n",
      "Traceback (most recent call last):\n",
      "  File \"/opt/Anaconda3-5.2.0-Linux-x86_64/envs/py39/lib/python3.9/multiprocessing/process.py\", line 315, in _bootstrap\n",
      "    self.run()\n",
      "  File \"/opt/Anaconda3-5.2.0-Linux-x86_64/envs/py39/lib/python3.9/multiprocessing/process.py\", line 108, in run\n",
      "    self._target(*self._args, **self._kwargs)\n",
      "  File \"/opt/Anaconda3-5.2.0-Linux-x86_64/envs/py39/lib/python3.9/multiprocessing/pool.py\", line 114, in worker\n",
      "    task = get()\n",
      "  File \"/opt/Anaconda3-5.2.0-Linux-x86_64/envs/py39/lib/python3.9/multiprocessing/queues.py\", line 366, in get\n",
      "    res = self._reader.recv_bytes()\n",
      "  File \"/opt/Anaconda3-5.2.0-Linux-x86_64/envs/py39/lib/python3.9/multiprocessing/connection.py\", line 221, in recv_bytes\n",
      "    buf = self._recv_bytes(maxlength)\n",
      "  File \"/opt/Anaconda3-5.2.0-Linux-x86_64/envs/py39/lib/python3.9/multiprocessing/connection.py\", line 426, in _recv_bytes\n",
      "    return self._recv(size)\n",
      "  File \"/opt/Anaconda3-5.2.0-Linux-x86_64/envs/py39/lib/python3.9/multiprocessing/connection.py\", line 391, in _recv\n",
      "    buf.write(chunk)\n",
      "MemoryError\n",
      "Process ForkPoolWorker-1223:\n",
      "Traceback (most recent call last):\n",
      "  File \"/opt/Anaconda3-5.2.0-Linux-x86_64/envs/py39/lib/python3.9/multiprocessing/process.py\", line 315, in _bootstrap\n",
      "    self.run()\n",
      "  File \"/opt/Anaconda3-5.2.0-Linux-x86_64/envs/py39/lib/python3.9/multiprocessing/process.py\", line 108, in run\n",
      "    self._target(*self._args, **self._kwargs)\n",
      "  File \"/opt/Anaconda3-5.2.0-Linux-x86_64/envs/py39/lib/python3.9/multiprocessing/pool.py\", line 114, in worker\n",
      "    task = get()\n",
      "  File \"/opt/Anaconda3-5.2.0-Linux-x86_64/envs/py39/lib/python3.9/multiprocessing/queues.py\", line 366, in get\n",
      "    res = self._reader.recv_bytes()\n",
      "  File \"/opt/Anaconda3-5.2.0-Linux-x86_64/envs/py39/lib/python3.9/multiprocessing/connection.py\", line 221, in recv_bytes\n",
      "    buf = self._recv_bytes(maxlength)\n",
      "  File \"/opt/Anaconda3-5.2.0-Linux-x86_64/envs/py39/lib/python3.9/multiprocessing/connection.py\", line 426, in _recv_bytes\n",
      "    return self._recv(size)\n",
      "  File \"/opt/Anaconda3-5.2.0-Linux-x86_64/envs/py39/lib/python3.9/multiprocessing/connection.py\", line 391, in _recv\n",
      "    buf.write(chunk)\n",
      "MemoryError\n",
      "Process ForkPoolWorker-1226:\n",
      "Process ForkPoolWorker-1230:\n",
      "Process ForkPoolWorker-1225:\n",
      "Process ForkPoolWorker-1228:\n",
      "Process ForkPoolWorker-1231:\n"
     ]
    },
    {
     "ename": "KeyboardInterrupt",
     "evalue": "",
     "output_type": "error",
     "traceback": [
      "\u001b[0;31m---------------------------------------------------------------------------\u001b[0m",
      "\u001b[0;31mKeyboardInterrupt\u001b[0m                         Traceback (most recent call last)",
      "\u001b[0;32m/tmp/ipykernel_3070/1691033162.py\u001b[0m in \u001b[0;36m<module>\u001b[0;34m\u001b[0m\n\u001b[0;32m----> 1\u001b[0;31m \u001b[0mdraft_final_ease_preds\u001b[0m \u001b[0;34m=\u001b[0m \u001b[0mi2i_predict\u001b[0m\u001b[0;34m(\u001b[0m\u001b[0mease_sim\u001b[0m\u001b[0;34m,\u001b[0m \u001b[0mtest_users_df\u001b[0m\u001b[0;34m,\u001b[0m \u001b[0mencs\u001b[0m\u001b[0;34m,\u001b[0m \u001b[0mN\u001b[0m\u001b[0;34m=\u001b[0m\u001b[0;36m40\u001b[0m\u001b[0;34m)\u001b[0m\u001b[0;34m\u001b[0m\u001b[0;34m\u001b[0m\u001b[0m\n\u001b[0m\u001b[1;32m      2\u001b[0m \u001b[0mdraft_final_combined_preds\u001b[0m \u001b[0;34m=\u001b[0m \u001b[0mcombined_enc\u001b[0m\u001b[0;34m.\u001b[0m\u001b[0mattr_predict\u001b[0m\u001b[0;34m(\u001b[0m\u001b[0mtest_users_df\u001b[0m\u001b[0;34m,\u001b[0m \u001b[0mencs\u001b[0m\u001b[0;34m,\u001b[0m \u001b[0mN\u001b[0m\u001b[0;34m=\u001b[0m\u001b[0;36m40\u001b[0m\u001b[0;34m)\u001b[0m\u001b[0;34m\u001b[0m\u001b[0;34m\u001b[0m\u001b[0m\n\u001b[1;32m      3\u001b[0m \u001b[0mdraft_final_preds\u001b[0m \u001b[0;34m=\u001b[0m \u001b[0mconcat_preds\u001b[0m\u001b[0;34m(\u001b[0m\u001b[0mdraft_final_ease_preds\u001b[0m\u001b[0;34m,\u001b[0m \u001b[0mdraft_final_combined_preds\u001b[0m\u001b[0;34m)\u001b[0m\u001b[0;34m\u001b[0m\u001b[0;34m\u001b[0m\u001b[0m\n\u001b[1;32m      4\u001b[0m \u001b[0mdraft_final_preds\u001b[0m \u001b[0;34m=\u001b[0m \u001b[0mfallback_with_top_recs\u001b[0m\u001b[0;34m(\u001b[0m\u001b[0mdraft_final_preds\u001b[0m\u001b[0;34m,\u001b[0m \u001b[0morgs_df\u001b[0m\u001b[0;34m)\u001b[0m\u001b[0;34m\u001b[0m\u001b[0;34m\u001b[0m\u001b[0m\n\u001b[1;32m      5\u001b[0m \u001b[0mvalidate_preds\u001b[0m\u001b[0;34m(\u001b[0m\u001b[0mdraft_train_preds\u001b[0m\u001b[0;34m,\u001b[0m \u001b[0morgs_df\u001b[0m\u001b[0;34m,\u001b[0m \u001b[0musers_df\u001b[0m\u001b[0;34m,\u001b[0m \u001b[0mN\u001b[0m\u001b[0;34m=\u001b[0m\u001b[0;34m-\u001b[0m\u001b[0;36m1\u001b[0m\u001b[0;34m)\u001b[0m\u001b[0;34m\u001b[0m\u001b[0;34m\u001b[0m\u001b[0m\n",
      "\u001b[0;32m~/yndx-contest/recsys/i2i_functions.py\u001b[0m in \u001b[0;36mi2i_predict\u001b[0;34m(i2i_mat, test_users, encoders, N)\u001b[0m\n\u001b[1;32m    127\u001b[0m             \u001b[0mdata\u001b[0m \u001b[0;34m=\u001b[0m \u001b[0;34m(\u001b[0m\u001b[0mrow\u001b[0m\u001b[0;34m.\u001b[0m\u001b[0muser_id\u001b[0m\u001b[0;34m,\u001b[0m \u001b[0mrow\u001b[0m\u001b[0;34m.\u001b[0m\u001b[0mcity\u001b[0m\u001b[0;34m,\u001b[0m \u001b[0;34m[\u001b[0m\u001b[0;34m]\u001b[0m\u001b[0;34m,\u001b[0m \u001b[0;34m[\u001b[0m\u001b[0;34m]\u001b[0m\u001b[0;34m)\u001b[0m\u001b[0;34m\u001b[0m\u001b[0;34m\u001b[0m\u001b[0m\n\u001b[1;32m    128\u001b[0m         \u001b[0;32mreturn\u001b[0m \u001b[0mpd\u001b[0m\u001b[0;34m.\u001b[0m\u001b[0mSeries\u001b[0m\u001b[0;34m(\u001b[0m\u001b[0mdata\u001b[0m\u001b[0;34m,\u001b[0m \u001b[0mindex\u001b[0m\u001b[0;34m=\u001b[0m\u001b[0mout_index\u001b[0m\u001b[0;34m)\u001b[0m\u001b[0;34m\u001b[0m\u001b[0;34m\u001b[0m\u001b[0m\n\u001b[0;32m--> 129\u001b[0;31m     \u001b[0;32mreturn\u001b[0m \u001b[0mtest_users\u001b[0m\u001b[0;34m.\u001b[0m\u001b[0mparallel_apply\u001b[0m\u001b[0;34m(\u001b[0m\u001b[0m_apply\u001b[0m\u001b[0;34m,\u001b[0m \u001b[0maxis\u001b[0m\u001b[0;34m=\u001b[0m\u001b[0;36m1\u001b[0m\u001b[0;34m)\u001b[0m\u001b[0;34m\u001b[0m\u001b[0;34m\u001b[0m\u001b[0m\n\u001b[0m\u001b[1;32m    130\u001b[0m \u001b[0;34m\u001b[0m\u001b[0m\n\u001b[1;32m    131\u001b[0m \u001b[0;34m\u001b[0m\u001b[0m\n",
      "\u001b[0;32m/opt/Anaconda3-5.2.0-Linux-x86_64/envs/py39/lib/python3.9/site-packages/pandarallel/pandarallel.py\u001b[0m in \u001b[0;36mclosure\u001b[0;34m(data, func, *args, **kwargs)\u001b[0m\n\u001b[1;32m    451\u001b[0m             \u001b[0mpool\u001b[0m\u001b[0;34m.\u001b[0m\u001b[0mclose\u001b[0m\u001b[0;34m(\u001b[0m\u001b[0;34m)\u001b[0m\u001b[0;34m\u001b[0m\u001b[0;34m\u001b[0m\u001b[0m\n\u001b[1;32m    452\u001b[0m \u001b[0;34m\u001b[0m\u001b[0m\n\u001b[0;32m--> 453\u001b[0;31m             results = get_workers_result(\n\u001b[0m\u001b[1;32m    454\u001b[0m                 \u001b[0muse_memory_fs\u001b[0m\u001b[0;34m,\u001b[0m\u001b[0;34m\u001b[0m\u001b[0;34m\u001b[0m\u001b[0m\n\u001b[1;32m    455\u001b[0m                 \u001b[0mnb_workers\u001b[0m\u001b[0;34m,\u001b[0m\u001b[0;34m\u001b[0m\u001b[0;34m\u001b[0m\u001b[0m\n",
      "\u001b[0;32m/opt/Anaconda3-5.2.0-Linux-x86_64/envs/py39/lib/python3.9/site-packages/pandarallel/pandarallel.py\u001b[0m in \u001b[0;36mget_workers_result\u001b[0;34m(use_memory_fs, nb_workers, show_progress_bar, nb_columns, queue, chunk_lengths, input_files, output_files, map_result)\u001b[0m\n\u001b[1;32m    364\u001b[0m \u001b[0;34m\u001b[0m\u001b[0m\n\u001b[1;32m    365\u001b[0m     \u001b[0;32mwhile\u001b[0m \u001b[0;32mnot\u001b[0m \u001b[0mall\u001b[0m\u001b[0;34m(\u001b[0m\u001b[0mfinished_workers\u001b[0m\u001b[0;34m)\u001b[0m\u001b[0;34m:\u001b[0m\u001b[0;34m\u001b[0m\u001b[0;34m\u001b[0m\u001b[0m\n\u001b[0;32m--> 366\u001b[0;31m         \u001b[0mmessage_type\u001b[0m\u001b[0;34m,\u001b[0m \u001b[0mmessage\u001b[0m \u001b[0;34m=\u001b[0m \u001b[0mqueue\u001b[0m\u001b[0;34m.\u001b[0m\u001b[0mget\u001b[0m\u001b[0;34m(\u001b[0m\u001b[0;34m)\u001b[0m\u001b[0;34m\u001b[0m\u001b[0;34m\u001b[0m\u001b[0m\n\u001b[0m\u001b[1;32m    367\u001b[0m \u001b[0;34m\u001b[0m\u001b[0m\n\u001b[1;32m    368\u001b[0m         \u001b[0;32mif\u001b[0m \u001b[0mmessage_type\u001b[0m \u001b[0;32mis\u001b[0m \u001b[0mINPUT_FILE_READ\u001b[0m\u001b[0;34m:\u001b[0m\u001b[0;34m\u001b[0m\u001b[0;34m\u001b[0m\u001b[0m\n",
      "\u001b[0;32m<string>\u001b[0m in \u001b[0;36mget\u001b[0;34m(self, *args, **kwds)\u001b[0m\n",
      "\u001b[0;32m/opt/Anaconda3-5.2.0-Linux-x86_64/envs/py39/lib/python3.9/multiprocessing/managers.py\u001b[0m in \u001b[0;36m_callmethod\u001b[0;34m(self, methodname, args, kwds)\u001b[0m\n\u001b[1;32m    808\u001b[0m \u001b[0;34m\u001b[0m\u001b[0m\n\u001b[1;32m    809\u001b[0m         \u001b[0mconn\u001b[0m\u001b[0;34m.\u001b[0m\u001b[0msend\u001b[0m\u001b[0;34m(\u001b[0m\u001b[0;34m(\u001b[0m\u001b[0mself\u001b[0m\u001b[0;34m.\u001b[0m\u001b[0m_id\u001b[0m\u001b[0;34m,\u001b[0m \u001b[0mmethodname\u001b[0m\u001b[0;34m,\u001b[0m \u001b[0margs\u001b[0m\u001b[0;34m,\u001b[0m \u001b[0mkwds\u001b[0m\u001b[0;34m)\u001b[0m\u001b[0;34m)\u001b[0m\u001b[0;34m\u001b[0m\u001b[0;34m\u001b[0m\u001b[0m\n\u001b[0;32m--> 810\u001b[0;31m         \u001b[0mkind\u001b[0m\u001b[0;34m,\u001b[0m \u001b[0mresult\u001b[0m \u001b[0;34m=\u001b[0m \u001b[0mconn\u001b[0m\u001b[0;34m.\u001b[0m\u001b[0mrecv\u001b[0m\u001b[0;34m(\u001b[0m\u001b[0;34m)\u001b[0m\u001b[0;34m\u001b[0m\u001b[0;34m\u001b[0m\u001b[0m\n\u001b[0m\u001b[1;32m    811\u001b[0m \u001b[0;34m\u001b[0m\u001b[0m\n\u001b[1;32m    812\u001b[0m         \u001b[0;32mif\u001b[0m \u001b[0mkind\u001b[0m \u001b[0;34m==\u001b[0m \u001b[0;34m'#RETURN'\u001b[0m\u001b[0;34m:\u001b[0m\u001b[0;34m\u001b[0m\u001b[0;34m\u001b[0m\u001b[0m\n",
      "\u001b[0;32m/opt/Anaconda3-5.2.0-Linux-x86_64/envs/py39/lib/python3.9/multiprocessing/connection.py\u001b[0m in \u001b[0;36mrecv\u001b[0;34m(self)\u001b[0m\n\u001b[1;32m    253\u001b[0m         \u001b[0mself\u001b[0m\u001b[0;34m.\u001b[0m\u001b[0m_check_closed\u001b[0m\u001b[0;34m(\u001b[0m\u001b[0;34m)\u001b[0m\u001b[0;34m\u001b[0m\u001b[0;34m\u001b[0m\u001b[0m\n\u001b[1;32m    254\u001b[0m         \u001b[0mself\u001b[0m\u001b[0;34m.\u001b[0m\u001b[0m_check_readable\u001b[0m\u001b[0;34m(\u001b[0m\u001b[0;34m)\u001b[0m\u001b[0;34m\u001b[0m\u001b[0;34m\u001b[0m\u001b[0m\n\u001b[0;32m--> 255\u001b[0;31m         \u001b[0mbuf\u001b[0m \u001b[0;34m=\u001b[0m \u001b[0mself\u001b[0m\u001b[0;34m.\u001b[0m\u001b[0m_recv_bytes\u001b[0m\u001b[0;34m(\u001b[0m\u001b[0;34m)\u001b[0m\u001b[0;34m\u001b[0m\u001b[0;34m\u001b[0m\u001b[0m\n\u001b[0m\u001b[1;32m    256\u001b[0m         \u001b[0;32mreturn\u001b[0m \u001b[0m_ForkingPickler\u001b[0m\u001b[0;34m.\u001b[0m\u001b[0mloads\u001b[0m\u001b[0;34m(\u001b[0m\u001b[0mbuf\u001b[0m\u001b[0;34m.\u001b[0m\u001b[0mgetbuffer\u001b[0m\u001b[0;34m(\u001b[0m\u001b[0;34m)\u001b[0m\u001b[0;34m)\u001b[0m\u001b[0;34m\u001b[0m\u001b[0;34m\u001b[0m\u001b[0m\n\u001b[1;32m    257\u001b[0m \u001b[0;34m\u001b[0m\u001b[0m\n",
      "\u001b[0;32m/opt/Anaconda3-5.2.0-Linux-x86_64/envs/py39/lib/python3.9/multiprocessing/connection.py\u001b[0m in \u001b[0;36m_recv_bytes\u001b[0;34m(self, maxsize)\u001b[0m\n\u001b[1;32m    417\u001b[0m \u001b[0;34m\u001b[0m\u001b[0m\n\u001b[1;32m    418\u001b[0m     \u001b[0;32mdef\u001b[0m \u001b[0m_recv_bytes\u001b[0m\u001b[0;34m(\u001b[0m\u001b[0mself\u001b[0m\u001b[0;34m,\u001b[0m \u001b[0mmaxsize\u001b[0m\u001b[0;34m=\u001b[0m\u001b[0;32mNone\u001b[0m\u001b[0;34m)\u001b[0m\u001b[0;34m:\u001b[0m\u001b[0;34m\u001b[0m\u001b[0;34m\u001b[0m\u001b[0m\n\u001b[0;32m--> 419\u001b[0;31m         \u001b[0mbuf\u001b[0m \u001b[0;34m=\u001b[0m \u001b[0mself\u001b[0m\u001b[0;34m.\u001b[0m\u001b[0m_recv\u001b[0m\u001b[0;34m(\u001b[0m\u001b[0;36m4\u001b[0m\u001b[0;34m)\u001b[0m\u001b[0;34m\u001b[0m\u001b[0;34m\u001b[0m\u001b[0m\n\u001b[0m\u001b[1;32m    420\u001b[0m         \u001b[0msize\u001b[0m\u001b[0;34m,\u001b[0m \u001b[0;34m=\u001b[0m \u001b[0mstruct\u001b[0m\u001b[0;34m.\u001b[0m\u001b[0munpack\u001b[0m\u001b[0;34m(\u001b[0m\u001b[0;34m\"!i\"\u001b[0m\u001b[0;34m,\u001b[0m \u001b[0mbuf\u001b[0m\u001b[0;34m.\u001b[0m\u001b[0mgetvalue\u001b[0m\u001b[0;34m(\u001b[0m\u001b[0;34m)\u001b[0m\u001b[0;34m)\u001b[0m\u001b[0;34m\u001b[0m\u001b[0;34m\u001b[0m\u001b[0m\n\u001b[1;32m    421\u001b[0m         \u001b[0;32mif\u001b[0m \u001b[0msize\u001b[0m \u001b[0;34m==\u001b[0m \u001b[0;34m-\u001b[0m\u001b[0;36m1\u001b[0m\u001b[0;34m:\u001b[0m\u001b[0;34m\u001b[0m\u001b[0;34m\u001b[0m\u001b[0m\n",
      "\u001b[0;32m/opt/Anaconda3-5.2.0-Linux-x86_64/envs/py39/lib/python3.9/multiprocessing/connection.py\u001b[0m in \u001b[0;36m_recv\u001b[0;34m(self, size, read)\u001b[0m\n\u001b[1;32m    382\u001b[0m         \u001b[0mremaining\u001b[0m \u001b[0;34m=\u001b[0m \u001b[0msize\u001b[0m\u001b[0;34m\u001b[0m\u001b[0;34m\u001b[0m\u001b[0m\n\u001b[1;32m    383\u001b[0m         \u001b[0;32mwhile\u001b[0m \u001b[0mremaining\u001b[0m \u001b[0;34m>\u001b[0m \u001b[0;36m0\u001b[0m\u001b[0;34m:\u001b[0m\u001b[0;34m\u001b[0m\u001b[0;34m\u001b[0m\u001b[0m\n\u001b[0;32m--> 384\u001b[0;31m             \u001b[0mchunk\u001b[0m \u001b[0;34m=\u001b[0m \u001b[0mread\u001b[0m\u001b[0;34m(\u001b[0m\u001b[0mhandle\u001b[0m\u001b[0;34m,\u001b[0m \u001b[0mremaining\u001b[0m\u001b[0;34m)\u001b[0m\u001b[0;34m\u001b[0m\u001b[0;34m\u001b[0m\u001b[0m\n\u001b[0m\u001b[1;32m    385\u001b[0m             \u001b[0mn\u001b[0m \u001b[0;34m=\u001b[0m \u001b[0mlen\u001b[0m\u001b[0;34m(\u001b[0m\u001b[0mchunk\u001b[0m\u001b[0;34m)\u001b[0m\u001b[0;34m\u001b[0m\u001b[0;34m\u001b[0m\u001b[0m\n\u001b[1;32m    386\u001b[0m             \u001b[0;32mif\u001b[0m \u001b[0mn\u001b[0m \u001b[0;34m==\u001b[0m \u001b[0;36m0\u001b[0m\u001b[0;34m:\u001b[0m\u001b[0;34m\u001b[0m\u001b[0;34m\u001b[0m\u001b[0m\n",
      "\u001b[0;31mKeyboardInterrupt\u001b[0m: "
     ]
    },
    {
     "name": "stderr",
     "output_type": "stream",
     "text": [
      "Process ForkPoolWorker-1227:\n",
      "Process ForkPoolWorker-1224:\n",
      "Process ForkPoolWorker-1229:\n",
      "Traceback (most recent call last):\n",
      "Traceback (most recent call last):\n",
      "Traceback (most recent call last):\n",
      "Traceback (most recent call last):\n",
      "Traceback (most recent call last):\n",
      "  File \"/opt/Anaconda3-5.2.0-Linux-x86_64/envs/py39/lib/python3.9/multiprocessing/process.py\", line 315, in _bootstrap\n",
      "    self.run()\n",
      "Traceback (most recent call last):\n",
      "  File \"/opt/Anaconda3-5.2.0-Linux-x86_64/envs/py39/lib/python3.9/multiprocessing/process.py\", line 315, in _bootstrap\n",
      "    self.run()\n",
      "Traceback (most recent call last):\n",
      "  File \"/opt/Anaconda3-5.2.0-Linux-x86_64/envs/py39/lib/python3.9/multiprocessing/process.py\", line 315, in _bootstrap\n",
      "    self.run()\n",
      "  File \"/opt/Anaconda3-5.2.0-Linux-x86_64/envs/py39/lib/python3.9/multiprocessing/process.py\", line 108, in run\n",
      "    self._target(*self._args, **self._kwargs)\n",
      "  File \"/opt/Anaconda3-5.2.0-Linux-x86_64/envs/py39/lib/python3.9/multiprocessing/process.py\", line 315, in _bootstrap\n",
      "    self.run()\n",
      "  File \"/opt/Anaconda3-5.2.0-Linux-x86_64/envs/py39/lib/python3.9/multiprocessing/process.py\", line 108, in run\n",
      "    self._target(*self._args, **self._kwargs)\n",
      "  File \"/opt/Anaconda3-5.2.0-Linux-x86_64/envs/py39/lib/python3.9/multiprocessing/process.py\", line 315, in _bootstrap\n",
      "    self.run()\n",
      "  File \"/opt/Anaconda3-5.2.0-Linux-x86_64/envs/py39/lib/python3.9/multiprocessing/process.py\", line 315, in _bootstrap\n",
      "    self.run()\n",
      "  File \"/opt/Anaconda3-5.2.0-Linux-x86_64/envs/py39/lib/python3.9/multiprocessing/process.py\", line 108, in run\n",
      "    self._target(*self._args, **self._kwargs)\n",
      "  File \"/opt/Anaconda3-5.2.0-Linux-x86_64/envs/py39/lib/python3.9/multiprocessing/pool.py\", line 114, in worker\n",
      "    task = get()\n",
      "Traceback (most recent call last):\n",
      "  File \"/opt/Anaconda3-5.2.0-Linux-x86_64/envs/py39/lib/python3.9/multiprocessing/process.py\", line 315, in _bootstrap\n",
      "    self.run()\n",
      "  File \"/opt/Anaconda3-5.2.0-Linux-x86_64/envs/py39/lib/python3.9/multiprocessing/process.py\", line 108, in run\n",
      "    self._target(*self._args, **self._kwargs)\n",
      "  File \"/opt/Anaconda3-5.2.0-Linux-x86_64/envs/py39/lib/python3.9/multiprocessing/process.py\", line 315, in _bootstrap\n",
      "    self.run()\n",
      "  File \"/opt/Anaconda3-5.2.0-Linux-x86_64/envs/py39/lib/python3.9/multiprocessing/process.py\", line 108, in run\n",
      "    self._target(*self._args, **self._kwargs)\n",
      "  File \"/opt/Anaconda3-5.2.0-Linux-x86_64/envs/py39/lib/python3.9/multiprocessing/pool.py\", line 114, in worker\n",
      "    task = get()\n",
      "  File \"/opt/Anaconda3-5.2.0-Linux-x86_64/envs/py39/lib/python3.9/multiprocessing/pool.py\", line 114, in worker\n",
      "    task = get()\n",
      "  File \"/opt/Anaconda3-5.2.0-Linux-x86_64/envs/py39/lib/python3.9/multiprocessing/pool.py\", line 114, in worker\n",
      "    task = get()\n",
      "  File \"/opt/Anaconda3-5.2.0-Linux-x86_64/envs/py39/lib/python3.9/multiprocessing/process.py\", line 108, in run\n",
      "    self._target(*self._args, **self._kwargs)\n",
      "  File \"/opt/Anaconda3-5.2.0-Linux-x86_64/envs/py39/lib/python3.9/multiprocessing/queues.py\", line 365, in get\n",
      "    with self._rlock:\n",
      "  File \"/opt/Anaconda3-5.2.0-Linux-x86_64/envs/py39/lib/python3.9/multiprocessing/process.py\", line 108, in run\n",
      "    self._target(*self._args, **self._kwargs)\n",
      "  File \"/opt/Anaconda3-5.2.0-Linux-x86_64/envs/py39/lib/python3.9/multiprocessing/pool.py\", line 114, in worker\n",
      "    task = get()\n",
      "  File \"/opt/Anaconda3-5.2.0-Linux-x86_64/envs/py39/lib/python3.9/multiprocessing/queues.py\", line 365, in get\n",
      "    with self._rlock:\n",
      "  File \"/opt/Anaconda3-5.2.0-Linux-x86_64/envs/py39/lib/python3.9/multiprocessing/queues.py\", line 365, in get\n",
      "    with self._rlock:\n",
      "  File \"/opt/Anaconda3-5.2.0-Linux-x86_64/envs/py39/lib/python3.9/multiprocessing/process.py\", line 108, in run\n",
      "    self._target(*self._args, **self._kwargs)\n",
      "  File \"/opt/Anaconda3-5.2.0-Linux-x86_64/envs/py39/lib/python3.9/multiprocessing/pool.py\", line 114, in worker\n",
      "    task = get()\n",
      "  File \"/opt/Anaconda3-5.2.0-Linux-x86_64/envs/py39/lib/python3.9/multiprocessing/queues.py\", line 365, in get\n",
      "    with self._rlock:\n",
      "  File \"/opt/Anaconda3-5.2.0-Linux-x86_64/envs/py39/lib/python3.9/multiprocessing/synchronize.py\", line 95, in __enter__\n",
      "    return self._semlock.__enter__()\n",
      "  File \"/opt/Anaconda3-5.2.0-Linux-x86_64/envs/py39/lib/python3.9/multiprocessing/pool.py\", line 114, in worker\n",
      "    task = get()\n",
      "  File \"/opt/Anaconda3-5.2.0-Linux-x86_64/envs/py39/lib/python3.9/multiprocessing/queues.py\", line 365, in get\n",
      "    with self._rlock:\n",
      "  File \"/opt/Anaconda3-5.2.0-Linux-x86_64/envs/py39/lib/python3.9/multiprocessing/queues.py\", line 365, in get\n",
      "    with self._rlock:\n",
      "  File \"/opt/Anaconda3-5.2.0-Linux-x86_64/envs/py39/lib/python3.9/multiprocessing/synchronize.py\", line 95, in __enter__\n",
      "    return self._semlock.__enter__()\n",
      "  File \"/opt/Anaconda3-5.2.0-Linux-x86_64/envs/py39/lib/python3.9/multiprocessing/pool.py\", line 114, in worker\n",
      "    task = get()\n",
      "  File \"/opt/Anaconda3-5.2.0-Linux-x86_64/envs/py39/lib/python3.9/multiprocessing/synchronize.py\", line 95, in __enter__\n",
      "    return self._semlock.__enter__()\n",
      "KeyboardInterrupt\n",
      "KeyboardInterrupt\n",
      "  File \"/opt/Anaconda3-5.2.0-Linux-x86_64/envs/py39/lib/python3.9/multiprocessing/synchronize.py\", line 95, in __enter__\n",
      "    return self._semlock.__enter__()\n",
      "  File \"/opt/Anaconda3-5.2.0-Linux-x86_64/envs/py39/lib/python3.9/multiprocessing/queues.py\", line 365, in get\n",
      "    with self._rlock:\n",
      "  File \"/opt/Anaconda3-5.2.0-Linux-x86_64/envs/py39/lib/python3.9/multiprocessing/synchronize.py\", line 95, in __enter__\n",
      "    return self._semlock.__enter__()\n",
      "  File \"/opt/Anaconda3-5.2.0-Linux-x86_64/envs/py39/lib/python3.9/multiprocessing/queues.py\", line 366, in get\n",
      "    res = self._reader.recv_bytes()\n",
      "  File \"/opt/Anaconda3-5.2.0-Linux-x86_64/envs/py39/lib/python3.9/multiprocessing/synchronize.py\", line 95, in __enter__\n",
      "    return self._semlock.__enter__()\n",
      "  File \"/opt/Anaconda3-5.2.0-Linux-x86_64/envs/py39/lib/python3.9/multiprocessing/synchronize.py\", line 95, in __enter__\n",
      "    return self._semlock.__enter__()\n",
      "KeyboardInterrupt\n",
      "KeyboardInterrupt\n",
      "KeyboardInterrupt\n",
      "KeyboardInterrupt\n",
      "KeyboardInterrupt\n",
      "  File \"/opt/Anaconda3-5.2.0-Linux-x86_64/envs/py39/lib/python3.9/multiprocessing/connection.py\", line 221, in recv_bytes\n",
      "    buf = self._recv_bytes(maxlength)\n",
      "  File \"/opt/Anaconda3-5.2.0-Linux-x86_64/envs/py39/lib/python3.9/multiprocessing/connection.py\", line 419, in _recv_bytes\n",
      "    buf = self._recv(4)\n",
      "  File \"/opt/Anaconda3-5.2.0-Linux-x86_64/envs/py39/lib/python3.9/multiprocessing/connection.py\", line 384, in _recv\n",
      "    chunk = read(handle, remaining)\n",
      "KeyboardInterrupt\n"
     ]
    }
   ],
   "source": [
    "draft_final_ease_preds = i2i_predict(ease_sim, test_users_df, encs, N=40)\n",
    "draft_final_combined_preds = combined_enc.attr_predict(test_users_df, encs, N=40)\n",
    "draft_final_preds = concat_preds(draft_final_ease_preds, draft_final_combined_preds)\n",
    "draft_final_preds = fallback_with_top_recs(draft_final_preds, orgs_df)\n",
    "validate_preds(draft_train_preds, orgs_df, users_df, N=-1)"
   ]
  },
  {
   "cell_type": "code",
   "execution_count": null,
   "metadata": {},
   "outputs": [],
   "source": [
    "final_test_data = pool_builder.build_test_pool(draft_final_preds)\n",
    "final_test_pool = test_data_to_pool(final_test_data)\n",
    "final_scores = model.predict(final_test_pool)"
   ]
  },
  {
   "cell_type": "code",
   "execution_count": null,
   "metadata": {},
   "outputs": [],
   "source": [
    "final_test_data.pairs['score'] = final_scores\n",
    "final_test_data.pairs['user_id'] = final_test_data.groups\n",
    "final_test_data.pairs['target'] = final_test_data.org_ids\n",
    "\n",
    "final_preds = final_test_data.pairs[['user_id','target','score']].sort_values(by='score',ascending=False)\\\n",
    "    .groupby('user_id').agg(lambda x: list(x)[:20]).reset_index()\n"
   ]
  },
  {
   "cell_type": "code",
   "execution_count": null,
   "metadata": {},
   "outputs": [],
   "source": [
    "validate_preds(final_preds, orgs_df, users_df, N=20)\n",
    "save_predictions(final_preds, \"rerank_ans.csv\")"
   ]
  },
  {
   "cell_type": "code",
   "execution_count": null,
   "metadata": {},
   "outputs": [],
   "source": []
  }
 ],
 "metadata": {
  "kernelspec": {
   "display_name": "Python 3 (ipykernel)",
   "language": "python",
   "name": "python3"
  },
  "language_info": {
   "codemirror_mode": {
    "name": "ipython",
    "version": 3
   },
   "file_extension": ".py",
   "mimetype": "text/x-python",
   "name": "python",
   "nbconvert_exporter": "python",
   "pygments_lexer": "ipython3",
   "version": "3.9.7"
  }
 },
 "nbformat": 4,
 "nbformat_minor": 4
}
