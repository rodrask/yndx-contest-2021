{
 "cells": [
  {
   "cell_type": "code",
   "execution_count": 40,
   "metadata": {},
   "outputs": [],
   "source": [
    "%matplotlib inline\n",
    "%reload_ext autoreload\n",
    "%autoreload 2"
   ]
  },
  {
   "cell_type": "code",
   "execution_count": 41,
   "metadata": {},
   "outputs": [],
   "source": [
    "import numpy as np\n",
    "import pandas as pd\n",
    "import seaborn as sns\n",
    "import matplotlib.pyplot as plt"
   ]
  },
  {
   "cell_type": "code",
   "execution_count": 85,
   "metadata": {},
   "outputs": [],
   "source": [
    "from load_functions import *\n",
    "from transform_functions import *\n",
    "from score_functions import *"
   ]
  },
  {
   "cell_type": "code",
   "execution_count": 4,
   "metadata": {},
   "outputs": [],
   "source": [
    "test_users = pd.read_csv('test_users.csv', dtype=str, names=['user_id'])\n",
    "users_df = load_users('users.csv', test_users)\n",
    "orgs_df = load_orgs('organisations.csv')"
   ]
  },
  {
   "cell_type": "code",
   "execution_count": 89,
   "metadata": {},
   "outputs": [],
   "source": [
    "test_users = users_df[users_df.in_test==1][['user_id','city']]"
   ]
  },
  {
   "cell_type": "code",
   "execution_count": 24,
   "metadata": {},
   "outputs": [
    {
     "data": {
      "text/plain": [
       "array(['10000013865364765196', '10000021027182109550',\n",
       "       '10000023838421587579', ..., '9999963113922399126',\n",
       "       '9999984031519089997', '9999997562571912964'], dtype=object)"
      ]
     },
     "execution_count": 24,
     "metadata": {},
     "output_type": "execute_result"
    }
   ],
   "source": [
    "user_enc=index_items(users_df['user_id'])"
   ]
  },
  {
   "cell_type": "code",
   "execution_count": 5,
   "metadata": {},
   "outputs": [],
   "source": [
    "aspects = load_aspects()\n",
    "rubrics = load_rubrics(orgs_df=orgs_df)\n",
    "features = load_features(orgs_df=orgs_df)"
   ]
  },
  {
   "cell_type": "code",
   "execution_count": 7,
   "metadata": {},
   "outputs": [],
   "source": [
    "reviews, user_agg, org_agg = load_reviews(users_df=users_df, orgs_df=orgs_df)\n",
    "orgs_df = orgs_df.merge(org_agg, on='org_id')\n",
    "users_df = users_df.merge(user_agg, on='user_id')"
   ]
  },
  {
   "cell_type": "code",
   "execution_count": 63,
   "metadata": {},
   "outputs": [
    {
     "data": {
      "text/plain": [
       "array(['5002407858008059043', '17130159649915447104',\n",
       "       '4975773678370356068', '15803299563419086635',\n",
       "       '17804839967267310092', '14161975623523399774',\n",
       "       '17128980968182616934', '17769258395454611746',\n",
       "       '13038192502461726418', '10607800212635395619'], dtype=object)"
      ]
     },
     "execution_count": 63,
     "metadata": {},
     "output_type": "execute_result"
    }
   ],
   "source": [
    "orgs_df[(orgs_df.city=='spb')&(orgs_df.mean_score>4.8)].sort_values(by='n_reviews', ascending=False)[:10]['org_id'].to_numpy()"
   ]
  },
  {
   "cell_type": "code",
   "execution_count": 109,
   "metadata": {},
   "outputs": [],
   "source": [
    "test_users = select_test_split(reviews, users_df)\n",
    "preds = top_recs(orgs_df, test_users)"
   ]
  },
  {
   "cell_type": "code",
   "execution_count": 108,
   "metadata": {},
   "outputs": [],
   "source": [
    "final_pred = top_recs(orgs_df, test_users)\n",
    "save_predictions(final_pred)"
   ]
  },
  {
   "cell_type": "code",
   "execution_count": 8,
   "metadata": {},
   "outputs": [
    {
     "data": {
      "text/html": [
       "<div>\n",
       "<style scoped>\n",
       "    .dataframe tbody tr th:only-of-type {\n",
       "        vertical-align: middle;\n",
       "    }\n",
       "\n",
       "    .dataframe tbody tr th {\n",
       "        vertical-align: top;\n",
       "    }\n",
       "\n",
       "    .dataframe thead th {\n",
       "        text-align: right;\n",
       "    }\n",
       "</style>\n",
       "<table border=\"1\" class=\"dataframe\">\n",
       "  <thead>\n",
       "    <tr style=\"text-align: right;\">\n",
       "      <th></th>\n",
       "      <th>average_bill</th>\n",
       "      <th>rating</th>\n",
       "      <th>rubrics_l</th>\n",
       "      <th>features_l</th>\n",
       "      <th>n_reviews</th>\n",
       "      <th>mean_score</th>\n",
       "      <th>mean_aspects</th>\n",
       "      <th>n_travels</th>\n",
       "    </tr>\n",
       "  </thead>\n",
       "  <tbody>\n",
       "    <tr>\n",
       "      <th>count</th>\n",
       "      <td>66405.000000</td>\n",
       "      <td>53257.000000</td>\n",
       "      <td>66405.000000</td>\n",
       "      <td>66405.000000</td>\n",
       "      <td>66405.000000</td>\n",
       "      <td>66405.000000</td>\n",
       "      <td>66405.000000</td>\n",
       "      <td>66405.000000</td>\n",
       "    </tr>\n",
       "    <tr>\n",
       "      <th>mean</th>\n",
       "      <td>387.796100</td>\n",
       "      <td>4.126775</td>\n",
       "      <td>1.452361</td>\n",
       "      <td>5.809035</td>\n",
       "      <td>54.827724</td>\n",
       "      <td>4.144561</td>\n",
       "      <td>0.218217</td>\n",
       "      <td>2.575770</td>\n",
       "    </tr>\n",
       "    <tr>\n",
       "      <th>std</th>\n",
       "      <td>607.360488</td>\n",
       "      <td>0.699122</td>\n",
       "      <td>0.668355</td>\n",
       "      <td>5.367545</td>\n",
       "      <td>399.265732</td>\n",
       "      <td>0.878407</td>\n",
       "      <td>0.360582</td>\n",
       "      <td>39.556343</td>\n",
       "    </tr>\n",
       "    <tr>\n",
       "      <th>min</th>\n",
       "      <td>-1.000000</td>\n",
       "      <td>0.000000</td>\n",
       "      <td>1.000000</td>\n",
       "      <td>0.000000</td>\n",
       "      <td>1.000000</td>\n",
       "      <td>0.000000</td>\n",
       "      <td>0.000000</td>\n",
       "      <td>0.000000</td>\n",
       "    </tr>\n",
       "    <tr>\n",
       "      <th>25%</th>\n",
       "      <td>-1.000000</td>\n",
       "      <td>3.868421</td>\n",
       "      <td>1.000000</td>\n",
       "      <td>1.000000</td>\n",
       "      <td>2.000000</td>\n",
       "      <td>3.876033</td>\n",
       "      <td>0.000000</td>\n",
       "      <td>0.000000</td>\n",
       "    </tr>\n",
       "    <tr>\n",
       "      <th>50%</th>\n",
       "      <td>-1.000000</td>\n",
       "      <td>4.255814</td>\n",
       "      <td>1.000000</td>\n",
       "      <td>5.000000</td>\n",
       "      <td>8.000000</td>\n",
       "      <td>4.333333</td>\n",
       "      <td>0.000000</td>\n",
       "      <td>0.000000</td>\n",
       "    </tr>\n",
       "    <tr>\n",
       "      <th>75%</th>\n",
       "      <td>500.000000</td>\n",
       "      <td>4.556474</td>\n",
       "      <td>2.000000</td>\n",
       "      <td>9.000000</td>\n",
       "      <td>31.000000</td>\n",
       "      <td>4.764706</td>\n",
       "      <td>0.368932</td>\n",
       "      <td>1.000000</td>\n",
       "    </tr>\n",
       "    <tr>\n",
       "      <th>max</th>\n",
       "      <td>10000.000000</td>\n",
       "      <td>5.000000</td>\n",
       "      <td>6.000000</td>\n",
       "      <td>33.000000</td>\n",
       "      <td>55931.000000</td>\n",
       "      <td>5.000000</td>\n",
       "      <td>7.000000</td>\n",
       "      <td>8679.000000</td>\n",
       "    </tr>\n",
       "  </tbody>\n",
       "</table>\n",
       "</div>"
      ],
      "text/plain": [
       "       average_bill        rating     rubrics_l    features_l     n_reviews  \\\n",
       "count  66405.000000  53257.000000  66405.000000  66405.000000  66405.000000   \n",
       "mean     387.796100      4.126775      1.452361      5.809035     54.827724   \n",
       "std      607.360488      0.699122      0.668355      5.367545    399.265732   \n",
       "min       -1.000000      0.000000      1.000000      0.000000      1.000000   \n",
       "25%       -1.000000      3.868421      1.000000      1.000000      2.000000   \n",
       "50%       -1.000000      4.255814      1.000000      5.000000      8.000000   \n",
       "75%      500.000000      4.556474      2.000000      9.000000     31.000000   \n",
       "max    10000.000000      5.000000      6.000000     33.000000  55931.000000   \n",
       "\n",
       "         mean_score  mean_aspects     n_travels  \n",
       "count  66405.000000  66405.000000  66405.000000  \n",
       "mean       4.144561      0.218217      2.575770  \n",
       "std        0.878407      0.360582     39.556343  \n",
       "min        0.000000      0.000000      0.000000  \n",
       "25%        3.876033      0.000000      0.000000  \n",
       "50%        4.333333      0.000000      0.000000  \n",
       "75%        4.764706      0.368932      1.000000  \n",
       "max        5.000000      7.000000   8679.000000  "
      ]
     },
     "metadata": {},
     "output_type": "display_data"
    }
   ],
   "source": [
    "display(orgs_df.describe())\n",
    "# fig, axs = plt.subplots(nrows=6 ,figsize = (25,16))\n",
    "# sns.ecdfplot(data=orgs_df, x='average_bill',ax=axs[0])\n",
    "# sns.histplot(data=orgs_df, x='rating', ax=axs[1])\n",
    "# sns.histplot(data=orgs_df, x='rubrics_l', ax=axs[2], hue='city', stat='percent', bins=40)\n",
    "# sns.histplot(data=orgs_df, x='features_l', ax=axs[3], hue='city', stat='percent',bins=40)\n",
    "# sns.histplot(data=orgs_df, x='n_reviews', ax=axs[4], hue='city', stat='percent',bins=40)\n",
    "# sns.histplot(data=orgs_df, x='n_travels', ax=axs[5], hue='city', stat='percent',bins=40)"
   ]
  },
  {
   "cell_type": "code",
   "execution_count": 19,
   "metadata": {},
   "outputs": [
    {
     "data": {
      "text/html": [
       "<div>\n",
       "<style scoped>\n",
       "    .dataframe tbody tr th:only-of-type {\n",
       "        vertical-align: middle;\n",
       "    }\n",
       "\n",
       "    .dataframe tbody tr th {\n",
       "        vertical-align: top;\n",
       "    }\n",
       "\n",
       "    .dataframe thead th {\n",
       "        text-align: right;\n",
       "    }\n",
       "</style>\n",
       "<table border=\"1\" class=\"dataframe\">\n",
       "  <thead>\n",
       "    <tr style=\"text-align: right;\">\n",
       "      <th></th>\n",
       "      <th>org_id</th>\n",
       "      <th>city</th>\n",
       "      <th>average_bill</th>\n",
       "      <th>rating</th>\n",
       "      <th>rubrics_id</th>\n",
       "      <th>features_id</th>\n",
       "      <th>rubrics_l</th>\n",
       "      <th>features_l</th>\n",
       "      <th>n_reviews</th>\n",
       "      <th>mean_score</th>\n",
       "      <th>mean_aspects</th>\n",
       "      <th>n_travels</th>\n",
       "    </tr>\n",
       "  </thead>\n",
       "  <tbody>\n",
       "    <tr>\n",
       "      <th>13349</th>\n",
       "      <td>5002407858008059043</td>\n",
       "      <td>spb</td>\n",
       "      <td>500.0</td>\n",
       "      <td>4.894946</td>\n",
       "      <td>[30776]</td>\n",
       "      <td>[11704, 20422, 3491465406, 3501618484]</td>\n",
       "      <td>1</td>\n",
       "      <td>4</td>\n",
       "      <td>5080</td>\n",
       "      <td>4.892717</td>\n",
       "      <td>0.000000</td>\n",
       "      <td>2218</td>\n",
       "    </tr>\n",
       "    <tr>\n",
       "      <th>13638</th>\n",
       "      <td>12784724396885152442</td>\n",
       "      <td>spb</td>\n",
       "      <td>3500.0</td>\n",
       "      <td>4.567690</td>\n",
       "      <td>[30776]</td>\n",
       "      <td>[246, 1018, 1509, 11177, 11617, 11629, 11704, ...</td>\n",
       "      <td>1</td>\n",
       "      <td>14</td>\n",
       "      <td>1964</td>\n",
       "      <td>4.571283</td>\n",
       "      <td>0.387984</td>\n",
       "      <td>1040</td>\n",
       "    </tr>\n",
       "    <tr>\n",
       "      <th>16392</th>\n",
       "      <td>14814427257061788801</td>\n",
       "      <td>spb</td>\n",
       "      <td>-1.0</td>\n",
       "      <td>4.443057</td>\n",
       "      <td>[31350]</td>\n",
       "      <td>[11704, 20422, 3491142672, 3501618484, 3501773...</td>\n",
       "      <td>1</td>\n",
       "      <td>6</td>\n",
       "      <td>13228</td>\n",
       "      <td>4.371560</td>\n",
       "      <td>0.003553</td>\n",
       "      <td>2050</td>\n",
       "    </tr>\n",
       "    <tr>\n",
       "      <th>31670</th>\n",
       "      <td>12046097390037935713</td>\n",
       "      <td>spb</td>\n",
       "      <td>-1.0</td>\n",
       "      <td>4.518920</td>\n",
       "      <td>[30776]</td>\n",
       "      <td>[601, 11012, 11704, 20422, 3491142672, 3501618...</td>\n",
       "      <td>1</td>\n",
       "      <td>7</td>\n",
       "      <td>49605</td>\n",
       "      <td>4.456144</td>\n",
       "      <td>0.003850</td>\n",
       "      <td>8679</td>\n",
       "    </tr>\n",
       "    <tr>\n",
       "      <th>33679</th>\n",
       "      <td>2070377783033138991</td>\n",
       "      <td>spb</td>\n",
       "      <td>500.0</td>\n",
       "      <td>4.676875</td>\n",
       "      <td>[31350, 30774]</td>\n",
       "      <td>[246, 1018, 11177, 11617, 11629, 11704, 11867,...</td>\n",
       "      <td>2</td>\n",
       "      <td>10</td>\n",
       "      <td>3092</td>\n",
       "      <td>4.682730</td>\n",
       "      <td>0.351552</td>\n",
       "      <td>1230</td>\n",
       "    </tr>\n",
       "    <tr>\n",
       "      <th>58227</th>\n",
       "      <td>6838233943148091808</td>\n",
       "      <td>spb</td>\n",
       "      <td>1000.0</td>\n",
       "      <td>4.501816</td>\n",
       "      <td>[30774]</td>\n",
       "      <td>[1018, 11177, 11617, 11629, 11704, 11867, 2042...</td>\n",
       "      <td>1</td>\n",
       "      <td>12</td>\n",
       "      <td>1136</td>\n",
       "      <td>4.518486</td>\n",
       "      <td>0.000000</td>\n",
       "      <td>1126</td>\n",
       "    </tr>\n",
       "  </tbody>\n",
       "</table>\n",
       "</div>"
      ],
      "text/plain": [
       "                     org_id city  average_bill    rating      rubrics_id  \\\n",
       "13349   5002407858008059043  spb         500.0  4.894946         [30776]   \n",
       "13638  12784724396885152442  spb        3500.0  4.567690         [30776]   \n",
       "16392  14814427257061788801  spb          -1.0  4.443057         [31350]   \n",
       "31670  12046097390037935713  spb          -1.0  4.518920         [30776]   \n",
       "33679   2070377783033138991  spb         500.0  4.676875  [31350, 30774]   \n",
       "58227   6838233943148091808  spb        1000.0  4.501816         [30774]   \n",
       "\n",
       "                                             features_id  rubrics_l  \\\n",
       "13349             [11704, 20422, 3491465406, 3501618484]          1   \n",
       "13638  [246, 1018, 1509, 11177, 11617, 11629, 11704, ...          1   \n",
       "16392  [11704, 20422, 3491142672, 3501618484, 3501773...          1   \n",
       "31670  [601, 11012, 11704, 20422, 3491142672, 3501618...          1   \n",
       "33679  [246, 1018, 11177, 11617, 11629, 11704, 11867,...          2   \n",
       "58227  [1018, 11177, 11617, 11629, 11704, 11867, 2042...          1   \n",
       "\n",
       "       features_l  n_reviews  mean_score  mean_aspects  n_travels  \n",
       "13349           4       5080    4.892717      0.000000       2218  \n",
       "13638          14       1964    4.571283      0.387984       1040  \n",
       "16392           6      13228    4.371560      0.003553       2050  \n",
       "31670           7      49605    4.456144      0.003850       8679  \n",
       "33679          10       3092    4.682730      0.351552       1230  \n",
       "58227          12       1136    4.518486      0.000000       1126  "
      ]
     },
     "execution_count": 19,
     "metadata": {},
     "output_type": "execute_result"
    }
   ],
   "source": [
    "orgs_df[orgs_df.n_travels>1000]"
   ]
  },
  {
   "cell_type": "code",
   "execution_count": 21,
   "metadata": {},
   "outputs": [
    {
     "data": {
      "text/plain": [
       "<AxesSubplot:xlabel='rating', ylabel='mean_score'>"
      ]
     },
     "execution_count": 21,
     "metadata": {},
     "output_type": "execute_result"
    },
    {
     "data": {
      "image/png": "[encoded data removed]",
      "text/plain": [
       "<Figure size 432x288 with 1 Axes>"
      ]
     },
     "metadata": {
      "needs_background": "light"
     },
     "output_type": "display_data"
    }
   ],
   "source": [
    "sns.scatterplot(data=orgs_df, x='rating',y='mean_score')"
   ]
  },
  {
   "cell_type": "code",
   "execution_count": null,
   "metadata": {},
   "outputs": [],
   "source": [
    "g = sns.FacetGrid(orgs_df, col=\"city\",height=10, aspect=.7)\n",
    "g.map(sns.scatterplot, \"average_bill\",\"rating\")"
   ]
  },
  {
   "cell_type": "code",
   "execution_count": null,
   "metadata": {},
   "outputs": [],
   "source": [
    "fig, axs = plt.subplots(nrows=3 ,figsize = (15,16))\n",
    "sns.ecdfplot(data=review_stats[review_stats.n_ratings<10], x='n_ratings', stat='proportion', ax=axs[0])\n",
    "sns.histplot(data=review_stats, x='mean_rating', stat='proportion', ax=axs[1], bins=6)\n",
    "sns.ecdfplot(data=review_stats[review_stats.mean_aspects<4], x='mean_aspects', stat='proportion', ax=axs[2])"
   ]
  },
  {
   "cell_type": "code",
   "execution_count": null,
   "metadata": {},
   "outputs": [],
   "source": [
    "fig, axs = plt.subplots(nrows=2 ,figsize = (15,16))\n",
    "sns.histplot(data=reviews, x='in_test', stat='percent', ax=axs[0])\n",
    "sns.histplot(data=reviews, x='travel', stat='percent', ax=axs[1])"
   ]
  },
  {
   "cell_type": "code",
   "execution_count": null,
   "metadata": {},
   "outputs": [],
   "source": [
    "sns.histplot(count_stat, x='rating', bins=[1,2,3,5,10,50], stat='percent')"
   ]
  },
  {
   "cell_type": "code",
   "execution_count": 34,
   "metadata": {},
   "outputs": [
    {
     "data": {
      "text/plain": [
       "5000"
      ]
     },
     "execution_count": 34,
     "metadata": {},
     "output_type": "execute_result"
    }
   ],
   "source": []
  }
 ],
 "metadata": {
  "kernelspec": {
   "display_name": "Python 3",
   "language": "python",
   "name": "python3"
  },
  "language_info": {
   "codemirror_mode": {
    "name": "ipython",
    "version": 3
   },
   "file_extension": ".py",
   "mimetype": "text/x-python",
   "name": "python",
   "nbconvert_exporter": "python",
   "pygments_lexer": "ipython3",
   "version": "3.8.10"
  }
 },
 "nbformat": 4,
 "nbformat_minor": 4
}
