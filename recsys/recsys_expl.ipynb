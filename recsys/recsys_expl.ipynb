{
 "cells": [
  {
   "cell_type": "code",
   "execution_count": 144,
   "metadata": {},
   "outputs": [],
   "source": [
    "%matplotlib inline\n",
    "%reload_ext autoreload\n",
    "%autoreload 2"
   ]
  },
  {
   "cell_type": "code",
   "execution_count": 145,
   "metadata": {},
   "outputs": [],
   "source": [
    "import numpy as np\n",
    "import pandas as pd\n",
    "import seaborn as sns\n",
    "import matplotlib.pyplot as plt\n",
    "from scipy import sparse"
   ]
  },
  {
   "cell_type": "code",
   "execution_count": 222,
   "metadata": {},
   "outputs": [],
   "source": [
    "from load_functions import *\n",
    "from transform_functions import *\n",
    "from score_functions import *\n",
    "from i2i_functions import *"
   ]
  },
  {
   "cell_type": "code",
   "execution_count": 180,
   "metadata": {},
   "outputs": [
    {
     "name": "stdout",
     "output_type": "stream",
     "text": [
      "16967 1252801 16967\n"
     ]
    }
   ],
   "source": [
    "test_users = pd.read_csv('test_users.csv', dtype=str, names=['user_id'],header=0)\n",
    "users_df = load_users('users.csv', test_users)\n",
    "orgs_df = load_orgs('organisations.csv')\n",
    "test_users_with_city = users_df[users_df.in_test==1][['user_id','city']]\n",
    "print(len(test_users),len(users_df),len(test_users_with_city))"
   ]
  },
  {
   "cell_type": "code",
   "execution_count": 184,
   "metadata": {},
   "outputs": [],
   "source": [
    "reviews, user_agg, org_agg = load_reviews(users_df=users_df, orgs_df=orgs_df)\n",
    "orgs_df = orgs_df.merge(org_agg, on='org_id')\n",
    "users_df = users_df.merge(user_agg, on='user_id', how='left')"
   ]
  },
  {
   "cell_type": "code",
   "execution_count": 181,
   "metadata": {},
   "outputs": [],
   "source": [
    "test_users_df = test_users_with_city\\\n",
    "    .merge(reviews[reviews.rating>=4.0][['user_id','org_id']], on='user_id', how='left')\\\n",
    "    .groupby(['user_id','city'])\\\n",
    "    .aggregate(list)\\\n",
    "    .reset_index()"
   ]
  },
  {
   "cell_type": "code",
   "execution_count": 187,
   "metadata": {},
   "outputs": [],
   "source": [
    "result, encs = prepare_reviews_i2i(reviews, users_df, orgs_df)"
   ]
  },
  {
   "cell_type": "code",
   "execution_count": 60,
   "metadata": {},
   "outputs": [],
   "source": [
    "m=reviews_matrix(result, encs)"
   ]
  },
  {
   "cell_type": "code",
   "execution_count": 61,
   "metadata": {},
   "outputs": [],
   "source": [
    "cc_mat = m.T * m"
   ]
  },
  {
   "cell_type": "code",
   "execution_count": 235,
   "metadata": {},
   "outputs": [],
   "source": [
    "# J_sim = CC_2_J(cc_mat)\n",
    "# pmi_sim = CC_2_pmi(cc_mat)\n",
    "ease_sim = ease_solution(cc_mat, l2=5000).T"
   ]
  },
  {
   "cell_type": "code",
   "execution_count": 231,
   "metadata": {},
   "outputs": [],
   "source": [
    "# J_preds = i2i_predict(J_sim, test_users_df, encs)\n",
    "# pmi_preds = i2i_predict(pmi_sim, test_users_df, encs)\n",
    "ease_preds = i2i_predict(ease_sim, test_users_df, encs)"
   ]
  },
  {
   "cell_type": "code",
   "execution_count": 234,
   "metadata": {},
   "outputs": [],
   "source": [
    "merged = i2i_predict_merged([J_sim, ease_sim],[1,1], test_users_df, encs)"
   ]
  },
  {
   "cell_type": "code",
   "execution_count": 233,
   "metadata": {},
   "outputs": [
    {
     "name": "stdout",
     "output_type": "stream",
     "text": [
      "All good\n"
     ]
    }
   ],
   "source": [
    "validate_preds(fallback_with_top_recs(ease_preds, orgs_df), orgs_df, users_df)"
   ]
  },
  {
   "cell_type": "code",
   "execution_count": 225,
   "metadata": {},
   "outputs": [],
   "source": [
    "save_predictions(fallback_with_top_recs(merged, orgs_df), path='merged_ans.csv')"
   ]
  },
  {
   "cell_type": "code",
   "execution_count": 219,
   "metadata": {},
   "outputs": [],
   "source": [
    "save_predictions(fallback_with_top_recs(pmi_preds, orgs_df), path='pmi_ans.csv')"
   ]
  },
  {
   "cell_type": "code",
   "execution_count": 232,
   "metadata": {},
   "outputs": [],
   "source": [
    "save_predictions(fallback_with_top_recs(ease_preds, orgs_df), path='ease_ans.csv')"
   ]
  },
  {
   "cell_type": "code",
   "execution_count": 196,
   "metadata": {},
   "outputs": [],
   "source": [
    "save_predictions(fallback_with_top_recs(J_preds,orgs_df), path='J_ans.csv')"
   ]
  },
  {
   "cell_type": "code",
   "execution_count": 129,
   "metadata": {},
   "outputs": [],
   "source": [
    "save_predictions(ease_preds)"
   ]
  },
  {
   "cell_type": "code",
   "execution_count": 127,
   "metadata": {},
   "outputs": [
    {
     "data": {
      "text/html": [
       "<div>\n",
       "<style scoped>\n",
       "    .dataframe tbody tr th:only-of-type {\n",
       "        vertical-align: middle;\n",
       "    }\n",
       "\n",
       "    .dataframe tbody tr th {\n",
       "        vertical-align: top;\n",
       "    }\n",
       "\n",
       "    .dataframe thead th {\n",
       "        text-align: right;\n",
       "    }\n",
       "</style>\n",
       "<table border=\"1\" class=\"dataframe\">\n",
       "  <thead>\n",
       "    <tr style=\"text-align: right;\">\n",
       "      <th></th>\n",
       "      <th>org_id</th>\n",
       "      <th>city</th>\n",
       "      <th>average_bill</th>\n",
       "      <th>rating</th>\n",
       "      <th>rubrics_id</th>\n",
       "      <th>features_id</th>\n",
       "      <th>rubrics_l</th>\n",
       "      <th>features_l</th>\n",
       "      <th>n_reviews</th>\n",
       "      <th>mean_score</th>\n",
       "      <th>mean_aspects</th>\n",
       "      <th>n_travels</th>\n",
       "    </tr>\n",
       "  </thead>\n",
       "  <tbody>\n",
       "    <tr>\n",
       "      <th>44793</th>\n",
       "      <td>10844805130705177109</td>\n",
       "      <td>spb</td>\n",
       "      <td>-1.0</td>\n",
       "      <td>4.857143</td>\n",
       "      <td>[30774]</td>\n",
       "      <td>[]</td>\n",
       "      <td>1</td>\n",
       "      <td>0</td>\n",
       "      <td>3</td>\n",
       "      <td>5.0</td>\n",
       "      <td>0.0</td>\n",
       "      <td>3</td>\n",
       "    </tr>\n",
       "  </tbody>\n",
       "</table>\n",
       "</div>"
      ],
      "text/plain": [
       "                     org_id city  average_bill    rating rubrics_id  \\\n",
       "44793  10844805130705177109  spb          -1.0  4.857143    [30774]   \n",
       "\n",
       "      features_id  rubrics_l  features_l  n_reviews  mean_score  mean_aspects  \\\n",
       "44793          []          1           0          3         5.0           0.0   \n",
       "\n",
       "       n_travels  \n",
       "44793          3  "
      ]
     },
     "execution_count": 127,
     "metadata": {},
     "output_type": "execute_result"
    }
   ],
   "source": [
    "orgs_df[orgs_df.org_id=='10844805130705177109']"
   ]
  },
  {
   "cell_type": "code",
   "execution_count": 23,
   "metadata": {},
   "outputs": [],
   "source": [
    "aspects = load_aspects()\n",
    "rubrics = load_rubrics(orgs_df=orgs_df)\n",
    "features = load_features(orgs_df=orgs_df)"
   ]
  },
  {
   "cell_type": "code",
   "execution_count": 7,
   "metadata": {},
   "outputs": [],
   "source": [
    "user_enc = index_items(users_df['user_id'])\n",
    "org_enc = index_items(orgs_df['org_id'])\n",
    "\n",
    "aspects_enc = index_items(aspects['aspect_id'])\n",
    "rubrics_enc = index_items(rubrics['rubric_id'])\n",
    "features_enc = index_items(features['feature_id'])"
   ]
  },
  {
   "cell_type": "code",
   "execution_count": 108,
   "metadata": {},
   "outputs": [],
   "source": [
    "final_pred = top_recs(orgs_df, test_users)\n",
    "save_predictions(final_pred)"
   ]
  }
 ],
 "metadata": {
  "kernelspec": {
   "display_name": "Python 3 (ipykernel)",
   "language": "python",
   "name": "python3"
  },
  "language_info": {
   "codemirror_mode": {
    "name": "ipython",
    "version": 3
   },
   "file_extension": ".py",
   "mimetype": "text/x-python",
   "name": "python",
   "nbconvert_exporter": "python",
   "pygments_lexer": "ipython3",
   "version": "3.9.5"
  }
 },
 "nbformat": 4,
 "nbformat_minor": 4
}
