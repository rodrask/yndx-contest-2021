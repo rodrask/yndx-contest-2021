{
 "cells": [
  {
   "cell_type": "code",
   "execution_count": 2,
   "metadata": {},
   "outputs": [],
   "source": [
    "import numpy as np\n",
    "import pandas as pd\n",
    "\n",
    "import matplotlib.pyplot as plt\n",
    "import seaborn as sns\n",
    "\n",
    "from scipy import sparse\n",
    "from tqdm.notebook import tqdm\n",
    "\n",
    "%matplotlib inline"
   ]
  },
  {
   "cell_type": "markdown",
   "metadata": {},
   "source": [
    "# Сырые данные"
   ]
  },
  {
   "cell_type": "markdown",
   "metadata": {},
   "source": [
    "## Считываем данные из .csv"
   ]
  },
  {
   "cell_type": "markdown",
   "metadata": {},
   "source": [
    "Некоторые данные (такие как рубрики и признаки), представлены строками значений. Преобразуем их в списки чисел. "
   ]
  },
  {
   "cell_type": "code",
   "execution_count": 3,
   "metadata": {},
   "outputs": [],
   "source": [
    "to_list = lambda rubrics: [int(rubric) for rubric in str(rubrics).split(' ')]\n",
    "def apply_to_columns(df, columns, func=to_list):\n",
    "    for column in columns:\n",
    "        df.loc[~df[column].isnull(), column] = df.loc[~df[column].isnull(), column].apply(func)"
   ]
  },
  {
   "cell_type": "markdown",
   "metadata": {},
   "source": [
    "В первую очередь нам понадобятся данные по __пользователям__, __организациям__ и сами __отзывы__. "
   ]
  },
  {
   "cell_type": "code",
   "execution_count": 4,
   "metadata": {},
   "outputs": [
    {
     "data": {
      "text/html": [
       "<div>\n",
       "<style scoped>\n",
       "    .dataframe tbody tr th:only-of-type {\n",
       "        vertical-align: middle;\n",
       "    }\n",
       "\n",
       "    .dataframe tbody tr th {\n",
       "        vertical-align: top;\n",
       "    }\n",
       "\n",
       "    .dataframe thead th {\n",
       "        text-align: right;\n",
       "    }\n",
       "</style>\n",
       "<table border=\"1\" class=\"dataframe\">\n",
       "  <thead>\n",
       "    <tr style=\"text-align: right;\">\n",
       "      <th></th>\n",
       "      <th>user_id</th>\n",
       "      <th>city</th>\n",
       "    </tr>\n",
       "  </thead>\n",
       "  <tbody>\n",
       "    <tr>\n",
       "      <th>0</th>\n",
       "      <td>523295021912509756</td>\n",
       "      <td>msk</td>\n",
       "    </tr>\n",
       "    <tr>\n",
       "      <th>1</th>\n",
       "      <td>11952159487361099606</td>\n",
       "      <td>msk</td>\n",
       "    </tr>\n",
       "    <tr>\n",
       "      <th>2</th>\n",
       "      <td>16879036589969590999</td>\n",
       "      <td>msk</td>\n",
       "    </tr>\n",
       "    <tr>\n",
       "      <th>3</th>\n",
       "      <td>12791716990148606332</td>\n",
       "      <td>msk</td>\n",
       "    </tr>\n",
       "    <tr>\n",
       "      <th>4</th>\n",
       "      <td>11642393216024958726</td>\n",
       "      <td>msk</td>\n",
       "    </tr>\n",
       "  </tbody>\n",
       "</table>\n",
       "</div>"
      ],
      "text/plain": [
       "                user_id city\n",
       "0    523295021912509756  msk\n",
       "1  11952159487361099606  msk\n",
       "2  16879036589969590999  msk\n",
       "3  12791716990148606332  msk\n",
       "4  11642393216024958726  msk"
      ]
     },
     "execution_count": 4,
     "metadata": {},
     "output_type": "execute_result"
    }
   ],
   "source": [
    "users = pd.read_csv('users.csv')\n",
    "users.head()"
   ]
  },
  {
   "cell_type": "code",
   "execution_count": 5,
   "metadata": {},
   "outputs": [
    {
     "data": {
      "text/plain": [
       "0            523295021912509756\n",
       "1          11952159487361099606\n",
       "2          16879036589969590999\n",
       "3          12791716990148606332\n",
       "4          11642393216024958726\n",
       "                   ...         \n",
       "1252796     4041285221021488584\n",
       "1252797     5513108081655150498\n",
       "1252798    10646870695977399500\n",
       "1252799     5822981410234667999\n",
       "1252800     3263863687260387202\n",
       "Name: user_id, Length: 1252801, dtype: object"
      ]
     },
     "execution_count": 5,
     "metadata": {},
     "output_type": "execute_result"
    }
   ],
   "source": [
    "users['user_id'].astype('str')"
   ]
  },
  {
   "cell_type": "code",
   "execution_count": 6,
   "metadata": {},
   "outputs": [
    {
     "data": {
      "text/html": [
       "<div>\n",
       "<style scoped>\n",
       "    .dataframe tbody tr th:only-of-type {\n",
       "        vertical-align: middle;\n",
       "    }\n",
       "\n",
       "    .dataframe tbody tr th {\n",
       "        vertical-align: top;\n",
       "    }\n",
       "\n",
       "    .dataframe thead th {\n",
       "        text-align: right;\n",
       "    }\n",
       "</style>\n",
       "<table border=\"1\" class=\"dataframe\">\n",
       "  <thead>\n",
       "    <tr style=\"text-align: right;\">\n",
       "      <th></th>\n",
       "      <th>org_id</th>\n",
       "      <th>city</th>\n",
       "      <th>average_bill</th>\n",
       "      <th>rating</th>\n",
       "      <th>rubrics_id</th>\n",
       "      <th>features_id</th>\n",
       "    </tr>\n",
       "  </thead>\n",
       "  <tbody>\n",
       "    <tr>\n",
       "      <th>0</th>\n",
       "      <td>16848414477362211020</td>\n",
       "      <td>spb</td>\n",
       "      <td>1000.0</td>\n",
       "      <td>4.479702</td>\n",
       "      <td>[30776, 31375]</td>\n",
       "      <td>[1018, 1509, 11177, 11617, 11629, 11704, 11867...</td>\n",
       "    </tr>\n",
       "    <tr>\n",
       "      <th>1</th>\n",
       "      <td>1430604733320164116</td>\n",
       "      <td>spb</td>\n",
       "      <td>1000.0</td>\n",
       "      <td>4.514509</td>\n",
       "      <td>[30776, 30770]</td>\n",
       "      <td>[246, 1018, 11617, 11629, 11704, 11867, 20422,...</td>\n",
       "    </tr>\n",
       "    <tr>\n",
       "      <th>2</th>\n",
       "      <td>9880309324224147401</td>\n",
       "      <td>spb</td>\n",
       "      <td>1000.0</td>\n",
       "      <td>3.884615</td>\n",
       "      <td>[30770, 30774]</td>\n",
       "      <td>[1018, 11177, 11617, 11629, 11704, 11867, 2042...</td>\n",
       "    </tr>\n",
       "    <tr>\n",
       "      <th>3</th>\n",
       "      <td>5617879987171966456</td>\n",
       "      <td>spb</td>\n",
       "      <td>1000.0</td>\n",
       "      <td>NaN</td>\n",
       "      <td>[30774, 30775]</td>\n",
       "      <td>[1018, 1509, 10596, 11177, 11629, 11634, 11704...</td>\n",
       "    </tr>\n",
       "    <tr>\n",
       "      <th>4</th>\n",
       "      <td>5241461680470612149</td>\n",
       "      <td>spb</td>\n",
       "      <td>1000.0</td>\n",
       "      <td>4.532468</td>\n",
       "      <td>[30776]</td>\n",
       "      <td>[1018, 11177, 11617, 11629, 11704, 11867, 2042...</td>\n",
       "    </tr>\n",
       "  </tbody>\n",
       "</table>\n",
       "</div>"
      ],
      "text/plain": [
       "                 org_id city  average_bill    rating      rubrics_id  \\\n",
       "0  16848414477362211020  spb        1000.0  4.479702  [30776, 31375]   \n",
       "1   1430604733320164116  spb        1000.0  4.514509  [30776, 30770]   \n",
       "2   9880309324224147401  spb        1000.0  3.884615  [30770, 30774]   \n",
       "3   5617879987171966456  spb        1000.0       NaN  [30774, 30775]   \n",
       "4   5241461680470612149  spb        1000.0  4.532468         [30776]   \n",
       "\n",
       "                                         features_id  \n",
       "0  [1018, 1509, 11177, 11617, 11629, 11704, 11867...  \n",
       "1  [246, 1018, 11617, 11629, 11704, 11867, 20422,...  \n",
       "2  [1018, 11177, 11617, 11629, 11704, 11867, 2042...  \n",
       "3  [1018, 1509, 10596, 11177, 11629, 11634, 11704...  \n",
       "4  [1018, 11177, 11617, 11629, 11704, 11867, 2042...  "
      ]
     },
     "execution_count": 6,
     "metadata": {},
     "output_type": "execute_result"
    }
   ],
   "source": [
    "orgs = pd.read_csv('organisations.csv')\n",
    "\n",
    "# create lists\n",
    "columns = ['rubrics_id', 'features_id']\n",
    "apply_to_columns(orgs, columns)\n",
    "\n",
    "orgs.head()"
   ]
  },
  {
   "cell_type": "markdown",
   "metadata": {},
   "source": [
    "Чтобы не делать __join__ каждый раз, когда нам потребуется узнать, из какого города организация или пользователь, сразу добавим эту информацию в отзывы."
   ]
  },
  {
   "cell_type": "code",
   "execution_count": 7,
   "metadata": {},
   "outputs": [
    {
     "data": {
      "text/html": [
       "<div>\n",
       "<style scoped>\n",
       "    .dataframe tbody tr th:only-of-type {\n",
       "        vertical-align: middle;\n",
       "    }\n",
       "\n",
       "    .dataframe tbody tr th {\n",
       "        vertical-align: top;\n",
       "    }\n",
       "\n",
       "    .dataframe thead th {\n",
       "        text-align: right;\n",
       "    }\n",
       "</style>\n",
       "<table border=\"1\" class=\"dataframe\">\n",
       "  <thead>\n",
       "    <tr style=\"text-align: right;\">\n",
       "      <th></th>\n",
       "      <th>user_id</th>\n",
       "      <th>org_id</th>\n",
       "      <th>rating</th>\n",
       "      <th>ts</th>\n",
       "      <th>aspects</th>\n",
       "      <th>user_city</th>\n",
       "      <th>org_city</th>\n",
       "    </tr>\n",
       "  </thead>\n",
       "  <tbody>\n",
       "    <tr>\n",
       "      <th>0</th>\n",
       "      <td>16998268288908323644</td>\n",
       "      <td>7184895086928047809</td>\n",
       "      <td>2.0</td>\n",
       "      <td>105</td>\n",
       "      <td>NaN</td>\n",
       "      <td>msk</td>\n",
       "      <td>msk</td>\n",
       "    </tr>\n",
       "    <tr>\n",
       "      <th>1</th>\n",
       "      <td>3121447338909258868</td>\n",
       "      <td>7184895086928047809</td>\n",
       "      <td>5.0</td>\n",
       "      <td>464</td>\n",
       "      <td>NaN</td>\n",
       "      <td>msk</td>\n",
       "      <td>msk</td>\n",
       "    </tr>\n",
       "    <tr>\n",
       "      <th>2</th>\n",
       "      <td>1970649778250883025</td>\n",
       "      <td>7184895086928047809</td>\n",
       "      <td>3.0</td>\n",
       "      <td>789</td>\n",
       "      <td>NaN</td>\n",
       "      <td>msk</td>\n",
       "      <td>msk</td>\n",
       "    </tr>\n",
       "    <tr>\n",
       "      <th>3</th>\n",
       "      <td>7554889464530643866</td>\n",
       "      <td>7184895086928047809</td>\n",
       "      <td>4.0</td>\n",
       "      <td>936</td>\n",
       "      <td>NaN</td>\n",
       "      <td>msk</td>\n",
       "      <td>msk</td>\n",
       "    </tr>\n",
       "    <tr>\n",
       "      <th>4</th>\n",
       "      <td>15907910894057053620</td>\n",
       "      <td>7184895086928047809</td>\n",
       "      <td>1.0</td>\n",
       "      <td>1143</td>\n",
       "      <td>NaN</td>\n",
       "      <td>msk</td>\n",
       "      <td>msk</td>\n",
       "    </tr>\n",
       "  </tbody>\n",
       "</table>\n",
       "</div>"
      ],
      "text/plain": [
       "                user_id               org_id  rating    ts aspects user_city  \\\n",
       "0  16998268288908323644  7184895086928047809     2.0   105     NaN       msk   \n",
       "1   3121447338909258868  7184895086928047809     5.0   464     NaN       msk   \n",
       "2   1970649778250883025  7184895086928047809     3.0   789     NaN       msk   \n",
       "3   7554889464530643866  7184895086928047809     4.0   936     NaN       msk   \n",
       "4  15907910894057053620  7184895086928047809     1.0  1143     NaN       msk   \n",
       "\n",
       "  org_city  \n",
       "0      msk  \n",
       "1      msk  \n",
       "2      msk  \n",
       "3      msk  \n",
       "4      msk  "
      ]
     },
     "execution_count": 7,
     "metadata": {},
     "output_type": "execute_result"
    }
   ],
   "source": [
    "reviews = pd.read_csv('reviews.csv', low_memory=False)\n",
    "\n",
    "# encode users ids as numeric\n",
    "reviews = reviews.merge(users, on='user_id')\n",
    "reviews = reviews.rename({'city': 'user_city'}, axis=1)\n",
    "\n",
    "# # encode orgs ids as numeric\n",
    "reviews = reviews.merge(orgs[['org_id', 'city']], on='org_id')\n",
    "reviews = reviews.rename({'city': 'org_city'}, axis=1)\n",
    "\n",
    "# # create lists\n",
    "columns = ['aspects']\n",
    "apply_to_columns(reviews, columns)\n",
    "\n",
    "reviews.head()"
   ]
  },
  {
   "cell_type": "markdown",
   "metadata": {},
   "source": [
    "Отлично, теперь с отзывами будет удобно работать. \n",
    "\n",
    "Посмотрим на распределение новых отзывов по дням, чтобы понять, как лучше организовать валидацию. "
   ]
  },
  {
   "cell_type": "code",
   "execution_count": 8,
   "metadata": {},
   "outputs": [
    {
     "data": {
      "image/png": "[encoded data removed]",
      "text/plain": [
       "<Figure size 576x576 with 1 Axes>"
      ]
     },
     "metadata": {
      "needs_background": "light"
     },
     "output_type": "display_data"
    }
   ],
   "source": [
    "sns.displot(data=reviews, x='ts', height=8)\n",
    "plt.title('Распределение отзывов по дням')\n",
    "plt.show()"
   ]
  },
  {
   "cell_type": "markdown",
   "metadata": {},
   "source": [
    "# Train-test split"
   ]
  },
  {
   "cell_type": "code",
   "execution_count": 10,
   "metadata": {},
   "outputs": [],
   "source": [
    "def clear_df(df, suffixes=['_x', '_y'], inplace=True):\n",
    "    '''\n",
    "    clear_df(df, suffixes=['_x', '_y'], inplace=True)\n",
    "        Удаляет из входного df все колонки, оканчивающиеся на заданные суффиксы. \n",
    "        \n",
    "        Parameters\n",
    "        ----------\n",
    "        df : pandas.DataFrame\n",
    "        \n",
    "        suffixies : Iterable, default=['_x', '_y']\n",
    "            Суффиксы колонок, подлежащих удалению\n",
    "            \n",
    "        inplace : bool, default=True\n",
    "            Нужно ли удалить колонки \"на месте\" или же создать копию DataFrame.\n",
    "            \n",
    "        Returns\n",
    "        -------\n",
    "        pandas.DataFrame (optional)\n",
    "            df с удалёнными колонками\n",
    "    '''\n",
    "    \n",
    "    def bad_suffix(column):\n",
    "        nonlocal suffixes\n",
    "        return any(column.endswith(suffix) for suffix in suffixes)\n",
    "        \n",
    "    columns_to_drop = [col for col in df.columns if bad_suffix(col)]\n",
    "    return df.drop(columns_to_drop, axis=1, inplace=inplace)\n",
    "\n",
    "\n",
    "def extract_unique(reviews, column): \n",
    "    '''\n",
    "    extract_unique(reviews, column)\n",
    "        Извлекает уникальные значения из колонки в DataFrame.\n",
    "        \n",
    "        Parameters\n",
    "        ----------\n",
    "        reviews : pandas.DataFrame\n",
    "            pandas.DataFrame, из которого будут извлечены значения.\n",
    "        \n",
    "        column : str\n",
    "            Имя колонки в <reviews>.\n",
    "        \n",
    "        Returns\n",
    "        -------\n",
    "        pandas.DataFrame\n",
    "            Содержит одну именованную колонку с уникальными значениями. \n",
    "    '''\n",
    "    \n",
    "    unique = reviews[column].unique()\n",
    "    return pd.DataFrame({column: unique})\n",
    "\n",
    "\n",
    "def count_unique(reviews, column):\n",
    "    '''\n",
    "    count_unique(reviews, column)\n",
    "        Извлекает и подсчитывает уникальные значения из колонки в DataFrame.\n",
    "        \n",
    "        Parameters\n",
    "        ----------\n",
    "        reviews : pandas.DataFrame\n",
    "            pandas.DataFrame, из которого будут извлечены значения.\n",
    "        \n",
    "        column : str\n",
    "            Имя колонки в <reviews>.\n",
    "        \n",
    "        Returns\n",
    "        -------\n",
    "        pandas.DataFrame\n",
    "            Содержит две колонки: с уникальными значениями и счётчиком встреченных. \n",
    "    '''\n",
    "    \n",
    "    return reviews[column].value_counts().reset_index(name='count').rename({'index': column}, axis=1)\n",
    "\n",
    "\n",
    "\n",
    "def filter_reviews(reviews, users=None, orgs=None): \n",
    "    '''\n",
    "    filter_reviews(reviews, users=None, orgs=None)\n",
    "    Оставляет в выборке только отзывы, оставленные заданными пользователями на заданные организации. \n",
    "    \n",
    "    Parameters\n",
    "    ----------\n",
    "        users: pandas.DataFrame, default=None\n",
    "            DataFrame, содержащий колонку <user_id>.\n",
    "            Если None, то фильтрация не происходит. \n",
    "            \n",
    "        orgs: pandas.DataFrame, default=None\n",
    "            DataFrame, содержащий колонку <org_id>.\n",
    "            Если None, то фильтрация не происходит. \n",
    "    \n",
    "    Returns\n",
    "    -------\n",
    "        pandas.DataFrame\n",
    "            Отфильтрованная выборка отзывов. \n",
    "\n",
    "    '''\n",
    "    if users is not None: \n",
    "        reviews = reviews.merge(users, on='user_id', how='inner')\n",
    "        clear_df(reviews)\n",
    "        \n",
    "    if orgs is not None:\n",
    "        reviews = reviews.merge(orgs, on='org_id', how='inner')\n",
    "        clear_df(reviews)\n",
    "        \n",
    "    return reviews\n",
    "\n",
    "\n",
    "def train_test_split(reviews, ts_start, ts_end=None):\n",
    "    '''\n",
    "    train_test_split(reviews, ts_start, ts_end=None)\n",
    "        Разделяет выборку отзывов на две части: обучающую и тестовую. \n",
    "        В тестовую выборку попадают только отзывы с user_id и org_id, встречающимися в обучающей выборке.\n",
    "\n",
    "        Parameters\n",
    "        ----------\n",
    "        reviews : pandas.DataFrame \n",
    "            Отзывы из reviews.csv с обязательными полями:\n",
    "                <rating>, <ts>, <user_id>, <user_city>, <org_id>, <org_city>.\n",
    "\n",
    "        ts_start : int\n",
    "            Первый день отзывов из тестовой выборки (включительно).\n",
    "\n",
    "        ts_end : int, default=None\n",
    "            Последний день отзывов из обучающей выборки (включительно)\n",
    "            Если параметр равен None, то ts_end == reviews['ts'].max(). \n",
    "\n",
    "        Returns\n",
    "        -------\n",
    "        splitting : tuple\n",
    "            Кортеж из двух pandas.DataFrame такой же структуры, как и reviews:\n",
    "            в первом отзывы, попавшие в обучающую выборку, во втором - в тестовую.\n",
    "    '''\n",
    "    \n",
    "    if not ts_end:\n",
    "        ts_end = reviews['ts'].max()\n",
    "    \n",
    "    \n",
    "    reviews_train = reviews[(reviews['ts'] < ts_start) | (reviews['ts'] > ts_end)]\n",
    "    reviews_test = reviews[(ts_start <= reviews['ts']) & (reviews['ts'] <= ts_end)]\n",
    "    \n",
    "    # 1. Выбираем только отзывы на понравившиеся места у путешественников\n",
    "    reviews_test = reviews_test[reviews_test['rating'] >= 4.0]\n",
    "    reviews_test = reviews_test[reviews_test['user_city'] != reviews_test['org_city']]\n",
    "    \n",
    "    # 2. Оставляем в тесте только тех пользователей и организации, которые встречались в трейне\n",
    "    train_orgs = extract_unique(reviews_train, 'org_id')\n",
    "    train_users = extract_unique(reviews_train, 'user_id')\n",
    "    \n",
    "    reviews_test = filter_reviews(reviews_test, orgs=train_orgs)\n",
    "\n",
    "    return reviews_train, reviews_test\n",
    "\n",
    "\n",
    "def process_reviews(reviews):\n",
    "    '''\n",
    "    process_reviews(reviews)\n",
    "        Извлекает из набора отзывов тестовых пользователей и таргет. \n",
    "        \n",
    "        Parameters\n",
    "        ----------\n",
    "        reviews : pandas.DataFrame\n",
    "            DataFrame с отзывами, содержащий колонки <user_id> и <org_id>\n",
    "        \n",
    "        Returns\n",
    "        -------\n",
    "        X : pandas.DataFrame\n",
    "            DataFrame такой же структуры, как и в test_users.csv\n",
    "            \n",
    "        y : pandas.DataFrame\n",
    "            DataFrame с колонками <user_id> и <target>. \n",
    "            В <target> содержится список org_id, посещённых пользователем. \n",
    "    '''\n",
    "    \n",
    "    y = reviews.groupby('user_id')['org_id'].apply(list).reset_index(name='target')\n",
    "    X = pd.DataFrame(y['user_id'])\n",
    "    \n",
    "    return X, y"
   ]
  },
  {
   "cell_type": "code",
   "execution_count": 11,
   "metadata": {},
   "outputs": [
    {
     "data": {
      "text/plain": [
       "1216"
      ]
     },
     "execution_count": 11,
     "metadata": {},
     "output_type": "execute_result"
    }
   ],
   "source": [
    "reviews['ts'].max()"
   ]
  },
  {
   "cell_type": "markdown",
   "metadata": {},
   "source": [
    "Всего в выборку попали отызывы за **1216** дней. \n",
    "\n",
    "Отложим в тестовую выборку отзывы за последние **100** дней."
   ]
  },
  {
   "cell_type": "code",
   "execution_count": 12,
   "metadata": {},
   "outputs": [],
   "source": [
    "train_reviews, test_reviews = train_test_split(reviews, 1116)\n",
    "X_test, y_test = process_reviews(test_reviews)"
   ]
  },
  {
   "cell_type": "code",
   "execution_count": 18,
   "metadata": {},
   "outputs": [
    {
     "data": {
      "text/html": [
       "<div>\n",
       "<style scoped>\n",
       "    .dataframe tbody tr th:only-of-type {\n",
       "        vertical-align: middle;\n",
       "    }\n",
       "\n",
       "    .dataframe tbody tr th {\n",
       "        vertical-align: top;\n",
       "    }\n",
       "\n",
       "    .dataframe thead th {\n",
       "        text-align: right;\n",
       "    }\n",
       "</style>\n",
       "<table border=\"1\" class=\"dataframe\">\n",
       "  <thead>\n",
       "    <tr style=\"text-align: right;\">\n",
       "      <th></th>\n",
       "      <th>user_id</th>\n",
       "      <th>target</th>\n",
       "    </tr>\n",
       "  </thead>\n",
       "  <tbody>\n",
       "    <tr>\n",
       "      <th>0</th>\n",
       "      <td>2183246479913987</td>\n",
       "      <td>[496392304596904549]</td>\n",
       "    </tr>\n",
       "    <tr>\n",
       "      <th>1</th>\n",
       "      <td>2296072303631704</td>\n",
       "      <td>[8639952498359513722]</td>\n",
       "    </tr>\n",
       "    <tr>\n",
       "      <th>2</th>\n",
       "      <td>2734551237953758</td>\n",
       "      <td>[16792714808333152673]</td>\n",
       "    </tr>\n",
       "    <tr>\n",
       "      <th>3</th>\n",
       "      <td>3127332141603176</td>\n",
       "      <td>[17666062872958735246]</td>\n",
       "    </tr>\n",
       "    <tr>\n",
       "      <th>4</th>\n",
       "      <td>8312342049993844</td>\n",
       "      <td>[3510190647522788742]</td>\n",
       "    </tr>\n",
       "    <tr>\n",
       "      <th>...</th>\n",
       "      <td>...</td>\n",
       "      <td>...</td>\n",
       "    </tr>\n",
       "    <tr>\n",
       "      <th>12039</th>\n",
       "      <td>18442659241319947115</td>\n",
       "      <td>[3182217017434418454]</td>\n",
       "    </tr>\n",
       "    <tr>\n",
       "      <th>12040</th>\n",
       "      <td>18443831757209556307</td>\n",
       "      <td>[12254870161467238503]</td>\n",
       "    </tr>\n",
       "    <tr>\n",
       "      <th>12041</th>\n",
       "      <td>18444191212623472278</td>\n",
       "      <td>[14057304744096609518]</td>\n",
       "    </tr>\n",
       "    <tr>\n",
       "      <th>12042</th>\n",
       "      <td>18444723476913326916</td>\n",
       "      <td>[17760854033094560270]</td>\n",
       "    </tr>\n",
       "    <tr>\n",
       "      <th>12043</th>\n",
       "      <td>18445038527396081518</td>\n",
       "      <td>[16770150701984437336]</td>\n",
       "    </tr>\n",
       "  </tbody>\n",
       "</table>\n",
       "<p>12044 rows × 2 columns</p>\n",
       "</div>"
      ],
      "text/plain": [
       "                    user_id                  target\n",
       "0          2183246479913987    [496392304596904549]\n",
       "1          2296072303631704   [8639952498359513722]\n",
       "2          2734551237953758  [16792714808333152673]\n",
       "3          3127332141603176  [17666062872958735246]\n",
       "4          8312342049993844   [3510190647522788742]\n",
       "...                     ...                     ...\n",
       "12039  18442659241319947115   [3182217017434418454]\n",
       "12040  18443831757209556307  [12254870161467238503]\n",
       "12041  18444191212623472278  [14057304744096609518]\n",
       "12042  18444723476913326916  [17760854033094560270]\n",
       "12043  18445038527396081518  [16770150701984437336]\n",
       "\n",
       "[12044 rows x 2 columns]"
      ]
     },
     "execution_count": 18,
     "metadata": {},
     "output_type": "execute_result"
    }
   ],
   "source": [
    "y_test"
   ]
  },
  {
   "cell_type": "markdown",
   "metadata": {},
   "source": [
    "Посмотрим, сколько всего уникальных пользователей попало в эту тестовую выборку:"
   ]
  },
  {
   "cell_type": "code",
   "execution_count": 19,
   "metadata": {},
   "outputs": [
    {
     "data": {
      "text/plain": [
       "12044"
      ]
     },
     "execution_count": 19,
     "metadata": {},
     "output_type": "execute_result"
    }
   ],
   "source": [
    "len(X_test)"
   ]
  },
  {
   "cell_type": "markdown",
   "metadata": {},
   "source": [
    "# Метрика"
   ]
  },
  {
   "cell_type": "markdown",
   "metadata": {},
   "source": [
    "Метрика принимает на вход два DataFrame, имеющих такую же структуру, как и **y_test**.\n",
    "\n",
    "`print_score` домножает реальное значение метрики на 100 так же, как и в контесте.\n",
    "\n",
    "Подобная имплементация используется для оценки **submission**."
   ]
  },
  {
   "cell_type": "code",
   "execution_count": 33,
   "metadata": {},
   "outputs": [],
   "source": [
    "def MNAP(size=20):\n",
    "    '''\n",
    "    MNAP(size=20)\n",
    "        Создаёт метрику под <size> сделанных предсказаний.\n",
    "        \n",
    "        Parameters\n",
    "        ----------\n",
    "        size : int, default=20\n",
    "            Размер рекомендованной выборки для каждого пользователя\n",
    "        \n",
    "        Returns\n",
    "        -------\n",
    "        func(pd.DataFrame, pd.DataFrame) -> float\n",
    "            Функция, вычисляющая MNAP.\n",
    "        \n",
    "    '''\n",
    "    \n",
    "    assert size >= 1, \"Size must be greater than zero!\"\n",
    "    \n",
    "    def metric(y_true, predictions, size=size):\n",
    "        '''\n",
    "        metric(y_true, predictions, size=size)\n",
    "            Метрика MNAP для двух перемешанных наборов <y_true> и <y_pred>.\n",
    "            \n",
    "            Parameters\n",
    "            ----------\n",
    "            y_true : pd.DataFrame\n",
    "                DataFrame с колонками <user_id> и <target>. \n",
    "                В <target> содержится список настоящих org_id, посещённых пользователем. \n",
    "                \n",
    "            predictions : pd.DataFrame\n",
    "                DataFrame с колонками <user_id> и <target>. \n",
    "                В <target> содержится список рекомендованных для пользователя org_id.\n",
    "                \n",
    "            Returns\n",
    "            -------\n",
    "            float \n",
    "                Значение метрики.\n",
    "        '''\n",
    "        \n",
    "        y_true = y_true.rename({'target': 'y_true'}, axis='columns')\n",
    "        predictions = predictions.rename({'target': 'predictions'}, axis='columns')\n",
    "        \n",
    "        merged = y_true.merge(predictions, left_on='user_id', right_on='user_id')\n",
    "    \n",
    "        def score(x, size=size):\n",
    "            '''\n",
    "            Вспомогательная функция.\n",
    "            '''\n",
    "            \n",
    "            \n",
    "            y_true = x[1].y_true\n",
    "            predictions = x[1].predictions[:size]\n",
    "\n",
    "            \n",
    "            weight = 0\n",
    "            \n",
    "            inner_weights = [0]\n",
    "            for n, item in enumerate(predictions):\n",
    "                inner_weight = inner_weights[-1] + (1 if item in y_true else 0)\n",
    "                inner_weights.append(inner_weight)\n",
    "            \n",
    "            for n, item in enumerate(predictions):                \n",
    "                if item in y_true:\n",
    "                    weight += inner_weights[n + 1] / (n + 1)\n",
    "                    \n",
    "            return weight / min(len(y_true), size)\n",
    "    \n",
    "        return np.mean([score(row) for row in merged.iterrows()])\n",
    "    \n",
    "        \n",
    "    return metric\n",
    "\n",
    "\n",
    "def print_score(score):\n",
    "    print(f\"Score: {score*100.0:.2f}\")\n",
    "    \n",
    "    \n",
    "N = 20\n",
    "MNAP_N = MNAP(N)"
   ]
  },
  {
   "cell_type": "markdown",
   "metadata": {},
   "source": [
    "# Подходы без машинного обучения"
   ]
  },
  {
   "cell_type": "markdown",
   "metadata": {},
   "source": [
    "## Случайные N мест"
   ]
  },
  {
   "cell_type": "markdown",
   "metadata": {},
   "source": [
    "Попробуем предлагать пользователям случайные места из другого города. "
   ]
  },
  {
   "cell_type": "code",
   "execution_count": 25,
   "metadata": {},
   "outputs": [],
   "source": [
    "spb_orgs = orgs[orgs['city'] == 'spb']['org_id']\n",
    "msk_orgs = orgs[orgs['city'] == 'msk']['org_id']\n",
    "\n",
    "test_users_with_locations = X_test.merge(users, on='user_id')"
   ]
  },
  {
   "cell_type": "code",
   "execution_count": 34,
   "metadata": {},
   "outputs": [
    {
     "name": "stdout",
     "output_type": "stream",
     "text": [
      "Score: 0.02\n",
      "CPU times: user 4.06 s, sys: 7.33 ms, total: 4.07 s\n",
      "Wall time: 4.04 s\n"
     ]
    }
   ],
   "source": [
    "%%time\n",
    "\n",
    "np.random.seed(1337)\n",
    "choose = lambda x: np.random.choice(spb_orgs, N) if x['city'] == 'msk' else np.random.choice(msk_orgs, N)\n",
    "target = test_users_with_locations.apply(choose, axis=1)\n",
    "\n",
    "predictions = X_test.copy()\n",
    "predictions['target'] = target\n",
    "\n",
    "print_score(MNAP_N(y_test, predictions))"
   ]
  },
  {
   "cell_type": "markdown",
   "metadata": {},
   "source": [
    "## N самых популярных мест"
   ]
  },
  {
   "cell_type": "markdown",
   "metadata": {},
   "source": [
    "Предыдущий подход, очевидно, не очень удачно предсказывает, какие места посетит пользователей. \n",
    "\n",
    "Попробуем улучшить стратегию: будем предлагать пользователям самые популярные места, то есть те, на которые оставлено больше всего отзывов. "
   ]
  },
  {
   "cell_type": "code",
   "execution_count": 14,
   "metadata": {},
   "outputs": [],
   "source": [
    "msk_orgs = train_reviews[(train_reviews['rating'] >= 4) & (train_reviews['org_city'] == 'msk')]['org_id']\n",
    "msk_orgs = msk_orgs.value_counts().index[:N].to_list()\n",
    "\n",
    "spb_orgs = train_reviews[(train_reviews['rating'] >= 4) & (train_reviews['org_city'] == 'spb')]['org_id']\n",
    "spb_orgs = spb_orgs.value_counts().index[:N].to_list()"
   ]
  },
  {
   "cell_type": "code",
   "execution_count": 15,
   "metadata": {},
   "outputs": [
    {
     "name": "stdout",
     "output_type": "stream",
     "text": [
      "Score: 4.21\n",
      "CPU times: user 637 ms, sys: 9.89 ms, total: 647 ms\n",
      "Wall time: 647 ms\n"
     ]
    }
   ],
   "source": [
    "%%time\n",
    "\n",
    "choose = lambda x: spb_orgs if x['city'] == 'msk' else msk_orgs\n",
    "target = test_users_with_locations.apply(choose, axis=1)\n",
    "\n",
    "predictions = X_test.copy()\n",
    "predictions['target'] = target\n",
    "\n",
    "print_score(MNAP_N(y_test, predictions))"
   ]
  },
  {
   "cell_type": "markdown",
   "metadata": {},
   "source": [
    "Отлично, метрика немного улучшилась. Но стоит попробовать доработать эту тактику. "
   ]
  },
  {
   "cell_type": "markdown",
   "metadata": {},
   "source": [
    "## N самых популярных мест среди туристов"
   ]
  },
  {
   "cell_type": "code",
   "execution_count": 16,
   "metadata": {},
   "outputs": [],
   "source": [
    "tourist_reviews = train_reviews[train_reviews['rating'] >= 4.0]\n",
    "\n",
    "# набор отзывов только от туристов\n",
    "tourist_reviews = tourist_reviews[tourist_reviews['user_city'] != tourist_reviews['org_city']]\n",
    "\n",
    "# выбираем самые популярные места среди туристов из Москвы и Питера\n",
    "msk_orgs = tourist_reviews[tourist_reviews['org_city'] == 'msk']['org_id']\n",
    "msk_orgs = msk_orgs.value_counts().index[:N].to_list()\n",
    "\n",
    "spb_orgs = tourist_reviews[tourist_reviews['org_city'] == 'spb']['org_id']\n",
    "spb_orgs = spb_orgs.value_counts().index[:N].to_list()"
   ]
  },
  {
   "cell_type": "code",
   "execution_count": 17,
   "metadata": {},
   "outputs": [
    {
     "name": "stdout",
     "output_type": "stream",
     "text": [
      "Score: 6.40\n",
      "CPU times: user 652 ms, sys: 5.35 ms, total: 657 ms\n",
      "Wall time: 657 ms\n"
     ]
    }
   ],
   "source": [
    "%%time\n",
    "\n",
    "choose = lambda x: spb_orgs if x['city'] == 'msk' else msk_orgs\n",
    "target = test_users_with_locations.apply(choose, axis=1)\n",
    "\n",
    "predictions = X_test.copy()\n",
    "predictions['target'] = target\n",
    "\n",
    "print_score(MNAP_N(y_test, predictions))"
   ]
  },
  {
   "cell_type": "markdown",
   "metadata": {},
   "source": [
    "Метрика улучшилась ещё немного."
   ]
  },
  {
   "cell_type": "markdown",
   "metadata": {},
   "source": [
    "## N / rubrics_count самых популярных мест из каждой рубрики"
   ]
  },
  {
   "cell_type": "code",
   "execution_count": 18,
   "metadata": {},
   "outputs": [],
   "source": [
    "def extract_top_by_rubrics(reviews, N):\n",
    "    '''\n",
    "    extract_top_by_rubrics(reviews, N)\n",
    "        Набирает самые популярные организации по рубрикам, сохраняя распределение.\n",
    "        \n",
    "        Parameters\n",
    "        ----------\n",
    "        reviews : pd.DataFrame\n",
    "            Отзывы пользователей для рекомендации.\n",
    "            \n",
    "        N : int\n",
    "            Число рекомендаций.\n",
    "        \n",
    "        Returns\n",
    "        -------\n",
    "        orgs_list : list\n",
    "            Список отобранных организаций.\n",
    "    '''\n",
    "    \n",
    "    # извлечение популярных рубрик\n",
    "    reviews = reviews.merge(orgs, on='org_id')[['org_id', 'rubrics_id']]\n",
    "    \n",
    "    rubrics = reviews.explode('rubrics_id').groupby('rubrics_id').size()\n",
    "    rubrics = (rubrics / rubrics.sum() * N).apply(round).sort_values(ascending=False)\n",
    "\n",
    "    # вывод списка рубрик по убыванию популярности\n",
    "#     print(\n",
    "#         pd.read_csv('data/rubrics.csv')\n",
    "#         .merge(rubrics.reset_index(), left_index=True, right_on='rubrics_id')\n",
    "#         .sort_values(by=0, ascending=False)[['rubric_id', 0]]\n",
    "#     )\n",
    "    \n",
    "    # извлечение популярных организаций\n",
    "    train_orgs = reviews.groupby('org_id').size().reset_index(name='count').merge(orgs, on='org_id')\n",
    "    train_orgs = train_orgs[['org_id', 'count', 'rubrics_id']]\n",
    "\n",
    "    most_popular_rubric = lambda rubrics_id: max(rubrics_id, key=lambda rubric_id: rubrics[rubric_id])\n",
    "    train_orgs['rubrics_id'] = train_orgs['rubrics_id'].apply(most_popular_rubric)\n",
    "    \n",
    "    orgs_by_rubrics = train_orgs.sort_values(by='count', ascending=False).groupby('rubrics_id')['org_id'].apply(list)\n",
    "    \n",
    "    # соберём самые популярные организации в рубриках в один список\n",
    "    \n",
    "    orgs_list = []\n",
    "\n",
    "    for rubric_id, count in zip(rubrics.index, rubrics):\n",
    "        if rubric_id not in orgs_by_rubrics:\n",
    "            continue \n",
    "\n",
    "        orgs_list.extend(orgs_by_rubrics[rubric_id][:count])\n",
    "    \n",
    "    return orgs_list\n",
    "\n",
    "\n",
    "msk_orgs = extract_top_by_rubrics(tourist_reviews[tourist_reviews['org_city'] == 'msk'], N)\n",
    "spb_orgs = extract_top_by_rubrics(tourist_reviews[tourist_reviews['org_city'] == 'spb'], N)"
   ]
  },
  {
   "cell_type": "code",
   "execution_count": 19,
   "metadata": {},
   "outputs": [
    {
     "name": "stdout",
     "output_type": "stream",
     "text": [
      "Score: 5.77\n",
      "CPU times: user 642 ms, sys: 5 ms, total: 647 ms\n",
      "Wall time: 647 ms\n"
     ]
    }
   ],
   "source": [
    "%%time\n",
    "\n",
    "choose = lambda x: spb_orgs if x['city'] == 'msk' else msk_orgs\n",
    "target = test_users_with_locations.apply(choose, axis=1)\n",
    "\n",
    "predictions = X_test.copy()\n",
    "predictions['target'] = target\n",
    "\n",
    "print_score(MNAP_N(y_test, predictions))"
   ]
  },
  {
   "cell_type": "markdown",
   "metadata": {},
   "source": [
    "# Время ML! Коллаборативная фильтрация"
   ]
  },
  {
   "cell_type": "markdown",
   "metadata": {},
   "source": [
    "## Memory-based\n",
    "\n",
    "Для этой группы методов требуется явное построение матрицы __пользователь-организация__ (__interaction matrix__), где на пересечении $i$-ой строки и $j$-ого столбца будет рейтинг, который $i$-ый пользователь выставил $j$-ой организации или же пропуск, если рейтинг не был установлен. "
   ]
  },
  {
   "cell_type": "code",
   "execution_count": 20,
   "metadata": {},
   "outputs": [],
   "source": [
    "def reduce_reviews(reviews, min_user_reviews=5, min_org_reviews=13):\n",
    "    '''\n",
    "    reduce_reviews(reviews, min_user_reviews=5, min_org_reviews=13)\n",
    "        Убирает из выборки пользователей и организации, у которых менее <min_reviews> отзывов в родном городе. \n",
    "        Оставляет только отзывы туристов. \n",
    "        \n",
    "        Parameters\n",
    "        ----------\n",
    "        reviews : pandas.DataFrame \n",
    "            Выборка отзывов с обязательными полями:\n",
    "                <user_id>, <user_city>.\n",
    "        \n",
    "        min_user_reviews : int, default=5\n",
    "            Минимальное количество отзывов у пользователя, необходимое для включения в выборку.\n",
    "            \n",
    "        min_org_reviews : int, default=13\n",
    "            Минимальное количество отзывов у организации, необходимое для включения в выборку.\n",
    "            \n",
    "        Returns\n",
    "        -------\n",
    "        splitting : tuple\n",
    "            Кортеж из двух наборов.\n",
    "            Каждый набор содержит 2 pandas.DataFrame:\n",
    "                1. Урезанная выборка отзывов\n",
    "                2. Набор уникальных организаций\n",
    "                \n",
    "            Первый набор содержит DataFrame-ы, относящиеся к отзывам, оставленным в родном городе, а второй -\n",
    "            к отзывам, оставленным в чужом городе. ё\n",
    "            \n",
    "        users : pd.DataFrame\n",
    "            Набор уникальных пользователей в выборке\n",
    "        \n",
    "    '''\n",
    "    \n",
    "    inner_reviews = reviews[reviews['user_city'] == reviews['org_city']]\n",
    "    outer_reviews = reviews[reviews['user_city'] != reviews['org_city']]\n",
    "\n",
    "    # оставляем только отзывы туристов на родной город \n",
    "    tourist_users = extract_unique(outer_reviews, 'user_id')\n",
    "    inner_reviews = filter_reviews(inner_reviews, users=tourist_users)\n",
    "    \n",
    "    # выбираем только тех пользователей и организации, у которых есть <min_reviews> отзывов\n",
    "    top_users = count_unique(inner_reviews, 'user_id')\n",
    "    top_users = top_users[top_users['count'] >= min_user_reviews]\n",
    "        \n",
    "    top_orgs = count_unique(inner_reviews, 'org_id')\n",
    "    top_orgs = top_orgs[top_orgs['count'] >= min_org_reviews]\n",
    "        \n",
    "    inner_reviews = filter_reviews(inner_reviews, users=top_users, orgs=top_orgs)\n",
    "    outer_reviews = filter_reviews(outer_reviews, users=top_users)\n",
    "    \n",
    "    # combine reviews\n",
    "    reviews = pd.concat([inner_reviews, outer_reviews])\n",
    "    users = extract_unique(reviews, 'user_id')\n",
    "    orgs = extract_unique(reviews, 'org_id')\n",
    "    \n",
    "    \n",
    "    return (\n",
    "        (\n",
    "            inner_reviews,\n",
    "            extract_unique(inner_reviews, 'org_id')\n",
    "        ),\n",
    "        (\n",
    "            outer_reviews,\n",
    "            extract_unique(outer_reviews, 'org_id')\n",
    "        ),\n",
    "        extract_unique(inner_reviews, 'user_id')\n",
    "    )"
   ]
  },
  {
   "cell_type": "code",
   "execution_count": 21,
   "metadata": {},
   "outputs": [],
   "source": [
    "def create_mappings(df, column):\n",
    "    '''\n",
    "    create_mappings(df, column)\n",
    "        Создаёт маппинг между оригинальными ключами словаря и новыми порядковыми.\n",
    "        \n",
    "        Parameters\n",
    "        ----------\n",
    "        df : pandas.DataFrame\n",
    "            DataFrame с данными.\n",
    "            \n",
    "        column : str\n",
    "            Название колонки, содержащей нужны ключи. \n",
    "        \n",
    "        Returns\n",
    "        -------\n",
    "        code_to_idx : dict\n",
    "            Словарь с маппингом: \"оригинальный ключ\" -> \"новый ключ\".\n",
    "        \n",
    "        idx_to_code : dict\n",
    "            Словарь с маппингом: \"новый ключ\" -> \"оригинальный ключ\".\n",
    "    '''\n",
    "    \n",
    "    code_to_idx = {}\n",
    "    idx_to_code = {}\n",
    "    \n",
    "    for idx, code in enumerate(df[column].to_list()):\n",
    "        code_to_idx[code] = idx\n",
    "        idx_to_code[idx] = code\n",
    "        \n",
    "    return code_to_idx, idx_to_code\n",
    "\n",
    "\n",
    "def map_ids(row, mapping):\n",
    "    '''\n",
    "    Вспомогательная функция\n",
    "    '''\n",
    "    \n",
    "    return mapping[row]\n",
    "\n",
    "\n",
    "def interaction_matrix(reviews, test_users, min_user_reviews=5, min_org_reviews=12): \n",
    "    '''\n",
    "    interaction_matrix(reviews, test_users, min_user_reviews=5, min_org_reviews=12)\n",
    "        Создаёт блочную матрицу взаимодействий (вид матрицы описан в Returns)\n",
    "        \n",
    "        Parameters\n",
    "        ----------\n",
    "        reviews : pd.DataFrame\n",
    "            Отзывы пользователей для матрицы взаимодействий.\n",
    "            \n",
    "        test_users : pd.DataFrame\n",
    "            Пользователи, для которых будет выполнятся предсказание. \n",
    "        \n",
    "        min_user_reviews : int, default=5\n",
    "            Минимальное число отзывов от пользователя, необходимое для включения его в матрицу.\n",
    "        \n",
    "        min_org_reviews : int, default=12\n",
    "            Минимальное число отзывов на организацию, необходимое для включения её в матрицу.\n",
    "    \n",
    "        Returns\n",
    "        -------\n",
    "        InteractionMatrix : scipy.sparse.csr_matrix\n",
    "            Матрица, содержащая рейтинги, выставленные пользователями.\n",
    "            Она блочная и имеет такой вид:\n",
    "                 ---------------------------------------------------\n",
    "                | TRAIN USERS, INNER ORGS | TRAIN USERS, OUTER ORGS |\n",
    "                |                         |                         |\n",
    "                 ---------------------------------------------------\n",
    "                |  TEST USERS, INNER ORGS |  TEST USERS, OUTER ORGS |\n",
    "                |                         |                         |\n",
    "                 ---------------------------------------------------\n",
    "\n",
    "        splitting : tuple\n",
    "            Кортеж, содержащий два целых числа: \n",
    "                1. Число пользователей в обучающей выборке \n",
    "                2. Число организаций в домашнем регионе\n",
    "\n",
    "        splitting: tuple\n",
    "            Кортеж, содержащий два котрежа из двух словарей:\n",
    "                1. (idx_to_uid, uid_to_idx) - содержит маппинг индекса к user_id\n",
    "                2. (idx_to_oid, oid_to_idx) - содержит маппинг индекса к org_id\n",
    "    '''\n",
    "    \n",
    "    \n",
    "    info = reduce_reviews(train_reviews, min_user_reviews, min_org_reviews)\n",
    "    (inner_reviews, inner_orgs), (outer_reviews, outer_orgs), train_users = info\n",
    "    \n",
    "    # удалим из обучающей выборки пользователей, которые есть в тестовой\n",
    "    test_users = test_users[['user_id']]\n",
    "    \n",
    "    train_users = (\n",
    "        pd.merge(train_users, test_users, indicator=True, how='outer')\n",
    "        .query('_merge==\"left_only\"')\n",
    "        .drop('_merge', axis=1)\n",
    "    )\n",
    "    \n",
    "    inner_reviews = filter_reviews(inner_reviews, train_users)\n",
    "    outer_reviews = filter_reviews(outer_reviews, train_users)\n",
    "    \n",
    "    # оставляем отзывы, оставленные тестовыми пользователями\n",
    "    test_reviews = filter_reviews(reviews, test_users, pd.concat([inner_orgs, outer_orgs]))\n",
    "    \n",
    "    # получаем полный набор маппингов\n",
    "    all_users = pd.concat([train_users, test_users])\n",
    "    all_orgs = pd.concat([inner_orgs, outer_orgs])\n",
    "    \n",
    "    uid_to_idx, idx_to_uid = create_mappings(all_users, 'user_id')\n",
    "    oid_to_idx, idx_to_oid = create_mappings(all_orgs, 'org_id')\n",
    "    \n",
    "    # собираем матрицу взаимодействий \n",
    "    reviews = pd.concat([inner_reviews, outer_reviews, test_reviews])    \n",
    "        \n",
    "    I = reviews['user_id'].apply(map_ids, args=[uid_to_idx]).values\n",
    "    J = reviews['org_id'].apply(map_ids, args=[oid_to_idx]).values\n",
    "    values = reviews['rating']\n",
    "        \n",
    "    interactions = sparse.coo_matrix(\n",
    "        (values, (I, J)), \n",
    "        shape=(len(all_users), len(all_orgs)), \n",
    "        dtype=np.float64\n",
    "    ).tocsr()\n",
    "    \n",
    "    \n",
    "    return (\n",
    "        interactions, \n",
    "        (len(train_users), len(inner_orgs)), \n",
    "        (\n",
    "            (idx_to_uid, uid_to_idx),\n",
    "            (idx_to_oid, oid_to_idx)\n",
    "        )\n",
    "    )"
   ]
  },
  {
   "cell_type": "markdown",
   "metadata": {},
   "source": [
    "## ALS"
   ]
  },
  {
   "cell_type": "code",
   "execution_count": 22,
   "metadata": {
    "scrolled": true
   },
   "outputs": [
    {
     "name": "stderr",
     "output_type": "stream",
     "text": [
      "WARNING:root:Intel MKL BLAS detected. Its highly recommend to set the environment variable 'export MKL_NUM_THREADS=1' to disable its internal multithreading\n"
     ]
    },
    {
     "data": {
      "application/vnd.jupyter.widget-view+json": {
       "model_id": "c1ba59ce692b400c9bfd5c415699b4ba",
       "version_major": 2,
       "version_minor": 0
      },
      "text/plain": [
       "  0%|          | 0/75 [00:00<?, ?it/s]"
      ]
     },
     "metadata": {},
     "output_type": "display_data"
    },
    {
     "data": {
      "application/vnd.jupyter.widget-view+json": {
       "model_id": "3204a7e53c654c73bab13f6adb2eae85",
       "version_major": 2,
       "version_minor": 0
      },
      "text/plain": [
       "  0%|          | 0/32242 [00:00<?, ?it/s]"
      ]
     },
     "metadata": {},
     "output_type": "display_data"
    },
    {
     "data": {
      "application/vnd.jupyter.widget-view+json": {
       "model_id": "",
       "version_major": 2,
       "version_minor": 0
      },
      "text/plain": [
       "  0%|          | 0/9545 [00:00<?, ?it/s]"
      ]
     },
     "metadata": {},
     "output_type": "display_data"
    },
    {
     "data": {
      "application/vnd.jupyter.widget-view+json": {
       "model_id": "dd3d090b6d404c2e959d94f2119c10ec",
       "version_major": 2,
       "version_minor": 0
      },
      "text/plain": [
       "  0%|          | 0/75 [00:00<?, ?it/s]"
      ]
     },
     "metadata": {},
     "output_type": "display_data"
    },
    {
     "data": {
      "application/vnd.jupyter.widget-view+json": {
       "model_id": "4d09cbaed2e84e7d9d86598aa60ea625",
       "version_major": 2,
       "version_minor": 0
      },
      "text/plain": [
       "  0%|          | 0/25789 [00:00<?, ?it/s]"
      ]
     },
     "metadata": {},
     "output_type": "display_data"
    },
    {
     "data": {
      "application/vnd.jupyter.widget-view+json": {
       "model_id": "",
       "version_major": 2,
       "version_minor": 0
      },
      "text/plain": [
       "  0%|          | 0/2499 [00:00<?, ?it/s]"
      ]
     },
     "metadata": {},
     "output_type": "display_data"
    },
    {
     "name": "stdout",
     "output_type": "stream",
     "text": [
      "CPU times: user 1min 52s, sys: 1.97 s, total: 1min 54s\n",
      "Wall time: 34.6 s\n"
     ]
    }
   ],
   "source": [
    "%%time\n",
    "\n",
    "\n",
    "import implicit\n",
    "\n",
    "\n",
    "def make_predictions(interactions, X_test, N):\n",
    "    '''\n",
    "    make_predictions(interactions, X_test, N)\n",
    "        Делает рекомендации для пользователей из <X_test> на основе матрицы взаимодействий. \n",
    "        \n",
    "        Parameters\n",
    "        ----------\n",
    "        interactions : scipy.sparse.csr_matrix\n",
    "            Разреженная матрица взаимодействий.\n",
    "            \n",
    "        X_test : pd.DataFrame\n",
    "            Набор тестовых пользователей, для которых нужно сделать рекомендации. \n",
    "        \n",
    "        N : int\n",
    "            Число рекомендаций для каждого пользователя. \n",
    "        \n",
    "        Returns\n",
    "        -------\n",
    "        predictions : pd.DataFrame\n",
    "            DataFrame с колонками <user_id> и <target>. \n",
    "            В <target> содержится список рекомендованных для пользователя org_id.\n",
    "        \n",
    "        \n",
    "    '''\n",
    "    \n",
    "    predictions = X_test[['user_id']].copy()\n",
    "    predictions['target'] = pd.Series(dtype=object)\n",
    "    predictions = predictions.set_index('user_id')\n",
    "    \n",
    "    interactions, (train_users_len, inner_orgs_len), mappings = interactions\n",
    "    (idx_to_uid, uid_to_idx), (idx_to_oid, oid_to_idx) = mappings\n",
    "\n",
    "    base_model = implicit.als.AlternatingLeastSquares(\n",
    "        factors=5, \n",
    "        iterations=75, \n",
    "        regularization=0.05, \n",
    "        random_state=42\n",
    "    )\n",
    "    \n",
    "    base_model.fit(interactions.T)\n",
    "    \n",
    "    orgs_to_filter = list(np.arange(inner_orgs_len))\n",
    "\n",
    "    recommendations = base_model.recommend_all(\n",
    "        interactions,\n",
    "        N=N,\n",
    "        filter_already_liked_items=True,\n",
    "        filter_items=orgs_to_filter,\n",
    "        show_progress=True\n",
    "    )\n",
    "    \n",
    "    for user_id in tqdm(X_test['user_id'].values, leave=False):\n",
    "        predictions.loc[user_id, 'target'] = list(\n",
    "            map(\n",
    "                lambda org_idx: idx_to_oid[org_idx], \n",
    "                recommendations[uid_to_idx[user_id]]\n",
    "            )\n",
    "        )\n",
    "        \n",
    "    return predictions.reset_index()\n",
    "\n",
    "\n",
    "msk_interactions = interaction_matrix(\n",
    "    train_reviews[train_reviews['user_city'] == 'msk'],\n",
    "    test_users_with_locations[test_users_with_locations['city'] == 'msk'],\n",
    ")\n",
    "\n",
    "spb_interactions = interaction_matrix(\n",
    "    train_reviews[train_reviews['user_city'] == 'spb'],\n",
    "    test_users_with_locations[test_users_with_locations['city'] == 'spb'],\n",
    ")       \n",
    "        \n",
    "test_msk_users = test_users_with_locations[test_users_with_locations['city'] == 'msk']\n",
    "test_spb_users = test_users_with_locations[test_users_with_locations['city'] == 'spb']\n",
    "\n",
    "msk_predictions = make_predictions(msk_interactions, test_msk_users, N)\n",
    "spb_predictions = make_predictions(spb_interactions, test_spb_users, N)\n",
    "\n",
    "predictions = pd.concat([msk_predictions, spb_predictions])"
   ]
  },
  {
   "cell_type": "code",
   "execution_count": 23,
   "metadata": {},
   "outputs": [
    {
     "name": "stdout",
     "output_type": "stream",
     "text": [
      "Score: 0.85\n",
      "CPU times: user 592 ms, sys: 12.3 ms, total: 604 ms\n",
      "Wall time: 607 ms\n"
     ]
    }
   ],
   "source": [
    "%%time\n",
    "\n",
    "print_score(MNAP_N(y_test, predictions))"
   ]
  },
  {
   "cell_type": "markdown",
   "metadata": {},
   "source": [
    "# Submission\n",
    "\n",
    "Выберем лучший метод на валидации, переобучим его на всей выборке и сделаем предсказание на тестовой выборке. "
   ]
  },
  {
   "cell_type": "markdown",
   "metadata": {},
   "source": [
    "## Without ML"
   ]
  },
  {
   "cell_type": "code",
   "execution_count": 24,
   "metadata": {},
   "outputs": [],
   "source": [
    "# набор отзывов только от туристов\n",
    "tourist_reviews = reviews[reviews['rating'] >= 4.0]\n",
    "tourist_reviews = tourist_reviews[tourist_reviews['user_city'] != tourist_reviews['org_city']]\n",
    "\n",
    "# выбираем самые популярные места среди туристов из Москвы и Питера\n",
    "msk_orgs = tourist_reviews[tourist_reviews['org_city'] == 'msk']['org_id']\n",
    "msk_orgs = msk_orgs.value_counts().index[:N].to_list()\n",
    "\n",
    "spb_orgs = tourist_reviews[tourist_reviews['org_city'] == 'spb']['org_id']\n",
    "spb_orgs = spb_orgs.value_counts().index[:N].to_list()\n",
    "\n",
    "\n",
    "msk_orgs = str(' '.join(map(str, msk_orgs)))\n",
    "spb_orgs = str(' '.join(map(str, spb_orgs)))"
   ]
  },
  {
   "cell_type": "code",
   "execution_count": 25,
   "metadata": {},
   "outputs": [],
   "source": [
    "test_users = pd.read_csv('data/test_users.csv')\n",
    "test_users['city'] = test_users.merge(users, on='user_id')['city']"
   ]
  },
  {
   "cell_type": "code",
   "execution_count": 26,
   "metadata": {},
   "outputs": [
    {
     "data": {
      "text/html": [
       "<div>\n",
       "<style scoped>\n",
       "    .dataframe tbody tr th:only-of-type {\n",
       "        vertical-align: middle;\n",
       "    }\n",
       "\n",
       "    .dataframe tbody tr th {\n",
       "        vertical-align: top;\n",
       "    }\n",
       "\n",
       "    .dataframe thead th {\n",
       "        text-align: right;\n",
       "    }\n",
       "</style>\n",
       "<table border=\"1\" class=\"dataframe\">\n",
       "  <thead>\n",
       "    <tr style=\"text-align: right;\">\n",
       "      <th></th>\n",
       "      <th>user_id</th>\n",
       "      <th>target</th>\n",
       "    </tr>\n",
       "  </thead>\n",
       "  <tbody>\n",
       "    <tr>\n",
       "      <th>0</th>\n",
       "      <td>3545210947248911048</td>\n",
       "      <td>12046097390037935713 5002407858008059043 14814...</td>\n",
       "    </tr>\n",
       "    <tr>\n",
       "      <th>1</th>\n",
       "      <td>15271987121288045390</td>\n",
       "      <td>12046097390037935713 5002407858008059043 14814...</td>\n",
       "    </tr>\n",
       "    <tr>\n",
       "      <th>2</th>\n",
       "      <td>15016858616184265932</td>\n",
       "      <td>12046097390037935713 5002407858008059043 14814...</td>\n",
       "    </tr>\n",
       "    <tr>\n",
       "      <th>3</th>\n",
       "      <td>12457244142928722989</td>\n",
       "      <td>12046097390037935713 5002407858008059043 14814...</td>\n",
       "    </tr>\n",
       "    <tr>\n",
       "      <th>4</th>\n",
       "      <td>13339684649926251468</td>\n",
       "      <td>15250345250621165867 13573322486152844808 9104...</td>\n",
       "    </tr>\n",
       "  </tbody>\n",
       "</table>\n",
       "</div>"
      ],
      "text/plain": [
       "                user_id                                             target\n",
       "0   3545210947248911048  12046097390037935713 5002407858008059043 14814...\n",
       "1  15271987121288045390  12046097390037935713 5002407858008059043 14814...\n",
       "2  15016858616184265932  12046097390037935713 5002407858008059043 14814...\n",
       "3  12457244142928722989  12046097390037935713 5002407858008059043 14814...\n",
       "4  13339684649926251468  15250345250621165867 13573322486152844808 9104..."
      ]
     },
     "execution_count": 26,
     "metadata": {},
     "output_type": "execute_result"
    }
   ],
   "source": [
    "choose = lambda x: spb_orgs if x['city'] == 'msk' else msk_orgs\n",
    "target = test_users.apply(choose, axis=1)\n",
    "\n",
    "predictions = test_users[['user_id']]\n",
    "predictions['target'] = target\n",
    "\n",
    "predictions.head()"
   ]
  },
  {
   "cell_type": "code",
   "execution_count": 27,
   "metadata": {},
   "outputs": [],
   "source": [
    "predictions.to_csv('answers.csv', index=None)"
   ]
  },
  {
   "cell_type": "markdown",
   "metadata": {},
   "source": [
    "## With ML"
   ]
  },
  {
   "cell_type": "code",
   "execution_count": 28,
   "metadata": {},
   "outputs": [
    {
     "data": {
      "application/vnd.jupyter.widget-view+json": {
       "model_id": "af2b602ccc934dd9bbc13cf18d446b80",
       "version_major": 2,
       "version_minor": 0
      },
      "text/plain": [
       "  0%|          | 0/75 [00:00<?, ?it/s]"
      ]
     },
     "metadata": {},
     "output_type": "display_data"
    },
    {
     "data": {
      "application/vnd.jupyter.widget-view+json": {
       "model_id": "4b38a1a3c5b8410d923db3fb843bdd5d",
       "version_major": 2,
       "version_minor": 0
      },
      "text/plain": [
       "  0%|          | 0/36615 [00:00<?, ?it/s]"
      ]
     },
     "metadata": {},
     "output_type": "display_data"
    },
    {
     "data": {
      "application/vnd.jupyter.widget-view+json": {
       "model_id": "",
       "version_major": 2,
       "version_minor": 0
      },
      "text/plain": [
       "  0%|          | 0/14638 [00:00<?, ?it/s]"
      ]
     },
     "metadata": {},
     "output_type": "display_data"
    },
    {
     "data": {
      "application/vnd.jupyter.widget-view+json": {
       "model_id": "b925d09edfdc45e2a24f2d6294015ad4",
       "version_major": 2,
       "version_minor": 0
      },
      "text/plain": [
       "  0%|          | 0/75 [00:00<?, ?it/s]"
      ]
     },
     "metadata": {},
     "output_type": "display_data"
    },
    {
     "data": {
      "application/vnd.jupyter.widget-view+json": {
       "model_id": "ec77d0a29ca444b5aaf71c416bdc3026",
       "version_major": 2,
       "version_minor": 0
      },
      "text/plain": [
       "  0%|          | 0/25547 [00:00<?, ?it/s]"
      ]
     },
     "metadata": {},
     "output_type": "display_data"
    },
    {
     "data": {
      "application/vnd.jupyter.widget-view+json": {
       "model_id": "",
       "version_major": 2,
       "version_minor": 0
      },
      "text/plain": [
       "  0%|          | 0/2329 [00:00<?, ?it/s]"
      ]
     },
     "metadata": {},
     "output_type": "display_data"
    }
   ],
   "source": [
    "test_users = pd.read_csv('data/test_users.csv')\n",
    "test_users = test_users.merge(users, on='user_id')\n",
    "\n",
    "\n",
    "test_msk_users = test_users[test_users['city'] == 'msk'][['user_id', 'city']]\n",
    "test_spb_users = test_users[test_users['city'] == 'spb'][['user_id', 'city']]\n",
    "\n",
    "\n",
    "msk_interactions = interaction_matrix(\n",
    "    reviews[reviews['user_city'] == 'msk'],\n",
    "    test_msk_users\n",
    ")\n",
    "\n",
    "spb_interactions = interaction_matrix(\n",
    "    reviews[reviews['user_city'] == 'spb'],\n",
    "    test_spb_users\n",
    ")\n",
    "\n",
    "msk_predictions = make_predictions(msk_interactions, test_msk_users, N)\n",
    "spb_predictions = make_predictions(spb_interactions, test_spb_users, N)\n",
    "\n",
    "predictions = pd.concat([msk_predictions, spb_predictions])"
   ]
  },
  {
   "cell_type": "code",
   "execution_count": 29,
   "metadata": {},
   "outputs": [
    {
     "data": {
      "text/html": [
       "<div>\n",
       "<style scoped>\n",
       "    .dataframe tbody tr th:only-of-type {\n",
       "        vertical-align: middle;\n",
       "    }\n",
       "\n",
       "    .dataframe tbody tr th {\n",
       "        vertical-align: top;\n",
       "    }\n",
       "\n",
       "    .dataframe thead th {\n",
       "        text-align: right;\n",
       "    }\n",
       "</style>\n",
       "<table border=\"1\" class=\"dataframe\">\n",
       "  <thead>\n",
       "    <tr style=\"text-align: right;\">\n",
       "      <th></th>\n",
       "      <th>user_id</th>\n",
       "      <th>target</th>\n",
       "    </tr>\n",
       "  </thead>\n",
       "  <tbody>\n",
       "    <tr>\n",
       "      <th>0</th>\n",
       "      <td>3545210947248911048</td>\n",
       "      <td>10899892390879739444 6556420723466820988 12320...</td>\n",
       "    </tr>\n",
       "    <tr>\n",
       "      <th>1</th>\n",
       "      <td>15271987121288045390</td>\n",
       "      <td>6755179149394338096 4264897535035612511 133612...</td>\n",
       "    </tr>\n",
       "    <tr>\n",
       "      <th>2</th>\n",
       "      <td>15016858616184265932</td>\n",
       "      <td>7034326954454250932 14180000520266438941 12018...</td>\n",
       "    </tr>\n",
       "    <tr>\n",
       "      <th>3</th>\n",
       "      <td>12457244142928722989</td>\n",
       "      <td>7034326954454250932 15250345250621165867 12018...</td>\n",
       "    </tr>\n",
       "    <tr>\n",
       "      <th>4</th>\n",
       "      <td>16511650156158419042</td>\n",
       "      <td>10899892390879739444 1232005279283743070 15250...</td>\n",
       "    </tr>\n",
       "  </tbody>\n",
       "</table>\n",
       "</div>"
      ],
      "text/plain": [
       "                user_id                                             target\n",
       "0   3545210947248911048  10899892390879739444 6556420723466820988 12320...\n",
       "1  15271987121288045390  6755179149394338096 4264897535035612511 133612...\n",
       "2  15016858616184265932  7034326954454250932 14180000520266438941 12018...\n",
       "3  12457244142928722989  7034326954454250932 15250345250621165867 12018...\n",
       "4  16511650156158419042  10899892390879739444 1232005279283743070 15250..."
      ]
     },
     "execution_count": 29,
     "metadata": {},
     "output_type": "execute_result"
    }
   ],
   "source": [
    "predictions['target'] = predictions['target'].apply(lambda orgs: ' '.join(map(str, orgs)))\n",
    "predictions.head()"
   ]
  },
  {
   "cell_type": "code",
   "execution_count": 30,
   "metadata": {},
   "outputs": [],
   "source": [
    "predictions.to_csv('answers_ml.csv', index=None)"
   ]
  }
 ],
 "metadata": {
  "jupytercloud": {
   "vault": {
    "secrets": [
     {
      "name": "yt_secrets",
      "uuid": "sec-01fd5qjpw0xwwpv6t83wc41tp8"
     }
    ]
   }
  },
  "kernelspec": {
   "display_name": "Python 3",
   "language": "python",
   "name": "python3"
  },
  "language_info": {
   "codemirror_mode": {
    "name": "ipython",
    "version": 3
   },
   "file_extension": ".py",
   "mimetype": "text/x-python",
   "name": "python",
   "nbconvert_exporter": "python",
   "pygments_lexer": "ipython3",
   "version": "3.8.10"
  }
 },
 "nbformat": 4,
 "nbformat_minor": 5
}
